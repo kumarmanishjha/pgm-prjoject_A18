{
 "cells": [
  {
   "cell_type": "markdown",
   "metadata": {},
   "source": [
    "# DCGAN using Fashion-MNIST"
   ]
  },
  {
   "cell_type": "code",
   "execution_count": null,
   "metadata": {},
   "outputs": [],
   "source": [
    "##Reference: https://towardsdatascience.com/gan-by-example-using-keras-on-tensorflow-backend-1a6d515a60d0"
    "import numpy as np\n",
    "import matplotlib.pyplot as plt\n",
    "import tensorflow as tf\n",
    "from tensorflow import keras\n",
    "from keras import backend as K\n",
    "from keras.models import Sequential\n",
    "from keras.layers import Reshape, Activation, Dense, Conv2D, Dropout\n",
    "from keras.layers import Flatten, BatchNormalization, UpSampling2D, Conv2DTranspose\n",
    "from keras.optimizers import RMSprop"
   ]
  },
  {
   "cell_type": "markdown",
   "metadata": {},
   "source": [
    "### Dataset - Fashion MNIST"
   ]
  },
  {
   "cell_type": "code",
   "execution_count": null,
   "metadata": {},
   "outputs": [],
   "source": [
    "fashion_mnist = keras.datasets.fashion_mnist\n",
    "(train_image, train_label), (test_image, test_label) = fashion_mnist.load_data()"
   ]
  },
  {
   "cell_type": "code",
   "execution_count": null,
   "metadata": {},
   "outputs": [],
   "source": [
    "train_image.shape"
   ]
  },
  {
   "cell_type": "code",
   "execution_count": null,
   "metadata": {
    "scrolled": true
   },
   "outputs": [],
   "source": [
    "train_image= train_image.reshape(-1, 28,28, 1).astype(np.float32)"
   ]
  },
  {
   "cell_type": "code",
   "execution_count": null,
   "metadata": {},
   "outputs": [],
   "source": [
    "train_image.shape"
   ]
  },
  {
   "cell_type": "markdown",
   "metadata": {},
   "source": [
    "## Discriminator"
   ]
  },
  {
   "cell_type": "code",
   "execution_count": null,
   "metadata": {},
   "outputs": [],
   "source": [
    "def Disc():\n",
    "    print('Hey, I am Discriminator. You can call me Disco.')\n",
    "    depth = 64\n",
    "    dropout = .4\n",
    "    channel = 1\n",
    "    #INPUT 28x28\n",
    "    input_shape = (train_image[0].shape[0], train_image[0].shape[1], channel)\n",
    "    Discriminator = Sequential()\n",
    "    Discriminator.add(Conv2D(depth*1, 5, strides=2, input_shape=input_shape,padding='same'))\n",
    "    Discriminator.add(Activation('relu'))\n",
    "    Discriminator.add(Dropout(dropout))\n",
    "    Discriminator.add(Conv2D(depth*2, 5, strides=2, input_shape=input_shape,padding='same'))\n",
    "    Discriminator.add(Activation('relu'))\n",
    "    Discriminator.add(Dropout(dropout))\n",
    "    Discriminator.add(Conv2D(depth*4, 5, strides=2, input_shape=input_shape,padding='same'))\n",
    "    Discriminator.add(Activation('relu'))\n",
    "    Discriminator.add(Dropout(dropout))\n",
    "    Discriminator.add(Conv2D(depth*8, 5, strides=2, input_shape=input_shape,padding='same'))\n",
    "    Discriminator.add(Activation('relu'))\n",
    "    Discriminator.add(Dropout(dropout))\n",
    "    Discriminator.add(Flatten())\n",
    "    Discriminator.add(Dense(1))\n",
    "    Discriminator.add(Activation('sigmoid'))\n",
    "    Discriminator.summary()\n",
    "    return Discriminator"
   ]
  },
  {
   "cell_type": "markdown",
   "metadata": {},
   "source": [
    "## Generator"
   ]
  },
  {
   "cell_type": "code",
   "execution_count": null,
   "metadata": {},
   "outputs": [],
   "source": [
    "def Gen():\n",
    "    print('Hey, I am Generator. You can call me Genko.')\n",
    "    Generator =Sequential()\n",
    "    dropout = 0.4\n",
    "    depth = 64+64+64+64\n",
    "    dim = 7\n",
    "    Generator.add(Dense(dim*dim*depth, input_dim =100))\n",
    "    Generator.add(BatchNormalization(momentum=0.9))\n",
    "    Generator.add(Activation('relu'))\n",
    "    Generator.add(Reshape((dim, dim, depth)))\n",
    "    Generator.add(Dropout(dropout))\n",
    "    #INPUT - dimxdimxdepth\n",
    "    #Output - 2* dim x 2*dim x depth/2\n",
    "    Generator.add(UpSampling2D())\n",
    "    Generator.add(Conv2DTranspose(int(depth/2),5,padding ='same'))\n",
    "    Generator.add(BatchNormalization(momentum=0.9))\n",
    "    Generator.add(Activation('relu'))\n",
    "    Generator.add(UpSampling2D())\n",
    "    Generator.add(Conv2DTranspose(int(depth/4),5,padding ='same'))\n",
    "    Generator.add(BatchNormalization(momentum=0.9))\n",
    "    Generator.add(Activation('relu'))\n",
    "    Generator.add(Conv2DTranspose(int(depth/8),5,padding ='same'))\n",
    "    Generator.add(BatchNormalization(momentum=0.9))\n",
    "    Generator.add(Activation('relu'))\n",
    "    Generator.add(Conv2DTranspose(1,5, padding='same'))\n",
    "    Generator.add(Activation('sigmoid'))\n",
    "    Generator.summary()\n",
    "    return Generator"
   ]
  },
  {
   "cell_type": "markdown",
   "metadata": {},
   "source": [
    "### Discriminator Model"
   ]
  },
  {
   "cell_type": "code",
   "execution_count": null,
   "metadata": {},
   "outputs": [],
   "source": [
    "def Disc_M(noise, y):\n",
    "    optimizer = RMSprop(lr=0.0008, clipvalue=1.0, decay=6e-8)\n",
    "    Disc_model = Sequential([\n",
    "        Disc()\n",
    "    ])\n",
    "    Disc_model.compile(loss='binary_crossentropy', optimizer=optimizer,metrics=['accuracy'])\n",
    "    return Disc_model.train_on_batch(noise, y)"
   ]
  },
  {
   "cell_type": "markdown",
   "metadata": {},
   "source": [
    "## GAN full"
   ]
  },
  {
   "cell_type": "code",
   "execution_count": null,
   "metadata": {
    "scrolled": true
   },
   "outputs": [],
   "source": [
    "def DCGAN(x,y):\n",
    "    optimizer = RMSprop(lr=0.0004, clipvalue=1.0, decay=3e-8)\n",
    "    GAN_model = Sequential([\n",
    "        Gen(),\n",
    "        Disc()\n",
    "    ])\n",
    "    GAN_model.compile(loss='binary_crossentropy', optimizer=optimizer,metrics=['accuracy'])\n",
    "    return GAN_model.train_on_batch(x, y)"
   ]
  },
  {
   "cell_type": "markdown",
   "metadata": {},
   "source": [
    "## How to train your DCGAN"
   ]
  },
  {
   "cell_type": "code",
   "execution_count": null,
   "metadata": {},
   "outputs": [],
   "source": [
    "def train_dcgan(steps = 2000, batch_size = 256, save_interval=0):\n",
    "    if save_interval>0:\n",
    "            noise_input = np.random.uniform(-1.0, 1.0, size=[16, 100])\n",
    "    for i in range(steps):\n",
    "        images_real = train_image[np.random.randint(0, train_image.shape[0], size=batch_size), :, :,:]\n",
    "        noise = np.random.uniform(-1.0, 1.0, size=[batch_size, 100])\n",
    "        images_fake = Gen().predict(noise)\n",
    "        x = np.concatenate((images_real, images_fake))\n",
    "        y = np.ones([2*batch_size, 1])\n",
    "        y[batch_size:, :] = 0\n",
    "        #d_loss = Disc_M().train_on_batch(x, y)\n",
    "        d_loss = Disc_M(x,y)\n",
    "        y = np.ones([batch_size, 1])\n",
    "        noise = np.random.uniform(-1.0, 1.0, size=[batch_size, 100])\n",
    "        #a_loss = DCGAN.train_on_batch(noise, y)\n",
    "        a_loss = DCGAN(noise,y)\n",
    "        log_mesg = \"%d: [D loss: %f, acc: %f]\" % (i, d_loss[0], d_loss[1])\n",
    "        log_mesg = \"%s  [A loss: %f, acc: %f]\" % (log_mesg, a_loss[0], a_loss[1])\n",
    "        print(log_mesg)\n",
    "        if save_interval>0:\n",
    "            if (i+1)%save_interval==0:\n",
    "                self.plot_images(save2file=True, samples=noise_input.shape[0],\\\n",
    "                noise=noise_input, step=(i+1))"
   ]
  },
  {
   "cell_type": "code",
   "execution_count": null,
   "metadata": {},
   "outputs": [],
   "source": [
    "def plot_images(self, save2file=False, fake=True, samples=16, noise=None, step=0):\n",
    "    filename = 'mnist.png'\n",
    "    if fake:\n",
    "        if noise is None:\n",
    "            noise = np.random.uniform(-1.0, 1.0, size=[samples, 100])\n",
    "        else:\n",
    "            filename = \"mnist_%d.png\" % step\n",
    "        images = Gen().predict(noise)\n",
    "    else:\n",
    "        i = np.random.randint(0, self.x_train.shape[0], samples)\n",
    "        images = train_image[i, :, :, :]\n",
    "    plt.figure(figsize=(10,10))\n",
    "    for i in range(images.shape[0]):\n",
    "        plt.subplot(4, 4, i+1)\n",
    "        image = images[i, :, :, :]\n",
    "        image = np.reshape(image, [self.img_rows, self.img_cols])\n",
    "        plt.imshow(image, cmap='gray')\n",
    "        plt.axis('off')\n",
    "    plt.tight_layout()\n",
    "    if save2file:\n",
    "        plt.savefig(filename)\n",
    "        plt.close('all')\n",
    "    else:\n",
    "        plt.show()"
   ]
  },
  {
   "cell_type": "code",
   "execution_count": null,
   "metadata": {},
   "outputs": [],
   "source": [
    "import time\n",
    "start_time = time.time()\n",
    "\n",
    "train_dcgan(steps=10000, batch_size=256, save_interval=500)\n",
    "\n",
    "\n",
    "end_time = time.time()\n",
    "elapsed = start_time-end_time\n",
    "print('Seconds elapsed: ' +str(elapsed))"
   ]
  },
  {
   "cell_type": "code",
   "execution_count": null,
   "metadata": {},
   "outputs": [],
   "source": []
  }
 ],
 "metadata": {
  "kernelspec": {
   "display_name": "Python 3",
   "language": "python",
   "name": "python3"
  },
  "language_info": {
   "codemirror_mode": {
    "name": "ipython",
    "version": 3
   },
   "file_extension": ".py",
   "mimetype": "text/x-python",
   "name": "python",
   "nbconvert_exporter": "python",
   "pygments_lexer": "ipython3",
   "version": "3.5.2"
  }
 },
 "nbformat": 4,
 "nbformat_minor": 2
}
