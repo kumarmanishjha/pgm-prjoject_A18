{
  "nbformat": 4,
  "nbformat_minor": 0,
  "metadata": {
    "colab": {
      "name": "fm_gan_new.ipynb",
      "version": "0.3.2",
      "provenance": []
    },
    "kernelspec": {
      "name": "python3",
      "display_name": "Python 3"
    },
    "accelerator": "GPU"
  },
  "cells": [
    {
      "metadata": {
        "id": "2qYqXIUvjwBQ",
        "colab_type": "code",
        "colab": {
          "base_uri": "https://localhost:8080/",
          "height": 35
        },
        "outputId": "0b7679f1-e1c6-4a56-fbb8-52227d2144e4"
      },
      "cell_type": "code",
      "source": [
        "import argparse\n",
        "import sys\n",
        "import time\n",
        "import keras.backend as K\n",
        "import numpy as np\n",
        "import tensorflow as tf\n",
        "from keras.layers import Input\n",
        "from keras import backend as K\n",
        "from keras import regularizers\n",
        "from keras.layers import Input, BatchNormalization, Dense, GaussianNoise\n",
        "from keras.models import Model"
      ],
      "execution_count": 1,
      "outputs": [
        {
          "output_type": "stream",
          "text": [
            "Using TensorFlow backend.\n"
          ],
          "name": "stderr"
        }
      ]
    },
    {
      "metadata": {
        "id": "P_aYagHykZtS",
        "colab_type": "code",
        "colab": {
          "base_uri": "https://localhost:8080/",
          "height": 361
        },
        "outputId": "81ded5ee-dafa-4be2-ad9c-86ec09e99a7b"
      },
      "cell_type": "code",
      "source": [
        "!pip install pydrive\n",
        "import os\n",
        "from pydrive.auth import GoogleAuth\n",
        "from pydrive.drive import GoogleDrive\n",
        "from google.colab import auth\n",
        "from oauth2client.client import GoogleCredentials"
      ],
      "execution_count": 8,
      "outputs": [
        {
          "output_type": "stream",
          "text": [
            "Collecting pydrive\n",
            "\u001b[?25l  Downloading https://files.pythonhosted.org/packages/52/e0/0e64788e5dd58ce2d6934549676243dc69d982f198524be9b99e9c2a4fd5/PyDrive-1.3.1.tar.gz (987kB)\n",
            "\u001b[K    100% |████████████████████████████████| 993kB 21.5MB/s \n",
            "\u001b[?25hRequirement already satisfied: google-api-python-client>=1.2 in /usr/local/lib/python3.6/dist-packages (from pydrive) (1.6.7)\n",
            "Requirement already satisfied: oauth2client>=4.0.0 in /usr/local/lib/python3.6/dist-packages (from pydrive) (4.1.3)\n",
            "Requirement already satisfied: PyYAML>=3.0 in /usr/local/lib/python3.6/dist-packages (from pydrive) (3.13)\n",
            "Requirement already satisfied: six<2dev,>=1.6.1 in /usr/local/lib/python3.6/dist-packages (from google-api-python-client>=1.2->pydrive) (1.11.0)\n",
            "Requirement already satisfied: httplib2<1dev,>=0.9.2 in /usr/local/lib/python3.6/dist-packages (from google-api-python-client>=1.2->pydrive) (0.11.3)\n",
            "Requirement already satisfied: uritemplate<4dev,>=3.0.0 in /usr/local/lib/python3.6/dist-packages (from google-api-python-client>=1.2->pydrive) (3.0.0)\n",
            "Requirement already satisfied: pyasn1>=0.1.7 in /usr/local/lib/python3.6/dist-packages (from oauth2client>=4.0.0->pydrive) (0.4.4)\n",
            "Requirement already satisfied: pyasn1-modules>=0.0.5 in /usr/local/lib/python3.6/dist-packages (from oauth2client>=4.0.0->pydrive) (0.2.2)\n",
            "Requirement already satisfied: rsa>=3.1.4 in /usr/local/lib/python3.6/dist-packages (from oauth2client>=4.0.0->pydrive) (4.0)\n",
            "Building wheels for collected packages: pydrive\n",
            "  Running setup.py bdist_wheel for pydrive ... \u001b[?25l-\b \bdone\n",
            "\u001b[?25h  Stored in directory: /root/.cache/pip/wheels/fa/d2/9a/d3b6b506c2da98289e5d417215ce34b696db856643bad779f4\n",
            "Successfully built pydrive\n",
            "Installing collected packages: pydrive\n",
            "Successfully installed pydrive-1.3.1\n"
          ],
          "name": "stdout"
        }
      ]
    },
    {
      "metadata": {
        "id": "huK7BpOgkUvx",
        "colab_type": "code",
        "colab": {}
      },
      "cell_type": "code",
      "source": [
        "auth.authenticate_user()\n",
        "gauth = GoogleAuth()\n",
        "gauth.credentials = GoogleCredentials.get_application_default()\n",
        "drive = GoogleDrive(gauth) "
      ],
      "execution_count": 0,
      "outputs": []
    },
    {
      "metadata": {
        "id": "PGmu-rRikm7L",
        "colab_type": "code",
        "colab": {}
      },
      "cell_type": "code",
      "source": [
        "download = drive.CreateFile({'id': '1XCsuyjLP2l04S9uNGIyOAbfeADU_mcJv'})\n",
        "download.GetContentFile('mnist.npz')"
      ],
      "execution_count": 0,
      "outputs": []
    },
    {
      "metadata": {
        "id": "_8CtnGONjwBV",
        "colab_type": "code",
        "colab": {}
      },
      "cell_type": "code",
      "source": [
        "class Generator:\n",
        "    def __init__(self):\n",
        "        # generator\n",
        "        self.input = Input([100])\n",
        "        layer = Dense(500, activation=K.softplus)(self.input)\n",
        "        layer = BatchNormalization()(layer)\n",
        "        layer = Dense(500, activation=K.softplus)(layer)\n",
        "        layer = BatchNormalization()(layer)\n",
        "        self.output = Dense(28 ** 2, activation=K.sigmoid, kernel_regularizer=regularizers.l2())(layer)\n",
        "        self.model = Model(inputs=self.input, outputs=self.output)"
      ],
      "execution_count": 0,
      "outputs": []
    },
    {
      "metadata": {
        "id": "AVGw6peVjwBa",
        "colab_type": "code",
        "colab": {}
      },
      "cell_type": "code",
      "source": [
        "class Discriminator:\n",
        "    def __init__(self):\n",
        "        # discriminator\n",
        "        self.input = Input([28 ** 2])\n",
        "        layer = GaussianNoise(stddev=0.3)(self.input)\n",
        "        layer = Dense(1000)(layer)\n",
        "        layer = GaussianNoise(stddev=0.5)(layer)\n",
        "        layer = Dense(500)(layer)\n",
        "        layer = GaussianNoise(stddev=0.5)(layer)\n",
        "        layer = Dense(250)(layer)\n",
        "        layer = GaussianNoise(stddev=0.5)(layer)\n",
        "        layer = Dense(250)(layer)\n",
        "        layer = GaussianNoise(stddev=0.5)(layer)\n",
        "        layer = Dense(250)(layer)\n",
        "        self.feature = Model(inputs=self.input, outputs=layer)\n",
        "        layer = GaussianNoise(stddev=0.5)(layer)\n",
        "        self.output = Dense(10)(layer)\n",
        "        self.model = Model(inputs=self.input, outputs=self.output)"
      ],
      "execution_count": 0,
      "outputs": []
    },
    {
      "metadata": {
        "id": "nJ1LrwgajwBd",
        "colab_type": "code",
        "colab": {}
      },
      "cell_type": "code",
      "source": [
        "def noise_gen(batch_size, z_dim):\n",
        "    noise = np.zeros((batch_size, z_dim), dtype=np.float32)\n",
        "    for i in range(batch_size):\n",
        "        noise[i, :] = np.random.uniform(0, 1, z_dim)\n",
        "    return noise"
      ],
      "execution_count": 0,
      "outputs": []
    },
    {
      "metadata": {
        "id": "g7TfoGrojwBf",
        "colab_type": "code",
        "colab": {}
      },
      "cell_type": "code",
      "source": [
        "# arguments\n",
        "#parser = argparse.ArgumentParser()\n",
        "#parser.add_argument('--seed', type=int, default=1)\n",
        "#parser.add_argument('--seed_data', type=int, default=1)\n",
        "#parser.add_argument('--unlabeled_weight', type=float, default=1.)\n",
        "#parser.add_argument('--batch_size', type=int, default=100)\n",
        "#parser.add_argument('--count', type=int, default=10)\n",
        "#args = parser.parse_args()\n",
        "#print(args)"
      ],
      "execution_count": 0,
      "outputs": []
    },
    {
      "metadata": {
        "id": "iNg0ABF2jwBj",
        "colab_type": "code",
        "colab": {}
      },
      "cell_type": "code",
      "source": [
        "seed = 1\n",
        "seed_data = 1\n",
        "unlabeled_weight = 1\n",
        "batch_size = 100\n",
        "count =10"
      ],
      "execution_count": 0,
      "outputs": []
    },
    {
      "metadata": {
        "id": "4vu31NlgjwBm",
        "colab_type": "code",
        "colab": {}
      },
      "cell_type": "code",
      "source": [
        "# load MNIST data\n",
        "data = np.load('mnist.npz')\n",
        "trainx = np.concatenate([data['x_train'], data['x_valid']], axis=0)\n",
        "trainx_unl = trainx.copy()\n",
        "trainx_unl2 = trainx.copy()\n",
        "trainy = np.concatenate([data['y_train'], data['y_valid']]).astype(np.int32)\n",
        "#nr_batches_train = int(trainx.shape[0] / args.batch_size)\n",
        "nr_batches_train = int(trainx.shape[0] / batch_size)\n",
        "testx = data['x_test']\n",
        "testy = data['y_test'].astype(np.int32)\n",
        "testy = np.reshape(testy, [testy.shape[0], 1])\n",
        "#nr_batches_test = int(testx.shape[0] / args.batch_size)\n",
        "nr_batches_test = int(testx.shape[0] / batch_size)"
      ],
      "execution_count": 0,
      "outputs": []
    },
    {
      "metadata": {
        "id": "vt6QxxYKjwBq",
        "colab_type": "code",
        "colab": {}
      },
      "cell_type": "code",
      "source": [
        "# select labeled data\n",
        "rng = np.random.RandomState(seed)\n",
        "data_rng = np.random.RandomState(seed_data)\n",
        "inds = data_rng.permutation(trainx.shape[0])\n",
        "trainx = trainx[inds]\n",
        "trainy = trainy[inds]\n",
        "txs = []\n",
        "tys = []\n",
        "for j in range(10):\n",
        "    txs.append(trainx[trainy == j][:count])\n",
        "    tys.append(trainy[trainy == j][:count])\n",
        "txs = np.concatenate(txs, axis=0)\n",
        "tys = np.concatenate(tys, axis=0)"
      ],
      "execution_count": 0,
      "outputs": []
    },
    {
      "metadata": {
        "id": "_WmM2AjvjwBx",
        "colab_type": "code",
        "colab": {}
      },
      "cell_type": "code",
      "source": [
        "# set up tensorflow and keras\n",
        "sess = tf.Session()\n",
        "K.set_session(sess)\n",
        "K.set_learning_phase(1)"
      ],
      "execution_count": 0,
      "outputs": []
    },
    {
      "metadata": {
        "id": "IshT5gaZjwB0",
        "colab_type": "code",
        "colab": {}
      },
      "cell_type": "code",
      "source": [
        "# network\n",
        "discriminator_model = Discriminator()\n",
        "discriminator = discriminator_model.model\n",
        "discriminator_feature = discriminator_model.feature\n",
        "generator_model = Generator()\n",
        "generator = generator_model.model"
      ],
      "execution_count": 0,
      "outputs": []
    },
    {
      "metadata": {
        "id": "nwNOL-pmjwB3",
        "colab_type": "code",
        "colab": {}
      },
      "cell_type": "code",
      "source": [
        "# loss function computation\n",
        "x_label = Input([28 ** 2])\n",
        "x_unlabel = Input([28 ** 2])\n",
        "labels = Input([1], dtype=tf.int32)\n",
        "noise = Input([100])\n",
        "fake_image = generator(noise)\n",
        "output_before_softmax_label = discriminator(x_label)\n",
        "output_before_softmax_unlabel = discriminator(x_unlabel)\n",
        "output_before_softmax_fake = discriminator(fake_image)"
      ],
      "execution_count": 0,
      "outputs": []
    },
    {
      "metadata": {
        "id": "SOA7acs0jwB6",
        "colab_type": "code",
        "colab": {}
      },
      "cell_type": "code",
      "source": [
        "z_exp_label = tf.reduce_mean(tf.reduce_logsumexp(output_before_softmax_label))\n",
        "z_exp_unlabel = tf.reduce_mean(tf.reduce_logsumexp(output_before_softmax_unlabel))\n",
        "z_exp_fake = tf.reduce_mean(tf.reduce_logsumexp(output_before_softmax_fake))\n",
        "index_flattened = tf.range(0, batch_size) * output_before_softmax_label.shape[1] + tf.reshape(labels, [batch_size])\n",
        "l_label = tf.gather(tf.reshape(output_before_softmax_label, [-1]), index_flattened)\n",
        "l_unlabel = tf.reduce_logsumexp(output_before_softmax_unlabel)\n",
        "loss_label = -tf.reduce_mean(l_label) + tf.reduce_mean(z_exp_label)\n",
        "loss_unlabel = -0.5 * tf.reduce_mean(l_unlabel) + 0.5 * tf.reduce_mean(tf.nn.softplus(l_unlabel)) + \\\n",
        "               0.5 * tf.reduce_mean(tf.nn.softplus(tf.reduce_logsumexp(output_before_softmax_fake)))\n",
        "loss_discriminator = tf.add(loss_label, tf.multiply(loss_unlabel, unlabeled_weight))"
      ],
      "execution_count": 0,
      "outputs": []
    },
    {
      "metadata": {
        "id": "6RhVObaIjwB-",
        "colab_type": "code",
        "colab": {}
      },
      "cell_type": "code",
      "source": [
        "feature_generated = tf.reduce_mean(discriminator_feature(fake_image), axis=0)\n",
        "feature_real = tf.reduce_mean(discriminator_feature(x_unlabel), axis=0)\n",
        "loss_generator = tf.reduce_mean(tf.square(feature_generated - feature_real))"
      ],
      "execution_count": 0,
      "outputs": []
    },
    {
      "metadata": {
        "id": "4D1Qzm2LjwCB",
        "colab_type": "code",
        "colab": {}
      },
      "cell_type": "code",
      "source": [
        "train_err = tf.reduce_mean(\n",
        "    tf.to_float(tf.not_equal(tf.argmax(output_before_softmax_label, axis=1), tf.cast(tf.reshape(labels, [batch_size]), tf.int64))))\n",
        "test_error = tf.reduce_mean(\n",
        "    tf.to_float(tf.not_equal(tf.argmax(output_before_softmax_label, axis=1), tf.cast(tf.reshape(labels, [batch_size]), tf.int64))))"
      ],
      "execution_count": 0,
      "outputs": []
    },
    {
      "metadata": {
        "id": "hLK--UTxjwCG",
        "colab_type": "code",
        "colab": {
          "base_uri": "https://localhost:8080/",
          "height": 73
        },
        "outputId": "dabab8df-1f14-4d46-fe41-b797fe289712"
      },
      "cell_type": "code",
      "source": [
        "# train settings\n",
        "discriminator_optimizer = tf.train.AdamOptimizer(learning_rate=0.001)\n",
        "discriminator_gradients = discriminator_optimizer.compute_gradients(loss_discriminator, discriminator.trainable_weights)\n",
        "# discriminator_grads_and_vars = zip(discriminator_gradients, discriminator.trainable_weights)\n",
        "discriminator_train = discriminator_optimizer.apply_gradients(discriminator_gradients)"
      ],
      "execution_count": 23,
      "outputs": [
        {
          "output_type": "stream",
          "text": [
            "/usr/local/lib/python3.6/dist-packages/tensorflow/python/ops/gradients_impl.py:112: UserWarning: Converting sparse IndexedSlices to a dense Tensor of unknown shape. This may consume a large amount of memory.\n",
            "  \"Converting sparse IndexedSlices to a dense Tensor of unknown shape. \"\n"
          ],
          "name": "stderr"
        }
      ]
    },
    {
      "metadata": {
        "id": "burZpRbjjwCL",
        "colab_type": "code",
        "colab": {}
      },
      "cell_type": "code",
      "source": [
        "generator_optimizer = tf.train.AdamOptimizer(learning_rate=0.001)\n",
        "generator_gradients = generator_optimizer.compute_gradients(loss_generator, generator.trainable_weights)\n",
        "# generator_grads_and_vars = zip(generator_gradients, generator.trainable_weights)\n",
        "generator_train = generator_optimizer.apply_gradients(generator_gradients)"
      ],
      "execution_count": 0,
      "outputs": []
    },
    {
      "metadata": {
        "id": "bGW_9z2ZjwCO",
        "colab_type": "code",
        "colab": {}
      },
      "cell_type": "code",
      "source": [
        "sess.run(tf.global_variables_initializer())"
      ],
      "execution_count": 0,
      "outputs": []
    },
    {
      "metadata": {
        "id": "N8U6heFXjwCU",
        "colab_type": "code",
        "colab": {
          "base_uri": "https://localhost:8080/",
          "height": 5417
        },
        "outputId": "9d2dd18b-4e0f-497f-983e-f2978083a10e"
      },
      "cell_type": "code",
      "source": [
        "for epoch in range(300):\n",
        "    begin = time.time()\n",
        "\n",
        "    # construct randomly permuted minibatches\n",
        "    trainx = []\n",
        "    trainy = []\n",
        "    for t in range(int(trainx_unl.shape[0] / txs.shape[0])):\n",
        "        inds = rng.permutation(txs.shape[0])\n",
        "        trainx.append(txs[inds])\n",
        "        trainy.append(tys[inds])\n",
        "    trainx = np.concatenate(trainx, axis=0)\n",
        "    trainy = np.concatenate(trainy, axis=0)\n",
        "    trainy = np.reshape(trainy, [trainy.shape[0], 1])\n",
        "    trainx_unl = trainx_unl[rng.permutation(trainx_unl.shape[0])]\n",
        "    trainx_unl2 = trainx_unl2[rng.permutation(trainx_unl2.shape[0])]\n",
        "\n",
        "    # train\n",
        "    loss_label_record = 0.\n",
        "    loss_unlabel_record = 0.\n",
        "    train_err_record = 0.\n",
        "    for t in range(nr_batches_train):\n",
        "        noise_feed = noise_gen(batch_size, 100)\n",
        "        _, loss_label_this, loss_unlabel_this, train_err_this = sess.run(\n",
        "            [discriminator_train, loss_label, loss_unlabel, train_err], feed_dict={\n",
        "                x_label: trainx[t * batch_size:(t + 1) * batch_size],\n",
        "                x_unlabel: trainx_unl[t * batch_size:(t + 1) * batch_size],\n",
        "                labels: trainy[t * batch_size:(t + 1) * batch_size],\n",
        "                noise: noise_feed\n",
        "            })\n",
        "\n",
        "        loss_label_record += loss_label_this\n",
        "        loss_unlabel_record += loss_unlabel_this\n",
        "        train_err_record += train_err_this\n",
        "\n",
        "        noise_feed = noise_gen(batch_size, 100)\n",
        "        _, loss_generator_this = sess.run([generator_train, loss_generator], feed_dict={\n",
        "            noise: noise_feed,\n",
        "            x_unlabel: trainx_unl2[t * batch_size:(t + 1) * batch_size]\n",
        "        })\n",
        "    loss_label_record /= nr_batches_train\n",
        "    loss_unlabel_record /= nr_batches_train\n",
        "    train_err_record /= nr_batches_train\n",
        "\n",
        "    # test\n",
        "    test_err_record = 0.\n",
        "    for t in range(nr_batches_test):\n",
        "        test_err_this = sess.run(test_error, feed_dict={\n",
        "            x_label: testx[t * batch_size:(t + 1) * batch_size],\n",
        "            labels: testy[t * batch_size:(t + 1) * batch_size]\n",
        "        })\n",
        "        test_err_record += test_err_this\n",
        "    test_err_record /= nr_batches_test\n",
        "\n",
        "    # report\n",
        "    print(\"Iteration %d, time = %ds, loss_lab = %.4f, loss_unl = %.4f, train err = %.4f, test err = %.4f\" % (\n",
        "        epoch, time.time() - begin, loss_label_record, loss_unlabel_record, train_err_record, test_err_record))\n",
        "    sys.stdout.flush()"
      ],
      "execution_count": 26,
      "outputs": [
        {
          "output_type": "stream",
          "text": [
            "Iteration 0, time = 10s, loss_lab = 6.8137, loss_unl = 0.5532, train err = 0.2790, test err = 0.3787\n",
            "Iteration 1, time = 9s, loss_lab = 5.8442, loss_unl = 0.2848, train err = 0.0948, test err = 0.3382\n",
            "Iteration 2, time = 9s, loss_lab = 5.5411, loss_unl = 0.2057, train err = 0.0479, test err = 0.3403\n",
            "Iteration 3, time = 9s, loss_lab = 5.3620, loss_unl = 0.1410, train err = 0.0284, test err = 0.3327\n",
            "Iteration 4, time = 9s, loss_lab = 5.2990, loss_unl = 0.1271, train err = 0.0228, test err = 0.2915\n",
            "Iteration 5, time = 9s, loss_lab = 5.2255, loss_unl = 0.1166, train err = 0.0169, test err = 0.3079\n",
            "Iteration 6, time = 9s, loss_lab = 5.1833, loss_unl = 0.1077, train err = 0.0153, test err = 0.2937\n",
            "Iteration 7, time = 9s, loss_lab = 5.1610, loss_unl = 0.1011, train err = 0.0134, test err = 0.2936\n",
            "Iteration 8, time = 9s, loss_lab = 5.1392, loss_unl = 0.0926, train err = 0.0126, test err = 0.3068\n",
            "Iteration 9, time = 9s, loss_lab = 5.1243, loss_unl = 0.0895, train err = 0.0121, test err = 0.2935\n",
            "Iteration 10, time = 9s, loss_lab = 5.1135, loss_unl = 0.0871, train err = 0.0114, test err = 0.3076\n",
            "Iteration 11, time = 9s, loss_lab = 5.0918, loss_unl = 0.0801, train err = 0.0103, test err = 0.3026\n",
            "Iteration 12, time = 9s, loss_lab = 5.0918, loss_unl = 0.0834, train err = 0.0116, test err = 0.2975\n",
            "Iteration 13, time = 9s, loss_lab = 5.0788, loss_unl = 0.0784, train err = 0.0101, test err = 0.3016\n",
            "Iteration 14, time = 9s, loss_lab = 5.0691, loss_unl = 0.0790, train err = 0.0101, test err = 0.2968\n",
            "Iteration 15, time = 9s, loss_lab = 5.0643, loss_unl = 0.0779, train err = 0.0097, test err = 0.3041\n",
            "Iteration 16, time = 9s, loss_lab = 5.0548, loss_unl = 0.0730, train err = 0.0092, test err = 0.2979\n",
            "Iteration 17, time = 9s, loss_lab = 5.0618, loss_unl = 0.0811, train err = 0.0100, test err = 0.3226\n",
            "Iteration 18, time = 9s, loss_lab = 5.0519, loss_unl = 0.0826, train err = 0.0095, test err = 0.2949\n",
            "Iteration 19, time = 9s, loss_lab = 5.0435, loss_unl = 0.0732, train err = 0.0088, test err = 0.3097\n",
            "Iteration 20, time = 9s, loss_lab = 5.0204, loss_unl = 0.0718, train err = 0.0074, test err = 0.3107\n",
            "Iteration 21, time = 9s, loss_lab = 5.0225, loss_unl = 0.0714, train err = 0.0073, test err = 0.3011\n",
            "Iteration 22, time = 9s, loss_lab = 5.0203, loss_unl = 0.0681, train err = 0.0075, test err = 0.2986\n",
            "Iteration 23, time = 9s, loss_lab = 5.0179, loss_unl = 0.0663, train err = 0.0081, test err = 0.3018\n",
            "Iteration 24, time = 9s, loss_lab = 5.0105, loss_unl = 0.0698, train err = 0.0074, test err = 0.3092\n",
            "Iteration 25, time = 9s, loss_lab = 5.0144, loss_unl = 0.0676, train err = 0.0078, test err = 0.3042\n",
            "Iteration 26, time = 9s, loss_lab = 5.0072, loss_unl = 0.0653, train err = 0.0073, test err = 0.2943\n",
            "Iteration 27, time = 9s, loss_lab = 5.0111, loss_unl = 0.0664, train err = 0.0065, test err = 0.3001\n",
            "Iteration 28, time = 9s, loss_lab = 5.0146, loss_unl = 0.0666, train err = 0.0076, test err = 0.3001\n",
            "Iteration 29, time = 9s, loss_lab = 4.9945, loss_unl = 0.0590, train err = 0.0072, test err = 0.3029\n",
            "Iteration 30, time = 9s, loss_lab = 4.9994, loss_unl = 0.0626, train err = 0.0072, test err = 0.2982\n",
            "Iteration 31, time = 9s, loss_lab = 5.0034, loss_unl = 0.0679, train err = 0.0070, test err = 0.2990\n",
            "Iteration 32, time = 9s, loss_lab = 4.9946, loss_unl = 0.0632, train err = 0.0071, test err = 0.3147\n",
            "Iteration 33, time = 9s, loss_lab = 4.9926, loss_unl = 0.0612, train err = 0.0067, test err = 0.3026\n",
            "Iteration 34, time = 9s, loss_lab = 4.9894, loss_unl = 0.0625, train err = 0.0064, test err = 0.2924\n",
            "Iteration 35, time = 9s, loss_lab = 4.9892, loss_unl = 0.0598, train err = 0.0062, test err = 0.3078\n",
            "Iteration 36, time = 9s, loss_lab = 4.9892, loss_unl = 0.0590, train err = 0.0068, test err = 0.3052\n",
            "Iteration 37, time = 9s, loss_lab = 4.9890, loss_unl = 0.0659, train err = 0.0066, test err = 0.2971\n",
            "Iteration 38, time = 9s, loss_lab = 4.9805, loss_unl = 0.0582, train err = 0.0060, test err = 0.3035\n",
            "Iteration 39, time = 9s, loss_lab = 4.9883, loss_unl = 0.0619, train err = 0.0060, test err = 0.2993\n",
            "Iteration 40, time = 9s, loss_lab = 4.9820, loss_unl = 0.0666, train err = 0.0067, test err = 0.2960\n",
            "Iteration 41, time = 9s, loss_lab = 4.9883, loss_unl = 0.0628, train err = 0.0066, test err = 0.2894\n",
            "Iteration 42, time = 9s, loss_lab = 4.9821, loss_unl = 0.0602, train err = 0.0066, test err = 0.2912\n",
            "Iteration 43, time = 9s, loss_lab = 4.9814, loss_unl = 0.0620, train err = 0.0062, test err = 0.3081\n",
            "Iteration 44, time = 9s, loss_lab = 4.9784, loss_unl = 0.0617, train err = 0.0061, test err = 0.2970\n",
            "Iteration 45, time = 9s, loss_lab = 4.9772, loss_unl = 0.0568, train err = 0.0066, test err = 0.2936\n",
            "Iteration 46, time = 9s, loss_lab = 4.9872, loss_unl = 0.0588, train err = 0.0070, test err = 0.3052\n",
            "Iteration 47, time = 9s, loss_lab = 4.9692, loss_unl = 0.0560, train err = 0.0058, test err = 0.2970\n",
            "Iteration 48, time = 9s, loss_lab = 4.9725, loss_unl = 0.0633, train err = 0.0055, test err = 0.3079\n",
            "Iteration 49, time = 9s, loss_lab = 4.9737, loss_unl = 0.0563, train err = 0.0063, test err = 0.2921\n",
            "Iteration 50, time = 9s, loss_lab = 4.9755, loss_unl = 0.0583, train err = 0.0060, test err = 0.2979\n",
            "Iteration 51, time = 9s, loss_lab = 4.9799, loss_unl = 0.0616, train err = 0.0063, test err = 0.2903\n",
            "Iteration 52, time = 9s, loss_lab = 4.9770, loss_unl = 0.0595, train err = 0.0066, test err = 0.2904\n",
            "Iteration 53, time = 9s, loss_lab = 4.9723, loss_unl = 0.0607, train err = 0.0059, test err = 0.2941\n",
            "Iteration 54, time = 9s, loss_lab = 4.9695, loss_unl = 0.0566, train err = 0.0063, test err = 0.3023\n",
            "Iteration 55, time = 9s, loss_lab = 4.9729, loss_unl = 0.0588, train err = 0.0066, test err = 0.2994\n",
            "Iteration 56, time = 9s, loss_lab = 4.9629, loss_unl = 0.0592, train err = 0.0061, test err = 0.2979\n",
            "Iteration 57, time = 9s, loss_lab = 4.9663, loss_unl = 0.0576, train err = 0.0061, test err = 0.3020\n",
            "Iteration 58, time = 9s, loss_lab = 4.9706, loss_unl = 0.0612, train err = 0.0062, test err = 0.2980\n",
            "Iteration 59, time = 9s, loss_lab = 4.9669, loss_unl = 0.0575, train err = 0.0058, test err = 0.3068\n",
            "Iteration 60, time = 9s, loss_lab = 4.9723, loss_unl = 0.0608, train err = 0.0061, test err = 0.3046\n",
            "Iteration 61, time = 9s, loss_lab = 4.9637, loss_unl = 0.0547, train err = 0.0060, test err = 0.2949\n",
            "Iteration 62, time = 9s, loss_lab = 4.9646, loss_unl = 0.0568, train err = 0.0059, test err = 0.2865\n",
            "Iteration 63, time = 9s, loss_lab = 4.9649, loss_unl = 0.0588, train err = 0.0056, test err = 0.3002\n",
            "Iteration 64, time = 9s, loss_lab = 4.9712, loss_unl = 0.0591, train err = 0.0066, test err = 0.2864\n",
            "Iteration 65, time = 9s, loss_lab = 4.9700, loss_unl = 0.0572, train err = 0.0060, test err = 0.3032\n",
            "Iteration 66, time = 9s, loss_lab = 4.9630, loss_unl = 0.0570, train err = 0.0058, test err = 0.2929\n",
            "Iteration 67, time = 9s, loss_lab = 4.9657, loss_unl = 0.0562, train err = 0.0062, test err = 0.2975\n",
            "Iteration 68, time = 9s, loss_lab = 4.9607, loss_unl = 0.0574, train err = 0.0059, test err = 0.2978\n",
            "Iteration 69, time = 9s, loss_lab = 4.9610, loss_unl = 0.0565, train err = 0.0059, test err = 0.2975\n",
            "Iteration 70, time = 9s, loss_lab = 4.9645, loss_unl = 0.0532, train err = 0.0059, test err = 0.3071\n",
            "Iteration 71, time = 9s, loss_lab = 4.9561, loss_unl = 0.0543, train err = 0.0057, test err = 0.2979\n",
            "Iteration 72, time = 9s, loss_lab = 4.9568, loss_unl = 0.0521, train err = 0.0059, test err = 0.2904\n",
            "Iteration 73, time = 9s, loss_lab = 4.9637, loss_unl = 0.0536, train err = 0.0063, test err = 0.3071\n",
            "Iteration 74, time = 9s, loss_lab = 4.9674, loss_unl = 0.0586, train err = 0.0060, test err = 0.3031\n",
            "Iteration 75, time = 9s, loss_lab = 4.9626, loss_unl = 0.0563, train err = 0.0060, test err = 0.2865\n",
            "Iteration 76, time = 9s, loss_lab = 4.9623, loss_unl = 0.0581, train err = 0.0062, test err = 0.3039\n",
            "Iteration 77, time = 9s, loss_lab = 4.9541, loss_unl = 0.0569, train err = 0.0058, test err = 0.2970\n",
            "Iteration 78, time = 9s, loss_lab = 4.9631, loss_unl = 0.0609, train err = 0.0061, test err = 0.3057\n",
            "Iteration 79, time = 9s, loss_lab = 4.9540, loss_unl = 0.0547, train err = 0.0054, test err = 0.2911\n",
            "Iteration 80, time = 9s, loss_lab = 4.9521, loss_unl = 0.0553, train err = 0.0059, test err = 0.2942\n",
            "Iteration 81, time = 9s, loss_lab = 4.9584, loss_unl = 0.0591, train err = 0.0063, test err = 0.3007\n",
            "Iteration 82, time = 9s, loss_lab = 4.9588, loss_unl = 0.0561, train err = 0.0058, test err = 0.2961\n",
            "Iteration 83, time = 9s, loss_lab = 11.6503, loss_unl = 1.6962, train err = 0.1239, test err = 0.3025\n",
            "Iteration 84, time = 9s, loss_lab = 4.9840, loss_unl = 0.0634, train err = 0.0071, test err = 0.3012\n",
            "Iteration 85, time = 9s, loss_lab = 4.9669, loss_unl = 0.0594, train err = 0.0056, test err = 0.2915\n",
            "Iteration 86, time = 9s, loss_lab = 4.9562, loss_unl = 0.0566, train err = 0.0063, test err = 0.2947\n",
            "Iteration 87, time = 9s, loss_lab = 4.9590, loss_unl = 0.0539, train err = 0.0060, test err = 0.3078\n",
            "Iteration 88, time = 9s, loss_lab = 4.9547, loss_unl = 0.0581, train err = 0.0060, test err = 0.3044\n",
            "Iteration 89, time = 9s, loss_lab = 4.9553, loss_unl = 0.0556, train err = 0.0074, test err = 0.3012\n",
            "Iteration 90, time = 9s, loss_lab = 4.9534, loss_unl = 0.0567, train err = 0.0063, test err = 0.3023\n",
            "Iteration 91, time = 9s, loss_lab = 4.9582, loss_unl = 0.0586, train err = 0.0059, test err = 0.3005\n",
            "Iteration 92, time = 9s, loss_lab = 4.9523, loss_unl = 0.0538, train err = 0.0061, test err = 0.3000\n",
            "Iteration 93, time = 9s, loss_lab = 4.9580, loss_unl = 0.0586, train err = 0.0059, test err = 0.3002\n",
            "Iteration 94, time = 9s, loss_lab = 4.9544, loss_unl = 0.0524, train err = 0.0059, test err = 0.3043\n",
            "Iteration 95, time = 9s, loss_lab = 4.9551, loss_unl = 0.0555, train err = 0.0067, test err = 0.2978\n",
            "Iteration 96, time = 9s, loss_lab = 4.9507, loss_unl = 0.0528, train err = 0.0058, test err = 0.2939\n",
            "Iteration 97, time = 9s, loss_lab = 4.9519, loss_unl = 0.0566, train err = 0.0068, test err = 0.2915\n",
            "Iteration 98, time = 9s, loss_lab = 4.9538, loss_unl = 0.0573, train err = 0.0057, test err = 0.3000\n",
            "Iteration 99, time = 9s, loss_lab = 4.9494, loss_unl = 0.0524, train err = 0.0052, test err = 0.2991\n",
            "Iteration 100, time = 9s, loss_lab = 4.9552, loss_unl = 0.0568, train err = 0.0059, test err = 0.3074\n",
            "Iteration 101, time = 9s, loss_lab = 4.9518, loss_unl = 0.0541, train err = 0.0055, test err = 0.3001\n",
            "Iteration 102, time = 9s, loss_lab = 4.9533, loss_unl = 0.0557, train err = 0.0058, test err = 0.3014\n",
            "Iteration 103, time = 9s, loss_lab = 4.9512, loss_unl = 0.0511, train err = 0.0054, test err = 0.2955\n",
            "Iteration 104, time = 9s, loss_lab = 4.9596, loss_unl = 0.0555, train err = 0.0061, test err = 0.2906\n",
            "Iteration 105, time = 9s, loss_lab = 4.9490, loss_unl = 0.0549, train err = 0.0056, test err = 0.3011\n",
            "Iteration 106, time = 9s, loss_lab = 4.9530, loss_unl = 0.0579, train err = 0.0053, test err = 0.2990\n",
            "Iteration 107, time = 9s, loss_lab = 4.9535, loss_unl = 0.0528, train err = 0.0063, test err = 0.3014\n",
            "Iteration 108, time = 9s, loss_lab = 4.9642, loss_unl = 0.0603, train err = 0.0062, test err = 0.2980\n",
            "Iteration 109, time = 9s, loss_lab = 4.9491, loss_unl = 0.0539, train err = 0.0052, test err = 0.2929\n",
            "Iteration 110, time = 9s, loss_lab = 4.9460, loss_unl = 0.0486, train err = 0.0062, test err = 0.2955\n",
            "Iteration 111, time = 9s, loss_lab = 4.9493, loss_unl = 0.0492, train err = 0.0058, test err = 0.2880\n",
            "Iteration 112, time = 9s, loss_lab = 4.9490, loss_unl = 0.0510, train err = 0.0057, test err = 0.2955\n",
            "Iteration 113, time = 9s, loss_lab = 4.9538, loss_unl = 0.0581, train err = 0.0055, test err = 0.2956\n",
            "Iteration 114, time = 9s, loss_lab = 4.9512, loss_unl = 0.0542, train err = 0.0056, test err = 0.2937\n",
            "Iteration 115, time = 9s, loss_lab = 4.9467, loss_unl = 0.0547, train err = 0.0059, test err = 0.2921\n",
            "Iteration 116, time = 9s, loss_lab = 4.9489, loss_unl = 0.0559, train err = 0.0051, test err = 0.2998\n",
            "Iteration 117, time = 9s, loss_lab = 4.9497, loss_unl = 0.0543, train err = 0.0054, test err = 0.2966\n",
            "Iteration 118, time = 9s, loss_lab = 4.9488, loss_unl = 0.0561, train err = 0.0054, test err = 0.3045\n",
            "Iteration 119, time = 9s, loss_lab = 4.9520, loss_unl = 0.0587, train err = 0.0058, test err = 0.3107\n",
            "Iteration 120, time = 9s, loss_lab = 4.9479, loss_unl = 0.0534, train err = 0.0054, test err = 0.2979\n",
            "Iteration 121, time = 9s, loss_lab = 4.9504, loss_unl = 0.0572, train err = 0.0051, test err = 0.3068\n",
            "Iteration 122, time = 9s, loss_lab = 4.9508, loss_unl = 0.0536, train err = 0.0061, test err = 0.2995\n",
            "Iteration 123, time = 9s, loss_lab = 4.9468, loss_unl = 0.0543, train err = 0.0053, test err = 0.2963\n",
            "Iteration 124, time = 9s, loss_lab = 4.9458, loss_unl = 0.0521, train err = 0.0056, test err = 0.2852\n",
            "Iteration 125, time = 9s, loss_lab = 4.9533, loss_unl = 0.0539, train err = 0.0058, test err = 0.2950\n",
            "Iteration 126, time = 9s, loss_lab = 4.9477, loss_unl = 0.0548, train err = 0.0053, test err = 0.2935\n",
            "Iteration 127, time = 9s, loss_lab = 4.9472, loss_unl = 0.0538, train err = 0.0049, test err = 0.3037\n",
            "Iteration 128, time = 9s, loss_lab = 4.9497, loss_unl = 0.0533, train err = 0.0055, test err = 0.2908\n",
            "Iteration 129, time = 9s, loss_lab = 4.9423, loss_unl = 0.0522, train err = 0.0055, test err = 0.2902\n",
            "Iteration 130, time = 9s, loss_lab = 8.0506, loss_unl = 0.8914, train err = 0.0816, test err = 0.5600\n",
            "Iteration 131, time = 9s, loss_lab = 5.0271, loss_unl = 0.0589, train err = 0.0138, test err = 0.2962\n",
            "Iteration 132, time = 9s, loss_lab = 4.9429, loss_unl = 0.0497, train err = 0.0051, test err = 0.3050\n",
            "Iteration 133, time = 9s, loss_lab = 4.9342, loss_unl = 0.0516, train err = 0.0043, test err = 0.2979\n",
            "Iteration 134, time = 9s, loss_lab = 4.9357, loss_unl = 0.0498, train err = 0.0046, test err = 0.2921\n",
            "Iteration 135, time = 9s, loss_lab = 4.9367, loss_unl = 0.0465, train err = 0.0050, test err = 0.3002\n",
            "Iteration 136, time = 9s, loss_lab = 4.9361, loss_unl = 0.0553, train err = 0.0052, test err = 0.2945\n",
            "Iteration 137, time = 9s, loss_lab = 4.9346, loss_unl = 0.0541, train err = 0.0046, test err = 0.2925\n",
            "Iteration 138, time = 9s, loss_lab = 4.9375, loss_unl = 0.0530, train err = 0.0049, test err = 0.3042\n",
            "Iteration 139, time = 9s, loss_lab = 4.9373, loss_unl = 0.0523, train err = 0.0052, test err = 0.2987\n",
            "Iteration 140, time = 9s, loss_lab = 4.9342, loss_unl = 0.0526, train err = 0.0049, test err = 0.2906\n",
            "Iteration 141, time = 9s, loss_lab = 4.9406, loss_unl = 0.0572, train err = 0.0049, test err = 0.2992\n",
            "Iteration 142, time = 9s, loss_lab = 4.9408, loss_unl = 0.0567, train err = 0.0052, test err = 0.2981\n",
            "Iteration 143, time = 9s, loss_lab = 4.9377, loss_unl = 0.0612, train err = 0.0046, test err = 0.2973\n",
            "Iteration 144, time = 9s, loss_lab = 4.9358, loss_unl = 0.0524, train err = 0.0044, test err = 0.2970\n",
            "Iteration 145, time = 9s, loss_lab = 4.9376, loss_unl = 0.0540, train err = 0.0051, test err = 0.3004\n",
            "Iteration 146, time = 9s, loss_lab = 4.9399, loss_unl = 0.0542, train err = 0.0046, test err = 0.2972\n",
            "Iteration 147, time = 9s, loss_lab = 4.9470, loss_unl = 0.0562, train err = 0.0055, test err = 0.2965\n",
            "Iteration 148, time = 9s, loss_lab = 4.9438, loss_unl = 0.0561, train err = 0.0053, test err = 0.2913\n",
            "Iteration 149, time = 9s, loss_lab = 4.9458, loss_unl = 0.0547, train err = 0.0050, test err = 0.2950\n",
            "Iteration 150, time = 9s, loss_lab = 4.9461, loss_unl = 0.0524, train err = 0.0057, test err = 0.2989\n",
            "Iteration 151, time = 9s, loss_lab = 4.9488, loss_unl = 0.0529, train err = 0.0061, test err = 0.2880\n",
            "Iteration 152, time = 9s, loss_lab = 4.9511, loss_unl = 0.0559, train err = 0.0058, test err = 0.3020\n",
            "Iteration 153, time = 9s, loss_lab = 4.9413, loss_unl = 0.0522, train err = 0.0057, test err = 0.2959\n",
            "Iteration 154, time = 9s, loss_lab = 4.9518, loss_unl = 0.0575, train err = 0.0055, test err = 0.2938\n",
            "Iteration 155, time = 9s, loss_lab = 4.9457, loss_unl = 0.0563, train err = 0.0053, test err = 0.2857\n",
            "Iteration 156, time = 9s, loss_lab = 4.9393, loss_unl = 0.0542, train err = 0.0051, test err = 0.2992\n",
            "Iteration 157, time = 9s, loss_lab = 4.9387, loss_unl = 0.0559, train err = 0.0048, test err = 0.2953\n",
            "Iteration 158, time = 9s, loss_lab = 7.1789, loss_unl = 0.5019, train err = 0.0847, test err = 0.3068\n",
            "Iteration 159, time = 9s, loss_lab = 4.9529, loss_unl = 0.0624, train err = 0.0059, test err = 0.2969\n",
            "Iteration 160, time = 9s, loss_lab = 4.9380, loss_unl = 0.0535, train err = 0.0048, test err = 0.2994\n",
            "Iteration 161, time = 9s, loss_lab = 4.9308, loss_unl = 0.0568, train err = 0.0043, test err = 0.3010\n",
            "Iteration 162, time = 9s, loss_lab = 4.9284, loss_unl = 0.0533, train err = 0.0049, test err = 0.2901\n",
            "Iteration 163, time = 9s, loss_lab = 4.9356, loss_unl = 0.0523, train err = 0.0050, test err = 0.2915\n",
            "Iteration 164, time = 9s, loss_lab = 4.9349, loss_unl = 0.0526, train err = 0.0055, test err = 0.3010\n",
            "Iteration 165, time = 9s, loss_lab = 4.9369, loss_unl = 0.0536, train err = 0.0053, test err = 0.2972\n",
            "Iteration 166, time = 9s, loss_lab = 4.9349, loss_unl = 0.0535, train err = 0.0047, test err = 0.2894\n",
            "Iteration 167, time = 9s, loss_lab = 4.9389, loss_unl = 0.0522, train err = 0.0056, test err = 0.2945\n",
            "Iteration 168, time = 9s, loss_lab = 4.9375, loss_unl = 0.0549, train err = 0.0044, test err = 0.2991\n",
            "Iteration 169, time = 9s, loss_lab = 4.9357, loss_unl = 0.0537, train err = 0.0046, test err = 0.2998\n",
            "Iteration 170, time = 9s, loss_lab = 4.9345, loss_unl = 0.0549, train err = 0.0053, test err = 0.2975\n",
            "Iteration 171, time = 9s, loss_lab = 4.9392, loss_unl = 0.0534, train err = 0.0055, test err = 0.2908\n",
            "Iteration 172, time = 9s, loss_lab = 4.9414, loss_unl = 0.0566, train err = 0.0054, test err = 0.2950\n",
            "Iteration 173, time = 9s, loss_lab = 4.9434, loss_unl = 0.0592, train err = 0.0054, test err = 0.2969\n",
            "Iteration 174, time = 9s, loss_lab = 4.9475, loss_unl = 0.0575, train err = 0.0052, test err = 0.2942\n",
            "Iteration 175, time = 9s, loss_lab = 4.9386, loss_unl = 0.0524, train err = 0.0052, test err = 0.2942\n",
            "Iteration 176, time = 9s, loss_lab = 4.9447, loss_unl = 0.0555, train err = 0.0052, test err = 0.3110\n",
            "Iteration 177, time = 9s, loss_lab = 4.9372, loss_unl = 0.0539, train err = 0.0051, test err = 0.2989\n",
            "Iteration 178, time = 9s, loss_lab = 4.9387, loss_unl = 0.0503, train err = 0.0051, test err = 0.3005\n",
            "Iteration 179, time = 9s, loss_lab = 4.9439, loss_unl = 0.0556, train err = 0.0053, test err = 0.2942\n",
            "Iteration 180, time = 9s, loss_lab = 4.9455, loss_unl = 0.0548, train err = 0.0052, test err = 0.2963\n",
            "Iteration 181, time = 9s, loss_lab = 4.9476, loss_unl = 0.0527, train err = 0.0059, test err = 0.3083\n",
            "Iteration 182, time = 9s, loss_lab = 4.9390, loss_unl = 0.0540, train err = 0.0053, test err = 0.3046\n",
            "Iteration 183, time = 9s, loss_lab = 4.9357, loss_unl = 0.0524, train err = 0.0052, test err = 0.2993\n",
            "Iteration 184, time = 9s, loss_lab = 4.9473, loss_unl = 0.0556, train err = 0.0062, test err = 0.2969\n",
            "Iteration 185, time = 9s, loss_lab = 4.9408, loss_unl = 0.0547, train err = 0.0058, test err = 0.3034\n",
            "Iteration 186, time = 9s, loss_lab = 4.9520, loss_unl = 0.0535, train err = 0.0060, test err = 0.2939\n",
            "Iteration 187, time = 9s, loss_lab = 4.9451, loss_unl = 0.0534, train err = 0.0055, test err = 0.2993\n",
            "Iteration 188, time = 9s, loss_lab = 4.9349, loss_unl = 0.0503, train err = 0.0051, test err = 0.2984\n",
            "Iteration 189, time = 9s, loss_lab = 4.9382, loss_unl = 0.0543, train err = 0.0053, test err = 0.3056\n",
            "Iteration 190, time = 9s, loss_lab = 4.9420, loss_unl = 0.0550, train err = 0.0055, test err = 0.2909\n",
            "Iteration 191, time = 9s, loss_lab = 4.9379, loss_unl = 0.0533, train err = 0.0050, test err = 0.3056\n",
            "Iteration 192, time = 9s, loss_lab = 4.9437, loss_unl = 0.0572, train err = 0.0048, test err = 0.2911\n",
            "Iteration 193, time = 9s, loss_lab = 4.9391, loss_unl = 0.0527, train err = 0.0052, test err = 0.2907\n",
            "Iteration 194, time = 9s, loss_lab = 4.9363, loss_unl = 0.0529, train err = 0.0049, test err = 0.2925\n",
            "Iteration 195, time = 9s, loss_lab = 4.9381, loss_unl = 0.0502, train err = 0.0050, test err = 0.2961\n",
            "Iteration 196, time = 9s, loss_lab = 4.9434, loss_unl = 0.0555, train err = 0.0056, test err = 0.3030\n",
            "Iteration 197, time = 9s, loss_lab = 4.9367, loss_unl = 0.0514, train err = 0.0055, test err = 0.2947\n",
            "Iteration 198, time = 9s, loss_lab = 4.9320, loss_unl = 0.0509, train err = 0.0052, test err = 0.2967\n",
            "Iteration 199, time = 9s, loss_lab = 4.9354, loss_unl = 0.0537, train err = 0.0043, test err = 0.3035\n",
            "Iteration 200, time = 9s, loss_lab = 4.9431, loss_unl = 0.0520, train err = 0.0049, test err = 0.3069\n",
            "Iteration 201, time = 9s, loss_lab = 4.9323, loss_unl = 0.0554, train err = 0.0048, test err = 0.3054\n",
            "Iteration 202, time = 9s, loss_lab = 4.9408, loss_unl = 0.0548, train err = 0.0055, test err = 0.2919\n",
            "Iteration 203, time = 9s, loss_lab = 4.9323, loss_unl = 0.0566, train err = 0.0047, test err = 0.2926\n",
            "Iteration 204, time = 9s, loss_lab = 4.9400, loss_unl = 0.0547, train err = 0.0050, test err = 0.2952\n",
            "Iteration 205, time = 9s, loss_lab = 4.9338, loss_unl = 0.0519, train err = 0.0049, test err = 0.2928\n",
            "Iteration 206, time = 9s, loss_lab = 4.9355, loss_unl = 0.0516, train err = 0.0053, test err = 0.2878\n",
            "Iteration 207, time = 9s, loss_lab = 4.9399, loss_unl = 0.0503, train err = 0.0054, test err = 0.2988\n",
            "Iteration 208, time = 9s, loss_lab = 4.9420, loss_unl = 0.0559, train err = 0.0056, test err = 0.2927\n",
            "Iteration 209, time = 9s, loss_lab = 4.9340, loss_unl = 0.0492, train err = 0.0053, test err = 0.2929\n",
            "Iteration 210, time = 9s, loss_lab = 4.9357, loss_unl = 0.0528, train err = 0.0050, test err = 0.2899\n",
            "Iteration 211, time = 9s, loss_lab = 4.9352, loss_unl = 0.0512, train err = 0.0046, test err = 0.2972\n",
            "Iteration 212, time = 9s, loss_lab = 4.9359, loss_unl = 0.0509, train err = 0.0051, test err = 0.2969\n",
            "Iteration 213, time = 9s, loss_lab = 4.9365, loss_unl = 0.0467, train err = 0.0054, test err = 0.2964\n",
            "Iteration 214, time = 9s, loss_lab = 4.9377, loss_unl = 0.0510, train err = 0.0053, test err = 0.2855\n",
            "Iteration 215, time = 9s, loss_lab = 4.9456, loss_unl = 0.0560, train err = 0.0060, test err = 0.2955\n",
            "Iteration 216, time = 9s, loss_lab = 4.9382, loss_unl = 0.0533, train err = 0.0051, test err = 0.2988\n",
            "Iteration 217, time = 9s, loss_lab = 4.9323, loss_unl = 0.0516, train err = 0.0047, test err = 0.2962\n",
            "Iteration 218, time = 9s, loss_lab = 10.7471, loss_unl = 1.4578, train err = 0.1267, test err = 0.3014\n",
            "Iteration 219, time = 9s, loss_lab = 4.9491, loss_unl = 0.0580, train err = 0.0065, test err = 0.2959\n",
            "Iteration 220, time = 9s, loss_lab = 4.9361, loss_unl = 0.0505, train err = 0.0058, test err = 0.3008\n",
            "Iteration 221, time = 9s, loss_lab = 4.9337, loss_unl = 0.0491, train err = 0.0052, test err = 0.2957\n",
            "Iteration 222, time = 9s, loss_lab = 4.9356, loss_unl = 0.0583, train err = 0.0048, test err = 0.2922\n",
            "Iteration 223, time = 9s, loss_lab = 4.9348, loss_unl = 0.0525, train err = 0.0050, test err = 0.3000\n",
            "Iteration 224, time = 9s, loss_lab = 4.9350, loss_unl = 0.0470, train err = 0.0059, test err = 0.2972\n",
            "Iteration 225, time = 9s, loss_lab = 4.9346, loss_unl = 0.0510, train err = 0.0054, test err = 0.2956\n",
            "Iteration 226, time = 9s, loss_lab = 4.9393, loss_unl = 0.0508, train err = 0.0053, test err = 0.3040\n",
            "Iteration 227, time = 9s, loss_lab = 4.9364, loss_unl = 0.0519, train err = 0.0048, test err = 0.2968\n",
            "Iteration 228, time = 9s, loss_lab = 4.9350, loss_unl = 0.0505, train err = 0.0050, test err = 0.3034\n",
            "Iteration 229, time = 9s, loss_lab = 4.9334, loss_unl = 0.0507, train err = 0.0051, test err = 0.2863\n",
            "Iteration 230, time = 9s, loss_lab = 4.9328, loss_unl = 0.0510, train err = 0.0048, test err = 0.2981\n",
            "Iteration 231, time = 9s, loss_lab = 4.9466, loss_unl = 0.0607, train err = 0.0056, test err = 0.2953\n",
            "Iteration 232, time = 9s, loss_lab = 4.9360, loss_unl = 0.0513, train err = 0.0057, test err = 0.2998\n",
            "Iteration 233, time = 9s, loss_lab = 4.9331, loss_unl = 0.0570, train err = 0.0048, test err = 0.2898\n",
            "Iteration 234, time = 9s, loss_lab = 4.9299, loss_unl = 0.0525, train err = 0.0048, test err = 0.2995\n",
            "Iteration 235, time = 9s, loss_lab = 4.9328, loss_unl = 0.0533, train err = 0.0049, test err = 0.2973\n",
            "Iteration 236, time = 9s, loss_lab = 4.9400, loss_unl = 0.0580, train err = 0.0050, test err = 0.2923\n",
            "Iteration 237, time = 9s, loss_lab = 4.9372, loss_unl = 0.0514, train err = 0.0049, test err = 0.3039\n",
            "Iteration 238, time = 9s, loss_lab = 4.9335, loss_unl = 0.0550, train err = 0.0050, test err = 0.2968\n",
            "Iteration 239, time = 9s, loss_lab = 7.7453, loss_unl = 0.7728, train err = 0.0757, test err = 0.3025\n",
            "Iteration 240, time = 9s, loss_lab = 4.9468, loss_unl = 0.0559, train err = 0.0051, test err = 0.2995\n",
            "Iteration 241, time = 9s, loss_lab = 4.9354, loss_unl = 0.0514, train err = 0.0055, test err = 0.2949\n",
            "Iteration 242, time = 9s, loss_lab = 4.9318, loss_unl = 0.0518, train err = 0.0050, test err = 0.2989\n",
            "Iteration 243, time = 9s, loss_lab = 4.9347, loss_unl = 0.0534, train err = 0.0046, test err = 0.2976\n",
            "Iteration 244, time = 9s, loss_lab = 4.9361, loss_unl = 0.0549, train err = 0.0050, test err = 0.3063\n",
            "Iteration 245, time = 9s, loss_lab = 4.9256, loss_unl = 0.0491, train err = 0.0052, test err = 0.2975\n",
            "Iteration 246, time = 9s, loss_lab = 4.9306, loss_unl = 0.0524, train err = 0.0056, test err = 0.2929\n",
            "Iteration 247, time = 9s, loss_lab = 4.9302, loss_unl = 0.0500, train err = 0.0053, test err = 0.2972\n",
            "Iteration 248, time = 9s, loss_lab = 4.9268, loss_unl = 0.0514, train err = 0.0046, test err = 0.2897\n",
            "Iteration 249, time = 9s, loss_lab = 4.9338, loss_unl = 0.0506, train err = 0.0051, test err = 0.2887\n",
            "Iteration 250, time = 9s, loss_lab = 4.9291, loss_unl = 0.0530, train err = 0.0050, test err = 0.2869\n",
            "Iteration 251, time = 9s, loss_lab = 4.9310, loss_unl = 0.0522, train err = 0.0048, test err = 0.2888\n",
            "Iteration 252, time = 9s, loss_lab = 4.9309, loss_unl = 0.0536, train err = 0.0050, test err = 0.2944\n",
            "Iteration 253, time = 9s, loss_lab = 4.9348, loss_unl = 0.0541, train err = 0.0049, test err = 0.2921\n",
            "Iteration 254, time = 9s, loss_lab = 4.9340, loss_unl = 0.0536, train err = 0.0053, test err = 0.2940\n",
            "Iteration 255, time = 9s, loss_lab = 4.9317, loss_unl = 0.0537, train err = 0.0055, test err = 0.3095\n",
            "Iteration 256, time = 9s, loss_lab = 4.9345, loss_unl = 0.0522, train err = 0.0047, test err = 0.2946\n",
            "Iteration 257, time = 9s, loss_lab = 4.9366, loss_unl = 0.0528, train err = 0.0051, test err = 0.2872\n",
            "Iteration 258, time = 9s, loss_lab = 4.9348, loss_unl = 0.0514, train err = 0.0046, test err = 0.2889\n",
            "Iteration 259, time = 9s, loss_lab = 4.9344, loss_unl = 0.0492, train err = 0.0054, test err = 0.3057\n",
            "Iteration 260, time = 9s, loss_lab = 4.9407, loss_unl = 0.0530, train err = 0.0057, test err = 0.3046\n",
            "Iteration 261, time = 9s, loss_lab = 4.9354, loss_unl = 0.0535, train err = 0.0046, test err = 0.2997\n",
            "Iteration 262, time = 9s, loss_lab = 4.9354, loss_unl = 0.0489, train err = 0.0051, test err = 0.2990\n",
            "Iteration 263, time = 9s, loss_lab = 4.9306, loss_unl = 0.0505, train err = 0.0049, test err = 0.2953\n",
            "Iteration 264, time = 9s, loss_lab = 4.9308, loss_unl = 0.0531, train err = 0.0045, test err = 0.2931\n",
            "Iteration 265, time = 9s, loss_lab = 4.9363, loss_unl = 0.0540, train err = 0.0046, test err = 0.3094\n",
            "Iteration 266, time = 9s, loss_lab = 4.9306, loss_unl = 0.0536, train err = 0.0046, test err = 0.2900\n",
            "Iteration 267, time = 9s, loss_lab = 4.9339, loss_unl = 0.0501, train err = 0.0059, test err = 0.3095\n",
            "Iteration 268, time = 9s, loss_lab = 4.9350, loss_unl = 0.0522, train err = 0.0049, test err = 0.2975\n",
            "Iteration 269, time = 9s, loss_lab = 4.9304, loss_unl = 0.0521, train err = 0.0047, test err = 0.2903\n",
            "Iteration 270, time = 9s, loss_lab = 4.9381, loss_unl = 0.0508, train err = 0.0053, test err = 0.2913\n",
            "Iteration 271, time = 9s, loss_lab = 4.9320, loss_unl = 0.0501, train err = 0.0046, test err = 0.2917\n",
            "Iteration 272, time = 9s, loss_lab = 4.9398, loss_unl = 0.0550, train err = 0.0048, test err = 0.2959\n",
            "Iteration 273, time = 9s, loss_lab = 4.9278, loss_unl = 0.0503, train err = 0.0047, test err = 0.3013\n",
            "Iteration 274, time = 9s, loss_lab = 4.9485, loss_unl = 0.0513, train err = 0.0067, test err = 0.2953\n",
            "Iteration 275, time = 9s, loss_lab = 4.9304, loss_unl = 0.0460, train err = 0.0056, test err = 0.2944\n",
            "Iteration 276, time = 9s, loss_lab = 4.9295, loss_unl = 0.0521, train err = 0.0051, test err = 0.3082\n",
            "Iteration 277, time = 9s, loss_lab = 4.9343, loss_unl = 0.0514, train err = 0.0048, test err = 0.3003\n",
            "Iteration 278, time = 9s, loss_lab = 4.9357, loss_unl = 0.0497, train err = 0.0051, test err = 0.2976\n",
            "Iteration 279, time = 9s, loss_lab = 4.9331, loss_unl = 0.0543, train err = 0.0052, test err = 0.2967\n",
            "Iteration 280, time = 9s, loss_lab = 4.9321, loss_unl = 0.0520, train err = 0.0055, test err = 0.2978\n",
            "Iteration 281, time = 9s, loss_lab = 4.9304, loss_unl = 0.0519, train err = 0.0050, test err = 0.2965\n",
            "Iteration 282, time = 9s, loss_lab = 4.9372, loss_unl = 0.0541, train err = 0.0050, test err = 0.3002\n",
            "Iteration 283, time = 9s, loss_lab = 4.9316, loss_unl = 0.0519, train err = 0.0053, test err = 0.2952\n",
            "Iteration 284, time = 9s, loss_lab = 4.9291, loss_unl = 0.0511, train err = 0.0047, test err = 0.2924\n",
            "Iteration 285, time = 9s, loss_lab = 4.9355, loss_unl = 0.0548, train err = 0.0051, test err = 0.2894\n",
            "Iteration 286, time = 9s, loss_lab = 4.9368, loss_unl = 0.0549, train err = 0.0056, test err = 0.2899\n",
            "Iteration 287, time = 9s, loss_lab = 4.9330, loss_unl = 0.0518, train err = 0.0053, test err = 0.3013\n",
            "Iteration 288, time = 9s, loss_lab = 4.9346, loss_unl = 0.0490, train err = 0.0051, test err = 0.2917\n",
            "Iteration 289, time = 9s, loss_lab = 4.9255, loss_unl = 0.0499, train err = 0.0046, test err = 0.2981\n",
            "Iteration 290, time = 9s, loss_lab = 4.9351, loss_unl = 0.0548, train err = 0.0050, test err = 0.2941\n",
            "Iteration 291, time = 9s, loss_lab = 4.9326, loss_unl = 0.0521, train err = 0.0051, test err = 0.2936\n",
            "Iteration 292, time = 9s, loss_lab = 4.9321, loss_unl = 0.0533, train err = 0.0050, test err = 0.2906\n",
            "Iteration 293, time = 9s, loss_lab = 4.9407, loss_unl = 0.0505, train err = 0.0056, test err = 0.3044\n",
            "Iteration 294, time = 9s, loss_lab = 4.9310, loss_unl = 0.0496, train err = 0.0053, test err = 0.2961\n",
            "Iteration 295, time = 9s, loss_lab = 4.9304, loss_unl = 0.0507, train err = 0.0054, test err = 0.2985\n",
            "Iteration 296, time = 9s, loss_lab = 4.9315, loss_unl = 0.0546, train err = 0.0047, test err = 0.2937\n",
            "Iteration 297, time = 9s, loss_lab = 4.9324, loss_unl = 0.0484, train err = 0.0058, test err = 0.3016\n",
            "Iteration 298, time = 9s, loss_lab = 4.9275, loss_unl = 0.0510, train err = 0.0044, test err = 0.3076\n",
            "Iteration 299, time = 9s, loss_lab = 4.9313, loss_unl = 0.0513, train err = 0.0050, test err = 0.2954\n"
          ],
          "name": "stdout"
        }
      ]
    },
    {
      "metadata": {
        "id": "hyT_SzN7xvMl",
        "colab_type": "code",
        "colab": {}
      },
      "cell_type": "code",
      "source": [
        "import matplotlib.pyplot as plt\n",
        "%matplotlib inline"
      ],
      "execution_count": 0,
      "outputs": []
    },
    {
      "metadata": {
        "id": "K3xKgKAsjwCg",
        "colab_type": "code",
        "colab": {}
      },
      "cell_type": "code",
      "source": [
        "def plot_images(Generator, save2file=False, samples=25, step=0):\n",
        "    filename = \"./images/mnist_%d.png\" % step\n",
        "    #noise = np.random.normal(0, 1, (samples, 100))\n",
        "    noise = np.random.uniform(-1.0, 1.0, size=[samples, 100])\n",
        "    images = Generator.predict(noise)\n",
        "\n",
        "    plt.figure(figsize=(10, 10))\n",
        "\n",
        "    for i in range(images.shape[0]):\n",
        "        plt.subplot(4, 4, i+1)\n",
        "        image = images[i, :, :, :]\n",
        "        image = np.reshape(image, [height, width])\n",
        "        plt.imshow(image, cmap='gray')\n",
        "        plt.axis('off')\n",
        "    plt.tight_layout()\n",
        "\n",
        "    if save2file:\n",
        "        plt.savefig(filename)\n",
        "        plt.close('all')\n",
        "    else:\n",
        "        plt.show()"
      ],
      "execution_count": 0,
      "outputs": []
    },
    {
      "metadata": {
        "id": "ajoM0MlTvxdM",
        "colab_type": "code",
        "colab": {
          "base_uri": "https://localhost:8080/",
          "height": 451
        },
        "outputId": "96543e2b-dc90-4f11-a63d-00eecc99209b"
      },
      "cell_type": "code",
      "source": [
        "plot_images(generator)"
      ],
      "execution_count": 36,
      "outputs": [
        {
          "output_type": "error",
          "ename": "IndexError",
          "evalue": "ignored",
          "traceback": [
            "\u001b[0;31m---------------------------------------------------------------------------\u001b[0m",
            "\u001b[0;31mIndexError\u001b[0m                                Traceback (most recent call last)",
            "\u001b[0;32m<ipython-input-36-65f43aa06560>\u001b[0m in \u001b[0;36m<module>\u001b[0;34m()\u001b[0m\n\u001b[0;32m----> 1\u001b[0;31m \u001b[0mplot_images\u001b[0m\u001b[0;34m(\u001b[0m\u001b[0mgenerator\u001b[0m\u001b[0;34m)\u001b[0m\u001b[0;34m\u001b[0m\u001b[0;34m\u001b[0m\u001b[0m\n\u001b[0m",
            "\u001b[0;32m<ipython-input-32-b6aaee2bc694>\u001b[0m in \u001b[0;36mplot_images\u001b[0;34m(Generator, save2file, samples, step)\u001b[0m\n\u001b[1;32m      9\u001b[0m     \u001b[0;32mfor\u001b[0m \u001b[0mi\u001b[0m \u001b[0;32min\u001b[0m \u001b[0mrange\u001b[0m\u001b[0;34m(\u001b[0m\u001b[0mimages\u001b[0m\u001b[0;34m.\u001b[0m\u001b[0mshape\u001b[0m\u001b[0;34m[\u001b[0m\u001b[0;36m0\u001b[0m\u001b[0;34m]\u001b[0m\u001b[0;34m)\u001b[0m\u001b[0;34m:\u001b[0m\u001b[0;34m\u001b[0m\u001b[0;34m\u001b[0m\u001b[0m\n\u001b[1;32m     10\u001b[0m         \u001b[0mplt\u001b[0m\u001b[0;34m.\u001b[0m\u001b[0msubplot\u001b[0m\u001b[0;34m(\u001b[0m\u001b[0;36m4\u001b[0m\u001b[0;34m,\u001b[0m \u001b[0;36m4\u001b[0m\u001b[0;34m,\u001b[0m \u001b[0mi\u001b[0m\u001b[0;34m+\u001b[0m\u001b[0;36m1\u001b[0m\u001b[0;34m)\u001b[0m\u001b[0;34m\u001b[0m\u001b[0;34m\u001b[0m\u001b[0m\n\u001b[0;32m---> 11\u001b[0;31m         \u001b[0mimage\u001b[0m \u001b[0;34m=\u001b[0m \u001b[0mimages\u001b[0m\u001b[0;34m[\u001b[0m\u001b[0mi\u001b[0m\u001b[0;34m,\u001b[0m \u001b[0;34m:\u001b[0m\u001b[0;34m,\u001b[0m \u001b[0;34m:\u001b[0m\u001b[0;34m,\u001b[0m \u001b[0;34m:\u001b[0m\u001b[0;34m]\u001b[0m\u001b[0;34m\u001b[0m\u001b[0;34m\u001b[0m\u001b[0m\n\u001b[0m\u001b[1;32m     12\u001b[0m         \u001b[0mimage\u001b[0m \u001b[0;34m=\u001b[0m \u001b[0mnp\u001b[0m\u001b[0;34m.\u001b[0m\u001b[0mreshape\u001b[0m\u001b[0;34m(\u001b[0m\u001b[0mimage\u001b[0m\u001b[0;34m,\u001b[0m \u001b[0;34m[\u001b[0m\u001b[0mheight\u001b[0m\u001b[0;34m,\u001b[0m \u001b[0mwidth\u001b[0m\u001b[0;34m]\u001b[0m\u001b[0;34m)\u001b[0m\u001b[0;34m\u001b[0m\u001b[0;34m\u001b[0m\u001b[0m\n\u001b[1;32m     13\u001b[0m         \u001b[0mplt\u001b[0m\u001b[0;34m.\u001b[0m\u001b[0mimshow\u001b[0m\u001b[0;34m(\u001b[0m\u001b[0mimage\u001b[0m\u001b[0;34m,\u001b[0m \u001b[0mcmap\u001b[0m\u001b[0;34m=\u001b[0m\u001b[0;34m'gray'\u001b[0m\u001b[0;34m)\u001b[0m\u001b[0;34m\u001b[0m\u001b[0;34m\u001b[0m\u001b[0m\n",
            "\u001b[0;31mIndexError\u001b[0m: too many indices for array"
          ]
        },
        {
          "output_type": "display_data",
          "data": {
            "image/png": "[encoded data removed]",
            "text/plain": [
              "<matplotlib.figure.Figure at 0x7f8db4e7ec50>"
            ]
          },
          "metadata": {
            "tags": []
          }
        }
      ]
    },
    {
      "metadata": {
        "id": "Kz18f09Oxn8Z",
        "colab_type": "code",
        "colab": {}
      },
      "cell_type": "code",
      "source": [
        ""
      ],
      "execution_count": 0,
      "outputs": []
    }
  ]
}