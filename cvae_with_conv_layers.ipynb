{
  "nbformat": 4,
  "nbformat_minor": 0,
  "metadata": {
    "colab": {
      "name": "new_cvae",
      "version": "0.3.2",
      "provenance": [],
      "collapsed_sections": [],
      "include_colab_link": true
    },
    "kernelspec": {
      "name": "python3",
      "display_name": "Python 3"
    },
    "accelerator": "GPU"
  },
  "cells": [
    {
      "cell_type": "markdown",
      "metadata": {
        "id": "view-in-github",
        "colab_type": "text"
      },
      "source": [
        "<a href=\"https://colab.research.google.com/github/kumarmanishjha/pgm-prjoject_A18/blob/master/cvae_with_conv_layers.ipynb\" target=\"_parent\"><img src=\"https://colab.research.google.com/assets/colab-badge.svg\" alt=\"Open In Colab\"/></a>"
      ]
    },
    {
      "metadata": {
        "id": "DFvDnXzHFLim",
        "colab_type": "code",
        "outputId": "9af898ca-d1e9-4658-e988-8fbbe58e9bf2",
        "colab": {
          "base_uri": "https://localhost:8080/",
          "height": 204
        }
      },
      "cell_type": "code",
      "source": [
        "!wget https://www.cs.toronto.edu/~kriz/cifar-10-python.tar.gz"
      ],
      "execution_count": 1,
      "outputs": [
        {
          "output_type": "stream",
          "text": [
            "--2018-12-11 01:56:52--  https://www.cs.toronto.edu/~kriz/cifar-10-python.tar.gz\n",
            "Resolving www.cs.toronto.edu (www.cs.toronto.edu)... 128.100.3.30\n",
            "Connecting to www.cs.toronto.edu (www.cs.toronto.edu)|128.100.3.30|:443... connected.\n",
            "HTTP request sent, awaiting response... 200 OK\n",
            "Length: 170498071 (163M) [application/x-gzip]\n",
            "Saving to: ‘cifar-10-python.tar.gz’\n",
            "\n",
            "cifar-10-python.tar 100%[===================>] 162.60M  3.05MB/s    in 29s     \n",
            "\n",
            "2018-12-11 01:57:21 (5.64 MB/s) - ‘cifar-10-python.tar.gz’ saved [170498071/170498071]\n",
            "\n"
          ],
          "name": "stdout"
        }
      ]
    },
    {
      "metadata": {
        "id": "qun1729ZFg1D",
        "colab_type": "code",
        "outputId": "ac64ac0d-de19-4c08-8089-062eb255a169",
        "colab": {
          "base_uri": "https://localhost:8080/",
          "height": 170
        }
      },
      "cell_type": "code",
      "source": [
        "!tar -zxvf cifar-10-python.tar.gz"
      ],
      "execution_count": 2,
      "outputs": [
        {
          "output_type": "stream",
          "text": [
            "cifar-10-batches-py/\n",
            "cifar-10-batches-py/data_batch_4\n",
            "cifar-10-batches-py/readme.html\n",
            "cifar-10-batches-py/test_batch\n",
            "cifar-10-batches-py/data_batch_3\n",
            "cifar-10-batches-py/batches.meta\n",
            "cifar-10-batches-py/data_batch_2\n",
            "cifar-10-batches-py/data_batch_5\n",
            "cifar-10-batches-py/data_batch_1\n"
          ],
          "name": "stdout"
        }
      ]
    },
    {
      "metadata": {
        "id": "YG-X5RpVEqkd",
        "colab_type": "code",
        "outputId": "b5512a47-ede1-43f3-ed16-133ce7985a12",
        "colab": {
          "base_uri": "https://localhost:8080/",
          "height": 122
        }
      },
      "cell_type": "code",
      "source": [
        "from google.colab import drive\n",
        "drive.mount('/content/drive')\n",
        "\n",
        "add_path = '/content/drive/My Drive/Colab Notebooks/cvae/'\n",
        "\n",
        "# results save folder\n",
        "CVAE_Fixed_results = '/content/drive/My Drive/Colab Notebooks/cvae/CVAE_Fixed_results'\n",
        "CVAE_Random_results = '/content/drive/My Drive/Colab Notebooks/cvae/CVAE_Random_results'\n",
        "CVAE_Results = '/content/drive/My Drive/Colab Notebooks/cvae/CVAE_Results'\n",
        "\n"
      ],
      "execution_count": 3,
      "outputs": [
        {
          "output_type": "stream",
          "text": [
            "Go to this URL in a browser: https://accounts.google.com/o/oauth2/auth?client_id=947318989803-6bn6qk8qdgf4n4g3pfee6491hc0brc4i.apps.googleusercontent.com&redirect_uri=urn%3Aietf%3Awg%3Aoauth%3A2.0%3Aoob&scope=email%20https%3A%2F%2Fwww.googleapis.com%2Fauth%2Fdocs.test%20https%3A%2F%2Fwww.googleapis.com%2Fauth%2Fdrive%20https%3A%2F%2Fwww.googleapis.com%2Fauth%2Fdrive.photos.readonly%20https%3A%2F%2Fwww.googleapis.com%2Fauth%2Fpeopleapi.readonly&response_type=code\n",
            "\n",
            "Enter your authorization code:\n",
            "··········\n",
            "Mounted at /content/drive\n"
          ],
          "name": "stdout"
        }
      ]
    },
    {
      "metadata": {
        "id": "t5P5jWDBgYRt",
        "colab_type": "code",
        "outputId": "5ce78632-e2b8-4941-b58f-327610cccbbc",
        "colab": {
          "base_uri": "https://localhost:8080/",
          "height": 136
        }
      },
      "cell_type": "code",
      "source": [
        "import os\n",
        "import numpy as np\n",
        "import matplotlib.pyplot as plt\n",
        "import keras.backend as K\n",
        "import tensorflow as tf\n",
        "import pickle\n",
        "from skimage.io import imsave\n",
        "import itertools \n",
        "\n",
        "from keras.datasets import mnist\n",
        "from keras.layers import Input, Dense, Lambda, Conv2DTranspose, MaxPooling2D,  BatchNormalization, Reshape, UpSampling2D, Concatenate, Conv2D, AveragePooling2D, Dropout, Flatten\n",
        "from keras.models import Model\n",
        "from keras.objectives import binary_crossentropy\n",
        "from keras.callbacks import LearningRateScheduler\n",
        "from keras.utils import to_categorical\n",
        "from keras.engine.topology import Layer\n",
        "from keras.optimizers import Adam\n",
        "\n",
        "##%%\n",
        "#%% CIFAR-10\n",
        "\n",
        "\n",
        "classes = ('plane', 'car', 'bird', 'cat',\n",
        "           'deer', 'dog', 'frog', 'horse', 'ship', 'truck')\n",
        "\n",
        "num_classes = 10\n",
        "\n",
        "img_rows, img_cols = 32, 32\n",
        "channels = 3\n",
        "input_shape = (img_rows, img_cols, channels)\n",
        "\n",
        "def load_pickle(f):\n",
        "        return  pickle.load(f, encoding='latin1')\n",
        "\n",
        "def load_CIFAR_batch(filename):\n",
        "    \"\"\" load single batch of cifar \"\"\"\n",
        "    with open(filename, 'rb') as f:\n",
        "        datadict = load_pickle(f)\n",
        "        X = datadict['data']\n",
        "        Y = datadict['labels']\n",
        "        X = X.reshape(10000,3072)\n",
        "        Y = np.array(Y)\n",
        "        return X, Y\n",
        "\n",
        "def load_CIFAR10(ROOT):\n",
        "    \"\"\" load all of cifar \"\"\"\n",
        "    xs = []\n",
        "    ys = []\n",
        "    for b in range(1,6):\n",
        "        f = os.path.join(ROOT, 'data_batch_%d' % (b, ))\n",
        "        X, Y = load_CIFAR_batch(f)\n",
        "        xs.append(X)\n",
        "        ys.append(Y)\n",
        "    Xtr = np.concatenate(xs)\n",
        "    Ytr = np.concatenate(ys)\n",
        "    del X, Y\n",
        "    Xte, Yte = load_CIFAR_batch(os.path.join(ROOT, 'test_batch'))\n",
        "    return Xtr, Ytr, Xte, Yte\n",
        "\n",
        "def get_CIFAR10_data(num_training=49000, num_validation=1000, num_test=10000):\n",
        "    # Load the raw CIFAR-10 data\n",
        "    cifar10_dir = 'cifar-10-batches-py'\n",
        "    X_train, y_train, X_test, y_test = load_CIFAR10(cifar10_dir)\n",
        "\n",
        "    # Subsample the data\n",
        "    mask = range(num_training, num_training + num_validation)\n",
        "    X_val = X_train[mask]\n",
        "    y_val = y_train[mask]\n",
        "    mask = range(num_training)\n",
        "    X_train = X_train[mask]\n",
        "    y_train = y_train[mask]\n",
        "    mask = range(num_test)\n",
        "    X_test = X_test[mask]\n",
        "    y_test = y_test[mask]\n",
        "\n",
        "    x_train = X_train.astype('float32')\n",
        "    x_test = X_test.astype('float32')\n",
        "    x_val = X_val.astype('float32')\n",
        "    x_train /= 255\n",
        "    x_test /= 255\n",
        "    x_val /= 255\n",
        "    \n",
        "\n",
        "    return x_train, y_train, x_val, y_val, x_test, y_test\n",
        "\n",
        "\n",
        "# Invoke the above function to get our data.\n",
        "x_train, y_train, x_val, y_val, x_test, y_test = get_CIFAR10_data()\n",
        "\n",
        "\n",
        "print('Train data shape: ', x_train.shape)\n",
        "print('Train labels shape: ', y_train.shape)\n",
        "print('Validation data shape: ', x_val.shape)\n",
        "print('Validation labels shape: ', y_val.shape)\n",
        "print('Test data shape: ', x_test.shape)\n",
        "print('Test labels shape: ', y_test.shape)\n",
        "\n",
        "y_train = to_categorical(y_train, num_classes)\n",
        "y_val =  to_categorical(y_val, num_classes)\n",
        "y_test = to_categorical(y_test, num_classes)\n",
        "\n",
        "def to_image(data, row, col, channel):\n",
        "    size = data.shape[0]\n",
        "    tp = np.zeros((size, row, col, channel))\n",
        "    for i in range(size):\n",
        "        tp[i,:,:,:] = np.transpose(np.reshape(data[i,:],(3, 32,32)), (1,2,0))\n",
        "    return tp\n",
        "        \n",
        "x_train = to_image(x_train, img_rows, img_cols, channels)\n",
        "x_val = to_image(x_val, img_rows, img_cols, channels)\n",
        "x_test = to_image(x_test, img_rows, img_cols, channels)\n",
        "\n",
        "#%% LOSS\n",
        "\n",
        "class KLLossLayer(Layer):\n",
        "    __name__ = 'kl_loss_layer'\n",
        "\n",
        "    def __init__(self, **kwargs):\n",
        "        self.is_placeholder = True\n",
        "        super(KLLossLayer, self).__init__(**kwargs)\n",
        "\n",
        "    def lossfun(self, z_avg, z_log_var):\n",
        "        kl_loss = -0.5 * K.mean(1.0 + z_log_var - K.square(z_avg) - K.exp(z_log_var))\n",
        "        return kl_loss\n",
        "\n",
        "    def call(self, inputs):\n",
        "        z_avg = inputs[0]\n",
        "        z_log_var = inputs[1]\n",
        "        loss = self.lossfun(z_avg, z_log_var)\n",
        "        self.add_loss(loss, inputs=inputs)\n",
        "\n",
        "        return z_avg\n",
        "    \n",
        "class GeneratorLossLayer(Layer):\n",
        "    __name__ = 'generator_loss_layer'\n",
        "\n",
        "    def __init__(self, **kwargs):\n",
        "        self.is_placeholder = True\n",
        "        super(GeneratorLossLayer, self).__init__(**kwargs)\n",
        "\n",
        "    def lossfun(self, y_true, y_pred):\n",
        "        loss_x = K.sum(K.binary_crossentropy(y_pred, y_true), axis=1)\n",
        "\n",
        "\n",
        "        return loss_x \n",
        "\n",
        "    def call(self, inputs):\n",
        "        y_true = inputs[0]\n",
        "        y_pred = inputs[1]\n",
        "        loss = self.lossfun(y_true, y_pred)\n",
        "        self.add_loss(loss, inputs=inputs)\n",
        "\n",
        "        return y_true\n",
        "    \n",
        "def zero_loss(y_true, y_pred):\n",
        "    return K.zeros_like(y_true)\n",
        "\n",
        "\n",
        "\n",
        "#%%\n",
        "m = 64\n",
        "n_x = x_train.shape[1]\n",
        "n_y = y_train.shape[1]\n",
        "\n",
        "n_epoch = 20\n",
        "\n",
        "\n",
        "latent_dim= 100\n"
      ],
      "execution_count": 5,
      "outputs": [
        {
          "output_type": "stream",
          "text": [
            "Using TensorFlow backend.\n"
          ],
          "name": "stderr"
        },
        {
          "output_type": "stream",
          "text": [
            "Train data shape:  (49000, 3072)\n",
            "Train labels shape:  (49000,)\n",
            "Validation data shape:  (1000, 3072)\n",
            "Validation labels shape:  (1000,)\n",
            "Test data shape:  (10000, 3072)\n",
            "Test labels shape:  (10000,)\n"
          ],
          "name": "stdout"
        }
      ]
    },
    {
      "metadata": {
        "id": "B0LQwOcbgeCE",
        "colab_type": "code",
        "outputId": "7d1abcea-d1e1-4c17-f628-ea803c634237",
        "colab": {
          "base_uri": "https://localhost:8080/",
          "height": 510
        }
      },
      "cell_type": "code",
      "source": [
        "\n",
        "#Use image and label as input together\n",
        "\n",
        "\n",
        "#Build Encoder\n",
        "img = Input(shape=input_shape)\n",
        "label = Input(shape=(num_classes,))\n",
        "\n",
        "c = Reshape((1, 1, num_classes))(label)\n",
        "c = UpSampling2D(size=(img_rows, img_cols))(c)\n",
        "en = Concatenate(axis=-1)([img, c])\n",
        "\n",
        "en = Conv2D(128, 3, strides=(2, 2), padding='same', activation='relu')(en)\n",
        "\n",
        "\n",
        "en = Conv2D(64, 3, strides=(2, 2), padding='same', activation='relu')(en)\n",
        "\n",
        "\n",
        "en = Conv2D(32, 3, strides=(2, 2), padding='same', activation='relu')(en)\n",
        "\n",
        "\n",
        "en = Flatten()(en)\n",
        "\n",
        "\n",
        "\n",
        "\n",
        "#calculate the mu and sigmas \n",
        "mu = Dense(latent_dim, activation='linear')(en)\n",
        "log_sigma = Dense(latent_dim, activation='linear')(en)\n",
        "\n",
        "encoder = Model([img, label], mu)\n",
        "print (\"ENCODER\")\n",
        "encoder.summary()"
      ],
      "execution_count": 6,
      "outputs": [
        {
          "output_type": "stream",
          "text": [
            "ENCODER\n",
            "__________________________________________________________________________________________________\n",
            "Layer (type)                    Output Shape         Param #     Connected to                     \n",
            "==================================================================================================\n",
            "input_2 (InputLayer)            (None, 10)           0                                            \n",
            "__________________________________________________________________________________________________\n",
            "reshape_1 (Reshape)             (None, 1, 1, 10)     0           input_2[0][0]                    \n",
            "__________________________________________________________________________________________________\n",
            "input_1 (InputLayer)            (None, 32, 32, 3)    0                                            \n",
            "__________________________________________________________________________________________________\n",
            "up_sampling2d_1 (UpSampling2D)  (None, 32, 32, 10)   0           reshape_1[0][0]                  \n",
            "__________________________________________________________________________________________________\n",
            "concatenate_1 (Concatenate)     (None, 32, 32, 13)   0           input_1[0][0]                    \n",
            "                                                                 up_sampling2d_1[0][0]            \n",
            "__________________________________________________________________________________________________\n",
            "conv2d_1 (Conv2D)               (None, 16, 16, 128)  15104       concatenate_1[0][0]              \n",
            "__________________________________________________________________________________________________\n",
            "conv2d_2 (Conv2D)               (None, 8, 8, 64)     73792       conv2d_1[0][0]                   \n",
            "__________________________________________________________________________________________________\n",
            "conv2d_3 (Conv2D)               (None, 4, 4, 32)     18464       conv2d_2[0][0]                   \n",
            "__________________________________________________________________________________________________\n",
            "flatten_1 (Flatten)             (None, 512)          0           conv2d_3[0][0]                   \n",
            "__________________________________________________________________________________________________\n",
            "dense_1 (Dense)                 (None, 100)          51300       flatten_1[0][0]                  \n",
            "==================================================================================================\n",
            "Total params: 158,660\n",
            "Trainable params: 158,660\n",
            "Non-trainable params: 0\n",
            "__________________________________________________________________________________________________\n"
          ],
          "name": "stdout"
        }
      ]
    },
    {
      "metadata": {
        "id": "FV9Ztf2BuFyp",
        "colab_type": "code",
        "outputId": "55affbc4-d706-4d62-eee7-4bd262194f1e",
        "colab": {
          "base_uri": "https://localhost:8080/",
          "height": 476
        }
      },
      "cell_type": "code",
      "source": [
        "\n",
        "\n",
        "#KL loss \n",
        "kl_loss = KLLossLayer()([mu, log_sigma])\n",
        "\n",
        "def sample_z(args):\n",
        "    mu, log_sigma = args\n",
        "    eps = K.random_normal(shape=(m, latent_dim))\n",
        "    return mu + K.exp(log_sigma / 2) * eps\n",
        "\n",
        "# Sample z ~ Q(z|X,y)\n",
        "z = Lambda(sample_z, output_shape = (latent_dim, ))([mu, log_sigma])\n",
        "\n",
        "#decoder\n",
        "\n",
        "#Build Decoder\n",
        "dec = Input(shape=(latent_dim,))\n",
        "dec_in = Concatenate(axis=-1)([dec, label])\n",
        "\n",
        "de = Dense(4*4*128, activation='relu')(dec_in)\n",
        "de = Reshape((4, 4, 128))(de)\n",
        "\n",
        "de = Conv2DTranspose(128, 3, strides=(2, 2), padding='same', activation='relu')(de)\n",
        "\n",
        "de = Conv2DTranspose(64, 3, strides=(2, 2), padding='same', activation='relu')(de)\n",
        "\n",
        "de = Conv2DTranspose(32, 3, strides=(2, 2), padding='same', activation='relu')(de)\n",
        "\n",
        "\n",
        "h_decoded = Conv2DTranspose(3, 3, strides=(1, 1), padding='same' , activation='sigmoid')(de)\n",
        "\n",
        "decoder = Model([dec, label], h_decoded)\n",
        "print (\"DECODER\")\n",
        "decoder.summary()\n",
        "\n",
        "z_p = Input(shape=(latent_dim,))\n",
        "x_f = decoder([z, label])\n",
        "g_loss = GeneratorLossLayer()([img, x_f])      \n",
        "\n",
        "\n",
        "enc_trainer = Model(inputs=[img, label],\n",
        "                        outputs=[g_loss, kl_loss])\n",
        "enc_trainer.compile(loss=[zero_loss, zero_loss],\n",
        "                        optimizer=Adam(lr=2.0e-4, beta_1=0.5))\n",
        "\n"
      ],
      "execution_count": 18,
      "outputs": [
        {
          "output_type": "stream",
          "text": [
            "DECODER\n",
            "__________________________________________________________________________________________________\n",
            "Layer (type)                    Output Shape         Param #     Connected to                     \n",
            "==================================================================================================\n",
            "input_17 (InputLayer)           (None, 100)          0                                            \n",
            "__________________________________________________________________________________________________\n",
            "input_2 (InputLayer)            (None, 10)           0                                            \n",
            "__________________________________________________________________________________________________\n",
            "concatenate_13 (Concatenate)    (None, 110)          0           input_17[0][0]                   \n",
            "                                                                 input_2[0][0]                    \n",
            "__________________________________________________________________________________________________\n",
            "dense_14 (Dense)                (None, 2048)         227328      concatenate_13[0][0]             \n",
            "__________________________________________________________________________________________________\n",
            "reshape_13 (Reshape)            (None, 4, 4, 128)    0           dense_14[0][0]                   \n",
            "__________________________________________________________________________________________________\n",
            "conv2d_transpose_45 (Conv2DTran (None, 8, 8, 128)    147584      reshape_13[0][0]                 \n",
            "__________________________________________________________________________________________________\n",
            "conv2d_transpose_46 (Conv2DTran (None, 16, 16, 64)   73792       conv2d_transpose_45[0][0]        \n",
            "__________________________________________________________________________________________________\n",
            "conv2d_transpose_47 (Conv2DTran (None, 32, 32, 32)   18464       conv2d_transpose_46[0][0]        \n",
            "__________________________________________________________________________________________________\n",
            "conv2d_transpose_48 (Conv2DTran (None, 32, 32, 3)    867         conv2d_transpose_47[0][0]        \n",
            "==================================================================================================\n",
            "Total params: 468,035\n",
            "Trainable params: 468,035\n",
            "Non-trainable params: 0\n",
            "__________________________________________________________________________________________________\n"
          ],
          "name": "stdout"
        }
      ]
    },
    {
      "metadata": {
        "id": "Jf7Ly-QUEqzG",
        "colab_type": "code",
        "outputId": "5f258fc7-3765-4794-e8bb-59dbbf052700",
        "colab": {
          "base_uri": "https://localhost:8080/",
          "height": 1471
        }
      },
      "cell_type": "code",
      "source": [
        "\n",
        "\n",
        "\n",
        "#%% training\n",
        "\n",
        "def save_batch_result(batch_data, path, epoch):\n",
        "    batch_size = batch_data.shape[0]\n",
        "    for i in range(batch_size):\n",
        "        f_name = str(epoch) + '_' + str(i) + '.png'\n",
        "        img_sav = batch_data[i]\n",
        "        imsave(os.path.join(path,f_name), img_sav)\n",
        "\n",
        "def show_result(batch_data, path, epoch, show):\n",
        "      size_figure_grid = 5\n",
        "      fig, ax = plt.subplots(size_figure_grid, size_figure_grid, figsize=(5, 5))\n",
        "      for i, j in itertools.product(range(size_figure_grid), range(size_figure_grid)):\n",
        "          ax[i, j].get_xaxis().set_visible(False)\n",
        "          ax[i, j].get_yaxis().set_visible(False)\n",
        "\n",
        "      for k in range(5*5):\n",
        "          i = k // 5\n",
        "          j = k % 5\n",
        "          ax[i, j].cla()\n",
        "          ax[i, j].imshow(batch_data[k])\n",
        "\n",
        "      label = 'Epoch {0}'.format(epoch)\n",
        "      fig.text(0.5, 0.04, label, ha='center')\n",
        "      plt.savefig(os.path.join(path, str(epoch)))\n",
        "\n",
        "      if show:\n",
        "          plt.show()\n",
        "      else:\n",
        "          plt.close()\n",
        "          \n",
        "def train_on_batch(x_batch, epoch):\n",
        "    x_r, c = x_batch\n",
        "    x_dummy = np.zeros(x_r.shape, dtype='float32')\n",
        "    z_dummy = np.zeros(z.shape, dtype='float32')\n",
        "\n",
        "    # Train autoencoder\n",
        "    enc_trainer.train_on_batch([x_r, c], [x_dummy, z_dummy])\n",
        "    \n",
        "\n",
        "    return loss\n",
        "\n",
        "\n",
        "#%% Training \n",
        "n_epoch = 100\n",
        "\n",
        "\n",
        "size = x_train.shape[0]\n",
        "loss = 0\n",
        "\n",
        "for epoch in range(n_epoch):\n",
        "    print (\"epochs: \", epoch)\n",
        "    print (\"Losses\", loss)\n",
        "    for i in range(int(size/m)):\n",
        "        idx = np.random.randint(0, x_train.shape[0], m)\n",
        "        imgs = x_train[idx]\n",
        "        labels = y_train[idx]\n",
        "        loss = train_on_batch([imgs, labels], epoch)\n",
        "    #save input image\n",
        "    save_batch_result(imgs[0:50], CVAE_Fixed_results, epoch)\n",
        "    #save generated image\n",
        "    f_latent = encoder.predict([imgs[0:50], labels[0:50]])\n",
        "    f_image = decoder.predict([f_latent, labels[0:50]])\n",
        "    save_batch_result(f_image, CVAE_Random_results, epoch)\n",
        "    show_result(f_image, CVAE_Results, epoch, True)\n",
        "\n",
        "\n",
        "#%%\n",
        "\n",
        "\n"
      ],
      "execution_count": 19,
      "outputs": [
        {
          "output_type": "stream",
          "text": [
            "epochs:  0\n",
            "Losses 0\n"
          ],
          "name": "stdout"
        },
        {
          "output_type": "stream",
          "text": [
            "/usr/local/lib/python3.6/dist-packages/skimage/util/dtype.py:122: UserWarning: Possible precision loss when converting from float64 to uint8\n",
            "  .format(dtypeobj_in, dtypeobj_out))\n",
            "/usr/local/lib/python3.6/dist-packages/skimage/util/dtype.py:122: UserWarning: Possible precision loss when converting from float32 to uint8\n",
            "  .format(dtypeobj_in, dtypeobj_out))\n",
            "/usr/local/lib/python3.6/dist-packages/skimage/io/_io.py:132: UserWarning: /content/drive/My Drive/Colab Notebooks/cvae/CVAE_Random_results/0_4.png is a low contrast image\n",
            "  warn('%s is a low contrast image' % fname)\n",
            "/usr/local/lib/python3.6/dist-packages/skimage/io/_io.py:132: UserWarning: /content/drive/My Drive/Colab Notebooks/cvae/CVAE_Random_results/0_6.png is a low contrast image\n",
            "  warn('%s is a low contrast image' % fname)\n",
            "/usr/local/lib/python3.6/dist-packages/skimage/io/_io.py:132: UserWarning: /content/drive/My Drive/Colab Notebooks/cvae/CVAE_Random_results/0_12.png is a low contrast image\n",
            "  warn('%s is a low contrast image' % fname)\n",
            "/usr/local/lib/python3.6/dist-packages/skimage/io/_io.py:132: UserWarning: /content/drive/My Drive/Colab Notebooks/cvae/CVAE_Random_results/0_31.png is a low contrast image\n",
            "  warn('%s is a low contrast image' % fname)\n",
            "/usr/local/lib/python3.6/dist-packages/skimage/io/_io.py:132: UserWarning: /content/drive/My Drive/Colab Notebooks/cvae/CVAE_Random_results/0_35.png is a low contrast image\n",
            "  warn('%s is a low contrast image' % fname)\n",
            "/usr/local/lib/python3.6/dist-packages/skimage/io/_io.py:132: UserWarning: /content/drive/My Drive/Colab Notebooks/cvae/CVAE_Random_results/0_38.png is a low contrast image\n",
            "  warn('%s is a low contrast image' % fname)\n"
          ],
          "name": "stderr"
        },
        {
          "output_type": "display_data",
          "data": {
            "image/png": "[encoded data removed]",
            "text/plain": [
              "<matplotlib.figure.Figure at 0x7fe5659fd2e8>"
            ]
          },
          "metadata": {
            "tags": []
          }
        },
        {
          "output_type": "stream",
          "text": [
            "epochs:  1\n",
            "Losses 0\n"
          ],
          "name": "stdout"
        },
        {
          "output_type": "error",
          "ename": "KeyboardInterrupt",
          "evalue": "ignored",
          "traceback": [
            "\u001b[0;31m---------------------------------------------------------------------------\u001b[0m",
            "\u001b[0;31mKeyboardInterrupt\u001b[0m                         Traceback (most recent call last)",
            "\u001b[0;32m<ipython-input-19-7782ed85b95a>\u001b[0m in \u001b[0;36m<module>\u001b[0;34m()\u001b[0m\n\u001b[1;32m     57\u001b[0m         \u001b[0mloss\u001b[0m \u001b[0;34m=\u001b[0m \u001b[0mtrain_on_batch\u001b[0m\u001b[0;34m(\u001b[0m\u001b[0;34m[\u001b[0m\u001b[0mimgs\u001b[0m\u001b[0;34m,\u001b[0m \u001b[0mlabels\u001b[0m\u001b[0;34m]\u001b[0m\u001b[0;34m,\u001b[0m \u001b[0mepoch\u001b[0m\u001b[0;34m)\u001b[0m\u001b[0;34m\u001b[0m\u001b[0;34m\u001b[0m\u001b[0m\n\u001b[1;32m     58\u001b[0m     \u001b[0;31m#save input image\u001b[0m\u001b[0;34m\u001b[0m\u001b[0;34m\u001b[0m\u001b[0;34m\u001b[0m\u001b[0m\n\u001b[0;32m---> 59\u001b[0;31m     \u001b[0msave_batch_result\u001b[0m\u001b[0;34m(\u001b[0m\u001b[0mimgs\u001b[0m\u001b[0;34m[\u001b[0m\u001b[0;36m0\u001b[0m\u001b[0;34m:\u001b[0m\u001b[0;36m50\u001b[0m\u001b[0;34m]\u001b[0m\u001b[0;34m,\u001b[0m \u001b[0mCVAE_Fixed_results\u001b[0m\u001b[0;34m,\u001b[0m \u001b[0mepoch\u001b[0m\u001b[0;34m)\u001b[0m\u001b[0;34m\u001b[0m\u001b[0;34m\u001b[0m\u001b[0m\n\u001b[0m\u001b[1;32m     60\u001b[0m     \u001b[0;31m#save generated image\u001b[0m\u001b[0;34m\u001b[0m\u001b[0;34m\u001b[0m\u001b[0;34m\u001b[0m\u001b[0m\n\u001b[1;32m     61\u001b[0m     \u001b[0mf_latent\u001b[0m \u001b[0;34m=\u001b[0m \u001b[0mencoder\u001b[0m\u001b[0;34m.\u001b[0m\u001b[0mpredict\u001b[0m\u001b[0;34m(\u001b[0m\u001b[0;34m[\u001b[0m\u001b[0mimgs\u001b[0m\u001b[0;34m[\u001b[0m\u001b[0;36m0\u001b[0m\u001b[0;34m:\u001b[0m\u001b[0;36m50\u001b[0m\u001b[0;34m]\u001b[0m\u001b[0;34m,\u001b[0m \u001b[0mlabels\u001b[0m\u001b[0;34m[\u001b[0m\u001b[0;36m0\u001b[0m\u001b[0;34m:\u001b[0m\u001b[0;36m50\u001b[0m\u001b[0;34m]\u001b[0m\u001b[0;34m]\u001b[0m\u001b[0;34m)\u001b[0m\u001b[0;34m\u001b[0m\u001b[0;34m\u001b[0m\u001b[0m\n",
            "\u001b[0;32m<ipython-input-19-7782ed85b95a>\u001b[0m in \u001b[0;36msave_batch_result\u001b[0;34m(batch_data, path, epoch)\u001b[0m\n\u001b[1;32m      5\u001b[0m         \u001b[0mf_name\u001b[0m \u001b[0;34m=\u001b[0m \u001b[0mstr\u001b[0m\u001b[0;34m(\u001b[0m\u001b[0mepoch\u001b[0m\u001b[0;34m)\u001b[0m \u001b[0;34m+\u001b[0m \u001b[0;34m'_'\u001b[0m \u001b[0;34m+\u001b[0m \u001b[0mstr\u001b[0m\u001b[0;34m(\u001b[0m\u001b[0mi\u001b[0m\u001b[0;34m)\u001b[0m \u001b[0;34m+\u001b[0m \u001b[0;34m'.png'\u001b[0m\u001b[0;34m\u001b[0m\u001b[0;34m\u001b[0m\u001b[0m\n\u001b[1;32m      6\u001b[0m         \u001b[0mimg_sav\u001b[0m \u001b[0;34m=\u001b[0m \u001b[0mbatch_data\u001b[0m\u001b[0;34m[\u001b[0m\u001b[0mi\u001b[0m\u001b[0;34m]\u001b[0m\u001b[0;34m\u001b[0m\u001b[0;34m\u001b[0m\u001b[0m\n\u001b[0;32m----> 7\u001b[0;31m         \u001b[0mimsave\u001b[0m\u001b[0;34m(\u001b[0m\u001b[0mos\u001b[0m\u001b[0;34m.\u001b[0m\u001b[0mpath\u001b[0m\u001b[0;34m.\u001b[0m\u001b[0mjoin\u001b[0m\u001b[0;34m(\u001b[0m\u001b[0mpath\u001b[0m\u001b[0;34m,\u001b[0m\u001b[0mf_name\u001b[0m\u001b[0;34m)\u001b[0m\u001b[0;34m,\u001b[0m \u001b[0mimg_sav\u001b[0m\u001b[0;34m)\u001b[0m\u001b[0;34m\u001b[0m\u001b[0;34m\u001b[0m\u001b[0m\n\u001b[0m\u001b[1;32m      8\u001b[0m \u001b[0;34m\u001b[0m\u001b[0m\n\u001b[1;32m      9\u001b[0m \u001b[0;32mdef\u001b[0m \u001b[0mshow_result\u001b[0m\u001b[0;34m(\u001b[0m\u001b[0mbatch_data\u001b[0m\u001b[0;34m,\u001b[0m \u001b[0mpath\u001b[0m\u001b[0;34m,\u001b[0m \u001b[0mepoch\u001b[0m\u001b[0;34m,\u001b[0m \u001b[0mshow\u001b[0m\u001b[0;34m)\u001b[0m\u001b[0;34m:\u001b[0m\u001b[0;34m\u001b[0m\u001b[0;34m\u001b[0m\u001b[0m\n",
            "\u001b[0;32m/usr/local/lib/python3.6/dist-packages/skimage/io/_io.py\u001b[0m in \u001b[0;36mimsave\u001b[0;34m(fname, arr, plugin, **plugin_args)\u001b[0m\n\u001b[1;32m    131\u001b[0m     \u001b[0;32mif\u001b[0m \u001b[0mis_low_contrast\u001b[0m\u001b[0;34m(\u001b[0m\u001b[0marr\u001b[0m\u001b[0;34m)\u001b[0m\u001b[0;34m:\u001b[0m\u001b[0;34m\u001b[0m\u001b[0;34m\u001b[0m\u001b[0m\n\u001b[1;32m    132\u001b[0m         \u001b[0mwarn\u001b[0m\u001b[0;34m(\u001b[0m\u001b[0;34m'%s is a low contrast image'\u001b[0m \u001b[0;34m%\u001b[0m \u001b[0mfname\u001b[0m\u001b[0;34m)\u001b[0m\u001b[0;34m\u001b[0m\u001b[0;34m\u001b[0m\u001b[0m\n\u001b[0;32m--> 133\u001b[0;31m     \u001b[0;32mreturn\u001b[0m \u001b[0mcall_plugin\u001b[0m\u001b[0;34m(\u001b[0m\u001b[0;34m'imsave'\u001b[0m\u001b[0;34m,\u001b[0m \u001b[0mfname\u001b[0m\u001b[0;34m,\u001b[0m \u001b[0marr\u001b[0m\u001b[0;34m,\u001b[0m \u001b[0mplugin\u001b[0m\u001b[0;34m=\u001b[0m\u001b[0mplugin\u001b[0m\u001b[0;34m,\u001b[0m \u001b[0;34m**\u001b[0m\u001b[0mplugin_args\u001b[0m\u001b[0;34m)\u001b[0m\u001b[0;34m\u001b[0m\u001b[0;34m\u001b[0m\u001b[0m\n\u001b[0m\u001b[1;32m    134\u001b[0m \u001b[0;34m\u001b[0m\u001b[0m\n\u001b[1;32m    135\u001b[0m \u001b[0;34m\u001b[0m\u001b[0m\n",
            "\u001b[0;32m/usr/local/lib/python3.6/dist-packages/skimage/io/manage_plugins.py\u001b[0m in \u001b[0;36mcall_plugin\u001b[0;34m(kind, *args, **kwargs)\u001b[0m\n\u001b[1;32m    209\u001b[0m                                (plugin, kind))\n\u001b[1;32m    210\u001b[0m \u001b[0;34m\u001b[0m\u001b[0m\n\u001b[0;32m--> 211\u001b[0;31m     \u001b[0;32mreturn\u001b[0m \u001b[0mfunc\u001b[0m\u001b[0;34m(\u001b[0m\u001b[0;34m*\u001b[0m\u001b[0margs\u001b[0m\u001b[0;34m,\u001b[0m \u001b[0;34m**\u001b[0m\u001b[0mkwargs\u001b[0m\u001b[0;34m)\u001b[0m\u001b[0;34m\u001b[0m\u001b[0;34m\u001b[0m\u001b[0m\n\u001b[0m\u001b[1;32m    212\u001b[0m \u001b[0;34m\u001b[0m\u001b[0m\n\u001b[1;32m    213\u001b[0m \u001b[0;34m\u001b[0m\u001b[0m\n",
            "\u001b[0;32m/usr/local/lib/python3.6/dist-packages/skimage/io/_plugins/pil_plugin.py\u001b[0m in \u001b[0;36mimsave\u001b[0;34m(fname, arr, format_str, **kwargs)\u001b[0m\n\u001b[1;32m    258\u001b[0m \u001b[0;34m\u001b[0m\u001b[0m\n\u001b[1;32m    259\u001b[0m     \u001b[0mimg\u001b[0m \u001b[0;34m=\u001b[0m \u001b[0mndarray_to_pil\u001b[0m\u001b[0;34m(\u001b[0m\u001b[0marr\u001b[0m\u001b[0;34m,\u001b[0m \u001b[0mformat_str\u001b[0m\u001b[0;34m=\u001b[0m\u001b[0mformat_str\u001b[0m\u001b[0;34m)\u001b[0m\u001b[0;34m\u001b[0m\u001b[0;34m\u001b[0m\u001b[0m\n\u001b[0;32m--> 260\u001b[0;31m     \u001b[0mimg\u001b[0m\u001b[0;34m.\u001b[0m\u001b[0msave\u001b[0m\u001b[0;34m(\u001b[0m\u001b[0mfname\u001b[0m\u001b[0;34m,\u001b[0m \u001b[0mformat\u001b[0m\u001b[0;34m=\u001b[0m\u001b[0mformat_str\u001b[0m\u001b[0;34m,\u001b[0m \u001b[0;34m**\u001b[0m\u001b[0mkwargs\u001b[0m\u001b[0;34m)\u001b[0m\u001b[0;34m\u001b[0m\u001b[0;34m\u001b[0m\u001b[0m\n\u001b[0m",
            "\u001b[0;32m/usr/local/lib/python3.6/dist-packages/PIL/Image.py\u001b[0m in \u001b[0;36msave\u001b[0;34m(self, fp, format, **params)\u001b[0m\n\u001b[1;32m   1723\u001b[0m             \u001b[0;31m# Open also for reading (\"+\"), because TIFF save_all\u001b[0m\u001b[0;34m\u001b[0m\u001b[0;34m\u001b[0m\u001b[0;34m\u001b[0m\u001b[0m\n\u001b[1;32m   1724\u001b[0m             \u001b[0;31m# writer needs to go back and edit the written data.\u001b[0m\u001b[0;34m\u001b[0m\u001b[0;34m\u001b[0m\u001b[0;34m\u001b[0m\u001b[0m\n\u001b[0;32m-> 1725\u001b[0;31m             \u001b[0mfp\u001b[0m \u001b[0;34m=\u001b[0m \u001b[0mbuiltins\u001b[0m\u001b[0;34m.\u001b[0m\u001b[0mopen\u001b[0m\u001b[0;34m(\u001b[0m\u001b[0mfilename\u001b[0m\u001b[0;34m,\u001b[0m \u001b[0;34m\"w+b\"\u001b[0m\u001b[0;34m)\u001b[0m\u001b[0;34m\u001b[0m\u001b[0;34m\u001b[0m\u001b[0m\n\u001b[0m\u001b[1;32m   1726\u001b[0m \u001b[0;34m\u001b[0m\u001b[0m\n\u001b[1;32m   1727\u001b[0m         \u001b[0;32mtry\u001b[0m\u001b[0;34m:\u001b[0m\u001b[0;34m\u001b[0m\u001b[0;34m\u001b[0m\u001b[0m\n",
            "\u001b[0;31mKeyboardInterrupt\u001b[0m: "
          ]
        }
      ]
    }
  ]
}