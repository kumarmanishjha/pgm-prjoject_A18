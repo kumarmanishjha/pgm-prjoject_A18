{
  "nbformat": 4,
  "nbformat_minor": 0,
  "metadata": {
    "colab": {
      "name": "VAE",
      "version": "0.3.2",
      "provenance": [],
      "collapsed_sections": [],
      "include_colab_link": true
    },
    "kernelspec": {
      "name": "python3",
      "display_name": "Python 3"
    },
    "accelerator": "GPU"
  },
  "cells": [
    {
      "cell_type": "markdown",
      "metadata": {
        "id": "view-in-github",
        "colab_type": "text"
      },
      "source": [
        "<a href=\"https://colab.research.google.com/github/kumarmanishjha/pgm-prjoject_A18/blob/master/VAE_with_conv_layers.ipynb\" target=\"_parent\"><img src=\"https://colab.research.google.com/assets/colab-badge.svg\" alt=\"Open In Colab\"/></a>"
      ]
    },
    {
      "metadata": {
        "id": "hDONvT3gc7fK",
        "colab_type": "code",
        "colab": {
          "base_uri": "https://localhost:8080/",
          "height": 85
        },
        "outputId": "f239912f-32ff-4e75-cca3-4d81faf33b06"
      },
      "cell_type": "code",
      "source": [
        "import numpy as np\n",
        "import matplotlib.pyplot as plt\n",
        "import keras.backend as K\n",
        "import tensorflow as tf\n",
        "\n",
        "from keras.datasets import mnist, cifar10\n",
        "from keras.layers import Input, Dense, Lambda, Concatenate\n",
        "from keras.models import Model\n",
        "from keras.objectives import binary_crossentropy\n",
        "from keras.callbacks import LearningRateScheduler\n",
        "from keras.utils import to_categorical\n",
        "from keras.layers import Conv2D, BatchNormalization, Dropout, Flatten, Reshape, AveragePooling2D, UpSampling2D\n",
        "\n",
        "#MNIST\n",
        "num_classes = 10\n",
        "\n",
        "(x_train, y_train_), (x_test, y_test_) = cifar10.load_data()\n",
        "#(x_train, y_train_), (x_test, y_test_) = mnist.load_data()\n",
        "x_train = x_train.astype('float32') / 255.\n",
        "x_test = x_test.astype('float32') / 255.\n",
        "y_train = to_categorical(y_train_, num_classes)\n",
        "y_test = to_categorical(y_test_, num_classes)\n",
        "\n",
        "m = 100\n",
        "n_epoch = 20\n",
        "\n",
        "latent_dim= 2\n",
        "\n",
        "#Use image and label as input together\n",
        "\n",
        "# Q(z|X,y) -- encoder\n",
        "\n",
        "pic_size = 32\n",
        "channel = 3\n",
        "\n",
        "inputs = Input(shape=(pic_size,pic_size,channel))\n",
        "\n",
        "print(inputs.shape)\n"
      ],
      "execution_count": 1,
      "outputs": [
        {
          "output_type": "stream",
          "text": [
            "Using TensorFlow backend.\n"
          ],
          "name": "stderr"
        },
        {
          "output_type": "stream",
          "text": [
            "Downloading data from https://www.cs.toronto.edu/~kriz/cifar-10-python.tar.gz\n",
            "170500096/170498071 [==============================] - 23s 0us/step\n",
            "(?, 32, 32, 3)\n"
          ],
          "name": "stdout"
        }
      ]
    },
    {
      "metadata": {
        "id": "rQiFBbmpc7cT",
        "colab_type": "code",
        "colab": {
          "base_uri": "https://localhost:8080/",
          "height": 221
        },
        "outputId": "75bb34b8-1e2d-427b-c13f-97d5e0aedacf"
      },
      "cell_type": "code",
      "source": [
        "print(inputs.shape)\n",
        "x = Conv2D(32, (3, 3), padding='same', activation='relu')(inputs)\n",
        "print(x.shape)\n",
        "x = Conv2D(32, (3, 3), padding='same', activation='relu')(x)\n",
        "print(x.shape)\n",
        "x = AveragePooling2D(pool_size=(2, 2))(x)\n",
        "print(x.shape)\n",
        "x = Dropout(0.2)(x)\n",
        "\n",
        "x = Conv2D(64, (3, 3), padding='same', activation='relu')(x)\n",
        "print(x.shape)\n",
        "x = Conv2D(64, (3, 3), padding='same', activation='relu')(x)\n",
        "print(x.shape)\n",
        "x = AveragePooling2D(pool_size=(2, 2))(x)\n",
        "print(x.shape)\n",
        "x = Dropout(0.2)(x)\n",
        "\n",
        "x = Conv2D(128, (3, 3), padding='same', activation='relu')(x)\n",
        "print(x.shape)\n",
        "x = Conv2D(128, (3, 3), padding='same', activation='relu')(x)\n",
        "print(x.shape)\n",
        "x = AveragePooling2D(pool_size=(2, 2))(x)\n",
        "print(x.shape)\n",
        "x = Dropout(0.2)(x)\n",
        "\n",
        "\n",
        "x = Flatten()(x)\n",
        "print(x.shape)\n",
        "\n",
        "h = Dense(pic_size, activation='relu')(x)\n",
        "print(h.shape)"
      ],
      "execution_count": 2,
      "outputs": [
        {
          "output_type": "stream",
          "text": [
            "(?, 32, 32, 3)\n",
            "(?, 32, 32, 32)\n",
            "(?, 32, 32, 32)\n",
            "(?, 16, 16, 32)\n",
            "(?, 16, 16, 64)\n",
            "(?, 16, 16, 64)\n",
            "(?, 8, 8, 64)\n",
            "(?, 8, 8, 128)\n",
            "(?, 8, 8, 128)\n",
            "(?, 4, 4, 128)\n",
            "(?, ?)\n",
            "(?, 32)\n"
          ],
          "name": "stdout"
        }
      ]
    },
    {
      "metadata": {
        "id": "tA3aCchwc7N3",
        "colab_type": "code",
        "colab": {
          "base_uri": "https://localhost:8080/",
          "height": 51
        },
        "outputId": "3b3a0b0d-a957-4cf4-83d1-b306b87c025c"
      },
      "cell_type": "code",
      "source": [
        "# calculate the mu and sigmas \n",
        "mu = Dense(latent_dim)(h)\n",
        "print(mu.shape)\n",
        "log_sigma = Dense(latent_dim)(h)\n",
        "print(log_sigma.shape)"
      ],
      "execution_count": 3,
      "outputs": [
        {
          "output_type": "stream",
          "text": [
            "(?, 2)\n",
            "(?, 2)\n"
          ],
          "name": "stdout"
        }
      ]
    },
    {
      "metadata": {
        "id": "geFGyV1lc66n",
        "colab_type": "code",
        "colab": {
          "base_uri": "https://localhost:8080/",
          "height": 34
        },
        "outputId": "1992449b-683f-48b9-bc36-ed1dfb675171"
      },
      "cell_type": "code",
      "source": [
        "def sample_z(args):\n",
        "    mu, log_sigma = args\n",
        "    batch = K.shape(mu)[0]\n",
        "    dim = K.int_shape(mu)[1]\n",
        "    # by default, random_normal has mean=0 and std=1.0\n",
        "    epsilon = K.random_normal(shape=(batch, dim))\n",
        "    return mu + K.exp(0.5 * log_sigma) * epsilon\n",
        "  \n",
        "z = Lambda(sample_z)([mu, log_sigma])\n",
        "print(z.shape)"
      ],
      "execution_count": 4,
      "outputs": [
        {
          "output_type": "stream",
          "text": [
            "(?, 2)\n"
          ],
          "name": "stdout"
        }
      ]
    },
    {
      "metadata": {
        "id": "FLHsUZf0b8nR",
        "colab_type": "code",
        "colab": {
          "base_uri": "https://localhost:8080/",
          "height": 221
        },
        "outputId": "6f0f239e-5fb4-43d7-81ab-641c306aae2a"
      },
      "cell_type": "code",
      "source": [
        "x = Dense(4*4*pic_size, activation='relu')(z)\n",
        "print(x.shape)\n",
        "x = Reshape((4,4,pic_size))(x)\n",
        "print(x.shape)\n",
        "\n",
        "\n",
        "x = UpSampling2D((2, 2))(x)\n",
        "print(x.shape)\n",
        "x = Conv2D(256, (3, 3), padding='same', activation='relu')(x)\n",
        "print(x.shape)\n",
        "x = Conv2D(256, (3, 3), padding='same', activation='relu')(x)\n",
        "print(x.shape)\n",
        "\n",
        "x = UpSampling2D((2, 2))(x)\n",
        "print(x.shape)\n",
        "x = Conv2D(128, (3, 3), padding='same', activation='relu')(x)\n",
        "print(x.shape)\n",
        "x = Conv2D(128, (3, 3), padding='same', activation='relu')(x)\n",
        "print(x.shape)\n",
        "\n",
        "x = UpSampling2D((2, 2))(x)\n",
        "print(x.shape)\n",
        "x = Conv2D(64, (3, 3), padding='same', activation='relu')(x)\n",
        "print(x.shape)\n",
        "x = Conv2D(64, (3, 3), padding='same', activation='relu')(x)\n",
        "print(x.shape)\n",
        "\n",
        "h_decoded = Conv2D(3, (3, 3), activation='sigmoid', padding='same')(x)\n",
        "print(h_decoded.shape)\n"
      ],
      "execution_count": 5,
      "outputs": [
        {
          "output_type": "stream",
          "text": [
            "(?, 512)\n",
            "(?, 4, 4, 32)\n",
            "(?, 8, 8, 32)\n",
            "(?, 8, 8, 256)\n",
            "(?, 8, 8, 256)\n",
            "(?, 16, 16, 256)\n",
            "(?, 16, 16, 128)\n",
            "(?, 16, 16, 128)\n",
            "(?, 32, 32, 128)\n",
            "(?, 32, 32, 64)\n",
            "(?, 32, 32, 64)\n",
            "(?, 32, 32, 3)\n"
          ],
          "name": "stdout"
        }
      ]
    },
    {
      "metadata": {
        "id": "HvIyKdANb80u",
        "colab_type": "code",
        "colab": {}
      },
      "cell_type": "code",
      "source": [
        "#outputs = decoder(encoder(inputs)[2])\n",
        "\n",
        "vae = Model(inputs, h_decoded)"
      ],
      "execution_count": 0,
      "outputs": []
    },
    {
      "metadata": {
        "id": "BVstW4dUP_xR",
        "colab_type": "code",
        "colab": {}
      },
      "cell_type": "code",
      "source": [
        "from keras import objectives\n",
        "def vae_loss(inputs, h_decoded):\n",
        "    xent_loss = K.mean(objectives.binary_crossentropy(inputs, h_decoded) *pic_size*pic_size*3)\n",
        "    kl_loss = - 0.5 * K.sum(1 + log_sigma - K.square(mu) - K.exp(log_sigma), axis=-1)\n",
        "    return xent_loss + kl_loss\n",
        "  \n",
        "vae.compile(optimizer='adam', loss=vae_loss)"
      ],
      "execution_count": 0,
      "outputs": []
    },
    {
      "metadata": {
        "id": "F-YtA8qIb8v2",
        "colab_type": "code",
        "colab": {}
      },
      "cell_type": "code",
      "source": [
        "#vae.fit(x_train, x_train, batch_size = m, epochs = 20)"
      ],
      "execution_count": 0,
      "outputs": []
    },
    {
      "metadata": {
        "id": "VMmugfvdDM1w",
        "colab_type": "code",
        "colab": {
          "base_uri": "https://localhost:8080/",
          "height": 765
        },
        "outputId": "6f40e96e-ca12-40ef-b33b-007a75ec4f45"
      },
      "cell_type": "code",
      "source": [
        "#Encoder Model\n",
        "encoder = Model(inputs, [mu, log_sigma, z])\n",
        "\n",
        "#encoder = Model(inputs, mu)\n",
        "encoder.summary()"
      ],
      "execution_count": 8,
      "outputs": [
        {
          "output_type": "stream",
          "text": [
            "__________________________________________________________________________________________________\n",
            "Layer (type)                    Output Shape         Param #     Connected to                     \n",
            "==================================================================================================\n",
            "input_1 (InputLayer)            (None, 32, 32, 3)    0                                            \n",
            "__________________________________________________________________________________________________\n",
            "conv2d_1 (Conv2D)               (None, 32, 32, 32)   896         input_1[0][0]                    \n",
            "__________________________________________________________________________________________________\n",
            "conv2d_2 (Conv2D)               (None, 32, 32, 32)   9248        conv2d_1[0][0]                   \n",
            "__________________________________________________________________________________________________\n",
            "average_pooling2d_1 (AveragePoo (None, 16, 16, 32)   0           conv2d_2[0][0]                   \n",
            "__________________________________________________________________________________________________\n",
            "dropout_1 (Dropout)             (None, 16, 16, 32)   0           average_pooling2d_1[0][0]        \n",
            "__________________________________________________________________________________________________\n",
            "conv2d_3 (Conv2D)               (None, 16, 16, 64)   18496       dropout_1[0][0]                  \n",
            "__________________________________________________________________________________________________\n",
            "conv2d_4 (Conv2D)               (None, 16, 16, 64)   36928       conv2d_3[0][0]                   \n",
            "__________________________________________________________________________________________________\n",
            "average_pooling2d_2 (AveragePoo (None, 8, 8, 64)     0           conv2d_4[0][0]                   \n",
            "__________________________________________________________________________________________________\n",
            "dropout_2 (Dropout)             (None, 8, 8, 64)     0           average_pooling2d_2[0][0]        \n",
            "__________________________________________________________________________________________________\n",
            "conv2d_5 (Conv2D)               (None, 8, 8, 128)    73856       dropout_2[0][0]                  \n",
            "__________________________________________________________________________________________________\n",
            "conv2d_6 (Conv2D)               (None, 8, 8, 128)    147584      conv2d_5[0][0]                   \n",
            "__________________________________________________________________________________________________\n",
            "average_pooling2d_3 (AveragePoo (None, 4, 4, 128)    0           conv2d_6[0][0]                   \n",
            "__________________________________________________________________________________________________\n",
            "dropout_3 (Dropout)             (None, 4, 4, 128)    0           average_pooling2d_3[0][0]        \n",
            "__________________________________________________________________________________________________\n",
            "flatten_1 (Flatten)             (None, 2048)         0           dropout_3[0][0]                  \n",
            "__________________________________________________________________________________________________\n",
            "dense_1 (Dense)                 (None, 32)           65568       flatten_1[0][0]                  \n",
            "__________________________________________________________________________________________________\n",
            "dense_2 (Dense)                 (None, 2)            66          dense_1[0][0]                    \n",
            "__________________________________________________________________________________________________\n",
            "dense_3 (Dense)                 (None, 2)            66          dense_1[0][0]                    \n",
            "__________________________________________________________________________________________________\n",
            "lambda_1 (Lambda)               (None, 2)            0           dense_2[0][0]                    \n",
            "                                                                 dense_3[0][0]                    \n",
            "==================================================================================================\n",
            "Total params: 352,708\n",
            "Trainable params: 352,708\n",
            "Non-trainable params: 0\n",
            "__________________________________________________________________________________________________\n"
          ],
          "name": "stdout"
        }
      ]
    },
    {
      "metadata": {
        "id": "Jq2qQCTGDegw",
        "colab_type": "code",
        "colab": {
          "base_uri": "https://localhost:8080/",
          "height": 799
        },
        "outputId": "5b31a666-fcb3-4cde-d0de-27875a68a2ac"
      },
      "cell_type": "code",
      "source": [
        "#decoder\n",
        "\n",
        "latent_inputs = Input(shape=(latent_dim,))\n",
        "print(latent_inputs.shape)\n",
        "\n",
        "x = Dense(4*4*pic_size, activation='relu')(latent_inputs)\n",
        "print(x.shape)\n",
        "x = Reshape((4,4,pic_size))(x)\n",
        "print(x.shape)\n",
        "\n",
        "\n",
        "x = UpSampling2D((2, 2))(x)\n",
        "print(x.shape)\n",
        "x = Conv2D(256, (3, 3), padding='same', activation='relu')(x)\n",
        "print(x.shape)\n",
        "x = Conv2D(256, (3, 3), padding='same', activation='relu')(x)\n",
        "print(x.shape)\n",
        "\n",
        "x = UpSampling2D((2, 2))(x)\n",
        "print(x.shape)\n",
        "x = Conv2D(128, (3, 3), padding='same', activation='relu')(x)\n",
        "print(x.shape)\n",
        "x = Conv2D(128, (3, 3), padding='same', activation='relu')(x)\n",
        "print(x.shape)\n",
        "\n",
        "x = UpSampling2D((2, 2))(x)\n",
        "print(x.shape)\n",
        "x = Conv2D(64, (3, 3), padding='same', activation='relu')(x)\n",
        "print(x.shape)\n",
        "x = Conv2D(64, (3, 3), padding='same', activation='relu')(x)\n",
        "print(x.shape)\n",
        "\n",
        "x = Conv2D(3, (3, 3), activation='sigmoid', padding='same')(x)\n",
        "print(x.shape)\n",
        "\n",
        "decoder = Model(latent_inputs, x)\n",
        "decoder.summary()\n"
      ],
      "execution_count": 9,
      "outputs": [
        {
          "output_type": "stream",
          "text": [
            "(?, 2)\n",
            "(?, 512)\n",
            "(?, 4, 4, 32)\n",
            "(?, 8, 8, 32)\n",
            "(?, 8, 8, 256)\n",
            "(?, 8, 8, 256)\n",
            "(?, 16, 16, 256)\n",
            "(?, 16, 16, 128)\n",
            "(?, 16, 16, 128)\n",
            "(?, 32, 32, 128)\n",
            "(?, 32, 32, 64)\n",
            "(?, 32, 32, 64)\n",
            "(?, 32, 32, 3)\n",
            "_________________________________________________________________\n",
            "Layer (type)                 Output Shape              Param #   \n",
            "=================================================================\n",
            "input_2 (InputLayer)         (None, 2)                 0         \n",
            "_________________________________________________________________\n",
            "dense_5 (Dense)              (None, 512)               1536      \n",
            "_________________________________________________________________\n",
            "reshape_2 (Reshape)          (None, 4, 4, 32)          0         \n",
            "_________________________________________________________________\n",
            "up_sampling2d_4 (UpSampling2 (None, 8, 8, 32)          0         \n",
            "_________________________________________________________________\n",
            "conv2d_14 (Conv2D)           (None, 8, 8, 256)         73984     \n",
            "_________________________________________________________________\n",
            "conv2d_15 (Conv2D)           (None, 8, 8, 256)         590080    \n",
            "_________________________________________________________________\n",
            "up_sampling2d_5 (UpSampling2 (None, 16, 16, 256)       0         \n",
            "_________________________________________________________________\n",
            "conv2d_16 (Conv2D)           (None, 16, 16, 128)       295040    \n",
            "_________________________________________________________________\n",
            "conv2d_17 (Conv2D)           (None, 16, 16, 128)       147584    \n",
            "_________________________________________________________________\n",
            "up_sampling2d_6 (UpSampling2 (None, 32, 32, 128)       0         \n",
            "_________________________________________________________________\n",
            "conv2d_18 (Conv2D)           (None, 32, 32, 64)        73792     \n",
            "_________________________________________________________________\n",
            "conv2d_19 (Conv2D)           (None, 32, 32, 64)        36928     \n",
            "_________________________________________________________________\n",
            "conv2d_20 (Conv2D)           (None, 32, 32, 3)         1731      \n",
            "=================================================================\n",
            "Total params: 1,220,675\n",
            "Trainable params: 1,220,675\n",
            "Non-trainable params: 0\n",
            "_________________________________________________________________\n"
          ],
          "name": "stdout"
        }
      ]
    },
    {
      "metadata": {
        "id": "JOE6CVzl8Ika",
        "colab_type": "code",
        "colab": {}
      },
      "cell_type": "code",
      "source": [
        "n = 15\n",
        "img_size = 32\n",
        "img_chns = 3\n",
        "figure = np.zeros((img_size * n, img_size * n, img_chns))\n",
        "\n",
        "for i in range(n):\n",
        "    for j in range(n):\n",
        "        z_sample = np.array([np.random.uniform(-1,1 ,size=latent_dim)])\n",
        "        x_decoded = decoder.predict(z_sample)\n",
        "        img = x_decoded[0].reshape(img_size, img_size, img_chns)\n",
        "        figure[i * img_size: (i + 1) * img_size,j * img_size: (j + 1) * img_size] = img\n",
        "\n",
        "\n",
        "plt.figure(figsize=(20, 20))\n",
        "plt.imshow(figure, cmap='Greys_r')\n",
        "plt.show()"
      ],
      "execution_count": 0,
      "outputs": []
    },
    {
      "metadata": {
        "id": "2GKRyH_tcKzD",
        "colab_type": "code",
        "colab": {
          "base_uri": "https://localhost:8080/",
          "height": 139
        },
        "outputId": "21e5459f-884c-4f36-b361-923eecfc2f91"
      },
      "cell_type": "code",
      "source": [
        "from google.colab import drive\n",
        "drive.mount('/content/drive')\n",
        "add_path = '/content/drive/My Drive/Colab Notebooks/cifar_created_img/'\n",
        "\n",
        "'''\n",
        "for i in range(num_generated):\n",
        "    img = pred[i,:].reshape(28,28)\n",
        "    plt.imshow(img, cmap='Greys_r')\n",
        "    plt.savefig(add_path+str(i)+'.png')\n",
        "'''"
      ],
      "execution_count": 11,
      "outputs": [
        {
          "output_type": "stream",
          "text": [
            "Go to this URL in a browser: https://accounts.google.com/o/oauth2/auth?client_id=947318989803-6bn6qk8qdgf4n4g3pfee6491hc0brc4i.apps.googleusercontent.com&redirect_uri=urn%3Aietf%3Awg%3Aoauth%3A2.0%3Aoob&scope=email%20https%3A%2F%2Fwww.googleapis.com%2Fauth%2Fdocs.test%20https%3A%2F%2Fwww.googleapis.com%2Fauth%2Fdrive%20https%3A%2F%2Fwww.googleapis.com%2Fauth%2Fdrive.photos.readonly%20https%3A%2F%2Fwww.googleapis.com%2Fauth%2Fpeopleapi.readonly&response_type=code\n",
            "\n",
            "Enter your authorization code:\n",
            "··········\n",
            "Mounted at /content/drive\n"
          ],
          "name": "stdout"
        },
        {
          "output_type": "execute_result",
          "data": {
            "text/plain": [
              "\"\\nfor i in range(num_generated):\\n    img = pred[i,:].reshape(28,28)\\n    plt.imshow(img, cmap='Greys_r')\\n    plt.savefig(add_path+str(i)+'.png')\\n\""
            ]
          },
          "metadata": {
            "tags": []
          },
          "execution_count": 11
        }
      ]
    },
    {
      "metadata": {
        "id": "TUIt68a8v1IA",
        "colab_type": "code",
        "colab": {
          "base_uri": "https://localhost:8080/",
          "height": 51
        },
        "outputId": "bf6e8927-b6ab-4dc5-96a8-30636b0a8910"
      },
      "cell_type": "code",
      "source": [
        "#%% training\n",
        "from skimage.io import imsave\n",
        "import itertools\n",
        "import os\n",
        "\n",
        "add_path = '/content/drive/My Drive/Colab Notebooks/cifar_created_img/'\n",
        "\n",
        "def save_batch_result(batch_data, path, epoch):\n",
        "    batch_size = batch_data.shape[0]\n",
        "    for i in range(batch_size):\n",
        "        f_name = str(epoch) + '_' + str(i) + '.png'\n",
        "        img_sav = batch_data[i]\n",
        "        imsave(os.path.join(path,f_name), img_sav)\n",
        "\n",
        "def show_result(batch_data, path, epoch, show):\n",
        "      size_figure_grid = 5\n",
        "      fig, ax = plt.subplots(size_figure_grid, size_figure_grid, figsize=(5, 5))\n",
        "      for i, j in itertools.product(range(size_figure_grid), range(size_figure_grid)):\n",
        "          ax[i, j].get_xaxis().set_visible(False)\n",
        "          ax[i, j].get_yaxis().set_visible(False)\n",
        "\n",
        "      for k in range(5*5):\n",
        "          i = k // 5\n",
        "          j = k % 5\n",
        "          ax[i, j].cla()\n",
        "          ax[i, j].imshow(batch_data[k])\n",
        "\n",
        "      label = 'Epoch {0}'.format(epoch)\n",
        "      fig.text(0.5, 0.04, label, ha='center')\n",
        "      plt.savefig(os.path.join(path , str(epoch)))\n",
        "\n",
        "      if show:\n",
        "          plt.show()\n",
        "      else:\n",
        "          plt.close()\n",
        "          \n",
        "def train_on_batch(x_batch, epoch):\n",
        "    x_r = x_batch\n",
        "    batchsize = x_r.shape[0]\n",
        "    loss = vae.train_on_batch(x_r,x_r)\n",
        "    return loss\n",
        "\n",
        "\n",
        "#%%%\n",
        "#%% Training \n",
        "n_epoch = 20  \n",
        "\n",
        "\n",
        "size = x_train.shape[0]\n",
        "loss = 0\n",
        "\n",
        "for epoch in range(n_epoch):\n",
        "    print (\"epochs: \", epoch)\n",
        "    print (\"Losses\", loss)\n",
        "    for i in range(int(size/m)):\n",
        "        idx = np.random.randint(0, x_train.shape[0], m)\n",
        "        imgs = x_train[idx]\n",
        "        loss = train_on_batch(imgs, epoch)\n",
        "    #save input image\n",
        "    save_batch_result(imgs[0:50], add_path, epoch)\n",
        "    #save generated image\n",
        "    f_latent = encoder.predict([imgs[0:50]])\n",
        "    f_image = decoder.predict([f_latent])\n",
        "    save_batch_result(f_image, add_path, epoch)\n",
        "    show_result(f_image, add_path, epoch, True)\n",
        "\n",
        "\n",
        "#%%\n"
      ],
      "execution_count": 0,
      "outputs": [
        {
          "output_type": "stream",
          "text": [
            "epochs:  0\n",
            "Losses 0\n"
          ],
          "name": "stdout"
        }
      ]
    }
  ]
}