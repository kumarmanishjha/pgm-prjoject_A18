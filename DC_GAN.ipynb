{
  "nbformat": 4,
  "nbformat_minor": 0,
  "metadata": {
    "colab": {
      "name": "DC_GAN.ipynb",
      "version": "0.3.2",
      "provenance": [],
      "collapsed_sections": [],
      "include_colab_link": true
    },
    "kernelspec": {
      "name": "python3",
      "display_name": "Python 3"
    },
    "accelerator": "GPU"
  },
  "cells": [
    {
      "cell_type": "markdown",
      "metadata": {
        "id": "view-in-github",
        "colab_type": "text"
      },
      "source": [
        "<a href=\"https://colab.research.google.com/github/kumarmanishjha/pgm-prjoject_A18/blob/master/DC_GAN.ipynb\" target=\"_parent\"><img src=\"https://colab.research.google.com/assets/colab-badge.svg\" alt=\"Open In Colab\"/></a>"
      ]
    },
    {
      "metadata": {
        "id": "J0hITJKAgb5f",
        "colab_type": "code",
        "outputId": "7aa0a867-d378-433b-966a-20875f5019a5",
        "colab": {
          "base_uri": "https://localhost:8080/",
          "height": 241
        }
      },
      "cell_type": "code",
      "source": [
        "# http://pytorch.org/\n",
        "from os.path import exists\n",
        "from wheel.pep425tags import get_abbr_impl, get_impl_ver, get_abi_tag\n",
        "platform = '{}{}-{}'.format(get_abbr_impl(), get_impl_ver(), get_abi_tag())\n",
        "cuda_output = !ldconfig -p|grep cudart.so|sed -e 's/.*\\.\\([0-9]*\\)\\.\\([0-9]*\\)$/cu\\1\\2/'\n",
        "accelerator = cuda_output[0] if exists('/dev/nvidia0') else 'cpu'\n",
        "\n",
        "!pip install -q http://download.pytorch.org/whl/{accelerator}/torch-0.4.1-{platform}-linux_x86_64.whl torchvision\n",
        "  \n",
        "!pip install imageio  "
      ],
      "execution_count": 1,
      "outputs": [
        {
          "output_type": "stream",
          "text": [
            "tcmalloc: large alloc 1073750016 bytes == 0x57cd2000 @  0x7f75e5b112a4 0x591a07 0x5b5d56 0x502e9a 0x506859 0x502209 0x502f3d 0x506859 0x504c28 0x502540 0x502f3d 0x506859 0x504c28 0x502540 0x502f3d 0x506859 0x504c28 0x502540 0x502f3d 0x507641 0x502209 0x502f3d 0x506859 0x504c28 0x502540 0x502f3d 0x507641 0x504c28 0x502540 0x502f3d 0x507641\n",
            "Collecting imageio\n",
            "\u001b[?25l  Downloading https://files.pythonhosted.org/packages/28/b4/cbb592964dfd71a9de6a5b08f882fd334fb99ae09ddc82081dbb2f718c81/imageio-2.4.1.tar.gz (3.3MB)\n",
            "\u001b[K    100% |████████████████████████████████| 3.3MB 10.3MB/s \n",
            "\u001b[?25hRequirement already satisfied: numpy in /usr/local/lib/python3.6/dist-packages (from imageio) (1.14.6)\n",
            "Requirement already satisfied: pillow in /usr/local/lib/python3.6/dist-packages (from imageio) (5.3.0)\n",
            "Building wheels for collected packages: imageio\n",
            "  Running setup.py bdist_wheel for imageio ... \u001b[?25l-\b \b\\\b \b|\b \b/\b \bdone\n",
            "\u001b[?25h  Stored in directory: /root/.cache/pip/wheels/e0/43/31/605de9372ceaf657f152d3d5e82f42cf265d81db8bbe63cde1\n",
            "Successfully built imageio\n",
            "Installing collected packages: imageio\n",
            "Successfully installed imageio-2.4.1\n"
          ],
          "name": "stdout"
        }
      ]
    },
    {
      "metadata": {
        "id": "7pmQU4sLK0Gw",
        "colab_type": "code",
        "outputId": "3f8a2ab1-9e2e-4c39-fda1-7b4e087b5b4a",
        "colab": {
          "base_uri": "https://localhost:8080/",
          "height": 122
        }
      },
      "cell_type": "code",
      "source": [
        "import numpy as np\n",
        "import torch\n",
        "import torch.nn as nn\n",
        "import torch.nn.functional as F\n",
        "import torch.optim as optim\n",
        "import matplotlib.pyplot as plt\n",
        "import os\n",
        "import pickle\n",
        "import random\n",
        "import imageio\n",
        "from torch.autograd import Variable\n",
        "import itertools\n",
        "from torchvision import datasets, transforms, utils\n",
        "from torch.utils.data import DataLoader\n",
        "from torch.utils.data.sampler import SubsetRandomSampler\n",
        "import time\n",
        "\n",
        "from google.colab import drive\n",
        "drive.mount('/content/drive')"
      ],
      "execution_count": 2,
      "outputs": [
        {
          "output_type": "stream",
          "text": [
            "Go to this URL in a browser: https://accounts.google.com/o/oauth2/auth?client_id=947318989803-6bn6qk8qdgf4n4g3pfee6491hc0brc4i.apps.googleusercontent.com&redirect_uri=urn%3Aietf%3Awg%3Aoauth%3A2.0%3Aoob&scope=email%20https%3A%2F%2Fwww.googleapis.com%2Fauth%2Fdocs.test%20https%3A%2F%2Fwww.googleapis.com%2Fauth%2Fdrive%20https%3A%2F%2Fwww.googleapis.com%2Fauth%2Fdrive.photos.readonly%20https%3A%2F%2Fwww.googleapis.com%2Fauth%2Fpeopleapi.readonly&response_type=code\n",
            "\n",
            "Enter your authorization code:\n",
            "··········\n",
            "Mounted at /content/drive\n"
          ],
          "name": "stdout"
        }
      ]
    },
    {
      "metadata": {
        "id": "mClClq_SgI9H",
        "colab_type": "code",
        "colab": {
          "base_uri": "https://localhost:8080/",
          "height": 34
        },
        "outputId": "99543c24-5592-47c9-cb5d-e9264fcc3900"
      },
      "cell_type": "code",
      "source": [
        "# dataset\n",
        "\n",
        "train_MNIST = False\n",
        "train_CIFAR_10 = True\n",
        "\n",
        "image_size = 64\n",
        "\n",
        "transform = transforms.Compose([\n",
        "    transforms.Resize(image_size),\n",
        "    transforms.ToTensor(),\n",
        "    transforms.Normalize((0.5, 0.5, 0.5), (0.5, 0.5, 0.5))\n",
        "])\n",
        "\n",
        "if train_MNIST:\n",
        "     \n",
        "  n_channels = 1 \n",
        "  \n",
        "  train_data = datasets.MNIST('../data', train=True, \n",
        "                            download=True, transform=transform)\n",
        "  \n",
        "    \n",
        "  test_data = datasets.MNIST('../data', train=False, transform=transform)\n",
        "   \n",
        "  set_classes = ('0', '1', '2', '3',\n",
        "           '4', '5', '6', '7', '8', '9')\n",
        "  \n",
        "  # test_data = datasets.MNIST('../data', train=False, transform=transform)\n",
        "  \n",
        "  # 10 categories in total\n",
        "  num_classes = 10\n",
        "  assert len(set_classes) == num_classes\n",
        "  \n",
        "  batch_size = 100\n",
        "  batch_size_eval = 512\n",
        "  added_path = 'drive/My Drive/results/MNIST_GAN_results/'\n",
        "  \n",
        "elif train_CIFAR_10:\n",
        "  \n",
        "  n_channels = 3 \n",
        "  \n",
        "  # CIFAR 10 Data set !!\n",
        "  train_data = datasets.CIFAR10(root='./data', train=True,\n",
        "                              download=True, transform=transform)\n",
        "  \n",
        "    \n",
        "  test_data = datasets.CIFAR10('./data', train=False, transform=transform)\n",
        "  \n",
        "  set_classes = ('plane', 'car', 'bird', 'cat',\n",
        "           'deer', 'dog', 'frog', 'horse', 'ship', 'truck')\n",
        "  \n",
        "  # 10 categories in total\n",
        "  num_classes = 10\n",
        "  assert len(set_classes) == num_classes\n",
        "  \n",
        "  batch_size = 64\n",
        "  batch_size_eval = 256\n",
        "  added_path = 'drive/My Drive/results/CIFAR_GAN_results/'\n",
        "  \n",
        "\n"
      ],
      "execution_count": 4,
      "outputs": [
        {
          "output_type": "stream",
          "text": [
            "Files already downloaded and verified\n"
          ],
          "name": "stdout"
        }
      ]
    },
    {
      "metadata": {
        "id": "LDOimlIHlVVi",
        "colab_type": "code",
        "outputId": "f22e241a-5f79-4d3e-c92d-6c7f4279a61c",
        "colab": {
          "base_uri": "https://localhost:8080/",
          "height": 51
        }
      },
      "cell_type": "code",
      "source": [
        "\n",
        "\n",
        "# CPU or GPU\n",
        "if torch.cuda.is_available():\n",
        "    device = torch.device(\"cuda\")\n",
        "    use_cuda = True\n",
        "    print('using cuda !')\n",
        "else:\n",
        "    device = torch.device(\"cpu\")\n",
        "    use_cuda = False\n",
        "    \n",
        "indices = list(range(len(train_data)))\n",
        "random.shuffle(indices)\n",
        "\n",
        "n_data_total = len(train_data)\n",
        "n_valid = 0\n",
        "n_train_images = n_data_total - n_valid\n",
        "print('n_data_total =', n_data_total, '; n_train_images =', \n",
        "       n_train_images, '; n_valid =', n_valid)\n",
        "\n",
        "\n",
        "# DataLoaders\n",
        "train_loader = DataLoader(\n",
        "    train_data,\n",
        "    batch_size=batch_size,\n",
        "    sampler=SubsetRandomSampler(indices[n_valid:]),\n",
        "    #num_workers=1,\n",
        "    pin_memory=use_cuda\n",
        ")\n",
        "\n",
        "#valid_loader = DataLoader(\n",
        "#    train_data,\n",
        "#    batch_size=batch_size_eval,\n",
        "#    sampler=SubsetRandomSampler(indices[:n_valid]),\n",
        "#    #num_workers=1,\n",
        "#    pin_memory=use_cuda,\n",
        "#)\n",
        "\n",
        "\n",
        "test_loader = DataLoader(\n",
        "    test_data,\n",
        "    batch_size=batch_size_eval,\n",
        "    #num_workers=1,\n",
        "    pin_memory=use_cuda,\n",
        ")\n",
        "\n"
      ],
      "execution_count": 5,
      "outputs": [
        {
          "output_type": "stream",
          "text": [
            "using cuda !\n",
            "n_data_total = 50000 ; n_train_images = 50000 ; n_valid = 0\n"
          ],
          "name": "stdout"
        }
      ]
    },
    {
      "metadata": {
        "id": "-FpGQ9GXZlPn",
        "colab_type": "code",
        "colab": {
          "base_uri": "https://localhost:8080/",
          "height": 126
        },
        "outputId": "f6554c0d-7ca4-455b-878f-d8d5e4eff9bc"
      },
      "cell_type": "code",
      "source": [
        "# visualize and understand the data\n",
        "def imshow(img):\n",
        "    img = img / 2 + 0.5     # unnormalize\n",
        "    npimg = img.numpy()\n",
        "    plt.imshow(np.transpose(npimg, (1, 2, 0)))\n",
        "\n",
        "# get some random training images\n",
        "dataiter = iter(train_loader)\n",
        "images, labels = dataiter.next()\n",
        "\n",
        "# show images\n",
        "imshow(utils.make_grid(images[:8]))\n",
        "# print labels\n",
        "print(' '.join('%5s' % set_classes[labels[j]] for j in range(8)))"
      ],
      "execution_count": 6,
      "outputs": [
        {
          "output_type": "stream",
          "text": [
            " bird horse plane  bird   cat  bird   cat  ship\n"
          ],
          "name": "stdout"
        },
        {
          "output_type": "display_data",
          "data": {
            "image/png": "[encoded data removed]",
            "text/plain": [
              "<matplotlib.figure.Figure at 0x7f5b15345dd8>"
            ]
          },
          "metadata": {
            "tags": []
          }
        }
      ]
    },
    {
      "metadata": {
        "id": "dT_u5EKFl4MM",
        "colab_type": "code",
        "colab": {
          "base_uri": "https://localhost:8080/",
          "height": 34
        },
        "outputId": "bd32c761-4229-437e-bf17-03cb90a6293a"
      },
      "cell_type": "code",
      "source": [
        "def gaussian_noise_sampler(mu, sigma, device):\n",
        "    \"\"\" Gaussian input to the generator\"\"\"\n",
        "    return lambda m, n: torch.Tensor(np.random.normal(mu, sigma, (m, n))).to(device)\n",
        "\n",
        "\n",
        "def uniform_noise_sampler(a, b, device):\n",
        "    \"\"\" Uniform input to the generator of a m x n tensor\"\"\"\n",
        "    return lambda m, n: (b - a) * torch.rand(m, n, 1, 1).to(device) + a\n",
        "  \n",
        "def plot_a_gen_sample(gen_sample):\n",
        "    img = gen_sample.view(image_size, image_size)\n",
        "    plt.imshow(img, cmap='Greys_r')  \n",
        "    plt.show()\n",
        "\n",
        "# We feed in the generator a noise input   \n",
        "# Uniform sampler on [-1, 1]\n",
        "g_noise_input_generator = uniform_noise_sampler(-1, 1, device)\n",
        "# Input noise of size 100\n",
        "dim_gen_input = 100 \n",
        "\n",
        "fixed_noise = g_noise_input_generator(5 * 5, dim_gen_input)\n",
        "\n",
        "def show_result(model_G, dim_gen_input, num_epoch,\n",
        "                show = False, save = False, path = 'result.png', isFix=False):\n",
        "    \n",
        "    with torch.no_grad():\n",
        "      \n",
        "      random_noise = g_noise_input_generator(5 * 5, dim_gen_input)\n",
        "\n",
        "      if isFix:\n",
        "          test_images = model_G(fixed_noise)\n",
        "      else:\n",
        "          test_images = model_G(random_noise)\n",
        "\n",
        "      size_figure_grid = 5\n",
        "      fig, ax = plt.subplots(size_figure_grid, size_figure_grid, figsize=(5, 5))\n",
        "      for i, j in itertools.product(range(size_figure_grid), range(size_figure_grid)):\n",
        "          ax[i, j].get_xaxis().set_visible(False)\n",
        "          ax[i, j].get_yaxis().set_visible(False)\n",
        "\n",
        "      for k in range(5*5):\n",
        "          i = k // 5\n",
        "          j = k % 5\n",
        "          ax[i, j].cla()\n",
        "          if train_MNIST:\n",
        "            ax[i, j].imshow(test_images[k, :].cpu().data.view(image_size, image_size).numpy(), cmap='gray')\n",
        "          else:\n",
        "            ax[i, j].imshow((test_images[k].cpu().data.numpy().transpose(1, 2, 0) + 1) / 2)\n",
        "\n",
        "      label = 'Epoch {0}'.format(num_epoch)\n",
        "      fig.text(0.5, 0.04, label, ha='center')\n",
        "      plt.savefig(path)\n",
        "\n",
        "      if show:\n",
        "          plt.show()\n",
        "      else:\n",
        "          plt.close()\n",
        "        \n",
        "    \n",
        "def show_train_hist(hist, show = False, save = False, path = 'Train_hist.png'):\n",
        "    x = range(len(hist['D_losses']))\n",
        "\n",
        "    y1 = hist['D_losses']\n",
        "    y2 = hist['G_losses']\n",
        "\n",
        "    plt.plot(x, y1, label='D_loss')\n",
        "    plt.plot(x, y2, label='G_loss')\n",
        "\n",
        "    plt.xlabel('Epoch')\n",
        "    plt.ylabel('Loss')\n",
        "\n",
        "    plt.legend(loc=4)\n",
        "    plt.grid(True)\n",
        "    plt.tight_layout()\n",
        "\n",
        "    if save:\n",
        "        plt.savefig(path)\n",
        "\n",
        "    if show:\n",
        "        plt.show()\n",
        "    else:\n",
        "        plt.close()   \n",
        "  \n",
        "print('ok')"
      ],
      "execution_count": 7,
      "outputs": [
        {
          "output_type": "stream",
          "text": [
            "ok\n"
          ],
          "name": "stdout"
        }
      ]
    },
    {
      "metadata": {
        "id": "QxwCEZfcoROe",
        "colab_type": "code",
        "colab": {}
      },
      "cell_type": "code",
      "source": [
        "# Standard slope of the leak of LeakyReLU is 0.01, 0.2 recommended by DCGAN paper\n",
        "# but 0.2 seems to work very badly on our 2d data sets\n",
        "slope_lrelu = 0.2\n",
        "# 'k' steps in the original GAN paper. Can put the discriminator on higher training freq than generator\n",
        "d_steps = 1\n",
        "g_steps = 1\n",
        "\n",
        "n_epochs = 20\n",
        "\n",
        "class Generator(nn.Module):\n",
        "  \n",
        "    def __init__(self, dim_input):\n",
        "        super(Generator, self).__init__()\n",
        "        \n",
        "        self.conv1 = nn.ConvTranspose2d(dim_input, 1024, 4, 1, 0, bias=False)\n",
        "        self.bn1 = nn.BatchNorm2d(1024)\n",
        "        # state size. (1024) x 4 x 4\n",
        "        self.conv2 = nn.ConvTranspose2d(1024, 512, 4, 2, 1, bias=False)\n",
        "        self.bn2 =nn.BatchNorm2d(512)\n",
        "        # state size. (512) x 8 x 8\n",
        "        self.conv3 = nn.ConvTranspose2d(512, 256, 4, 2, 1, bias=False)\n",
        "        self.bn3 = nn.BatchNorm2d(256)\n",
        "        # state size. (256) x 16 x 16\n",
        "        self.conv4 = nn.ConvTranspose2d(256, 128, 4, 2, 1, bias=False)\n",
        "        self.bn4 = nn.BatchNorm2d(128)\n",
        "        # state size. (128) x 32 x 32\n",
        "        self.conv5 = nn.ConvTranspose2d(128, n_channels, 4, 2, 1, bias=False)\n",
        "        self.tanh = nn.Tanh()\n",
        "        # state size. (n_channels) x 64 x 64\n",
        "     \n",
        "\n",
        "    def forward(self, x):\n",
        "        # From https://github.com/soumith/ganhacks,\n",
        "        # use LeakyReLU to avoid sparse gradients\n",
        "        x = F.relu(self.bn1(self.conv1(x)))\n",
        "        x = F.relu(self.bn2(self.conv2(x)))\n",
        "        x = F.relu(self.bn3(self.conv3(x)))\n",
        "        x = F.relu(self.bn4(self.conv4(x)))\n",
        "        x = self.tanh(self.conv5(x))\n",
        "        return x\n",
        "\n",
        "\n",
        "dim_images = int(image_size ** 2)\n",
        "\n",
        "model_G = Generator(dim_gen_input).to(device)\n",
        "\n",
        "\n",
        "class Discriminator(nn.Module):\n",
        "    def __init__(self):\n",
        "        super(Discriminator, self).__init__()\n",
        "         # input is (n_channels) x 64 x 64\n",
        "        self.conv1 = nn.Conv2d(n_channels, 128, 4, 2, 1, bias=False)\n",
        "        self.bn1 = nn.BatchNorm2d(128)\n",
        "        # state size. (128) x 32 x 32\n",
        "        self.conv2 = nn.Conv2d(128, 256, 4, 2, 1, bias=False)\n",
        "        self.bn2 =nn.BatchNorm2d(256)\n",
        "        # state size. (256) x 16 x 16\n",
        "        self.conv3 = nn.Conv2d(256, 512, 4, 2, 1, bias=False)\n",
        "        self.bn3 = nn.BatchNorm2d(512)\n",
        "        # state size. (512) x 8 x 8\n",
        "        self.conv4 = nn.Conv2d(512, 1024, 4, 2, 1, bias=False)\n",
        "        self.bn4 = nn.BatchNorm2d(1024)\n",
        "        # state size. (1024) x 4 x 4\n",
        "        self.conv5 = nn.Conv2d(1024, 1, 4, 1, 0, bias=False)\n",
        "        # state size. (n_channels) x 64 x 64\n",
        "        self.sigmoid = nn.Sigmoid()\n",
        "\n",
        "    def forward(self, x):\n",
        "        x = F.leaky_relu(self.bn1(self.conv1(x)), negative_slope=slope_lrelu, inplace=True)\n",
        "        x = F.leaky_relu(self.bn2(self.conv2(x)), negative_slope=slope_lrelu, inplace=True)\n",
        "        x = F.leaky_relu(self.bn3(self.conv3(x)), negative_slope=slope_lrelu, inplace=True)\n",
        "        x = F.leaky_relu(self.bn4(self.conv4(x)), negative_slope=slope_lrelu, inplace=True)\n",
        "     \n",
        "        # Training a standard binary classifier with a\n",
        "        # sigmoid output (--> using Binary Cross Entropy Loss\n",
        "        return self.sigmoid(self.conv5(x))\n",
        "\n",
        "\n",
        "# Single dimension for 'real' vs. 'fake'\n",
        "# We can change this if we want to use gans that also classify\n",
        "d_output_size = 1\n",
        "\n",
        "model_D = Discriminator().to(device)\n"
      ],
      "execution_count": 0,
      "outputs": []
    },
    {
      "metadata": {
        "id": "XL0d-12qftha",
        "colab_type": "code",
        "outputId": "fa629d65-5f09-4574-b287-5af2b5bb8601",
        "colab": {
          "base_uri": "https://localhost:8080/",
          "height": 34
        }
      },
      "cell_type": "code",
      "source": [
        "# Training\n",
        "# Use same learning rates  for generator + discriminator\n",
        "# Learning rates recommended by the DCGAN paper for Adam\n",
        "learning_rate = 2e-4\n",
        "# From https://github.com/soumith/ganhacks, use Adam Optimizer\n",
        "d_optimizer = optim.Adam(model_D.parameters(), lr=learning_rate, betas=(0.5, 0.999))\n",
        "g_optimizer = optim.Adam(model_G.parameters(), lr=learning_rate, betas=(0.5, 0.999))\n",
        "# use binary cross entropy loss function\n",
        "loss_fn = nn.BCELoss()\n",
        "\n",
        "arr_gradient_D = []\n",
        "arr_gradient_G = []\n",
        "arr_means = []\n",
        "arr_std_dev = []\n",
        "# set to true or false to plot the mean and std_dev\n",
        "plot_means_and_var = False\n",
        "\n",
        "real_label = 1\n",
        "fake_label = 0\n",
        "\n",
        "# results save folder\n",
        "if not os.path.isdir(added_path + 'Random_results'):\n",
        "    os.mkdir(added_path + 'Random_results')\n",
        "if not os.path.isdir(added_path + 'Fixed_results'):\n",
        "    os.mkdir(added_path + 'Fixed_results')\n",
        "\n",
        "train_hist = {}\n",
        "train_hist['D_losses'] = []\n",
        "train_hist['G_losses'] = []\n",
        "\n",
        "do_compute_norm = False\n",
        "\n",
        "def train(model_G, model_D, epoch):\n",
        "\n",
        "    model_D.train()\n",
        "    model_G.train()\n",
        "    \n",
        "    D_losses = []\n",
        "    G_losses = []\n",
        "    \n",
        "    time_now = time.clock()\n",
        "\n",
        "    for batch_idx, (inputs, target) in enumerate(train_loader):\n",
        "        inputs, target = inputs.to(device), target.to(device)\n",
        "          \n",
        "        for d_index in range(d_steps):\n",
        "\n",
        "            # (1) Update Discriminator : maximize log(D(x)) + log(1 - D(G(z)))\n",
        "            \n",
        "            # this is not necessarily equal to batch size !\n",
        "            n_images = len(inputs)\n",
        "            \n",
        "            # Reset gradients\n",
        "            model_D.zero_grad()\n",
        "\n",
        "            # on real samples\n",
        "            d_real_decision = model_D(inputs)\n",
        "\n",
        "            # To compute BCE loss\n",
        "            label = torch.full((n_images, 1, 1, 1), real_label, device=device)\n",
        "            # D(x) should be 1 for real samples\n",
        "            d_real_loss = loss_fn(d_real_decision, label)\n",
        "\n",
        "            # on fake samples\n",
        "            d_gen_input = g_noise_input_generator(n_images, dim_gen_input)\n",
        "            d_fake_data = model_G(d_gen_input).detach()  # detach to avoid training G on these labels\n",
        "            d_fake_decision = model_D(d_fake_data)\n",
        "            # D(x) now wants to be as close as possible as fake label value\n",
        "            f_label = torch.full((n_images, 1, 1, 1), fake_label, device=device)\n",
        "            d_fake_loss = loss_fn(d_fake_decision, f_label)\n",
        "            \n",
        "            # Total loss\n",
        "            d_train_loss = d_fake_loss + d_real_loss\n",
        "            d_train_loss.backward()\n",
        "            d_optimizer.step()  # Only optimizes D's parameters; changes based on stored gradients from backward()\n",
        "            \n",
        "            D_losses.append(d_train_loss.item())\n",
        "\n",
        "\n",
        "            if do_compute_norm:\n",
        "              # Compute the norm of gradient\n",
        "              total_norm = 0\n",
        "              for p in model_D.parameters():\n",
        "                  norm = p.grad.data.norm(2)\n",
        "                  total_norm += norm.item() ** 2\n",
        "              total_norm = np.sqrt(total_norm)\n",
        "              arr_gradient_D.append(total_norm)\n",
        "\n",
        "        for g_index in range(g_steps):\n",
        "\n",
        "            # (2) Update G network: maximize log(D(G(z)))\n",
        "            model_G.zero_grad()\n",
        "\n",
        "            gen_input = g_noise_input_generator(n_images, dim_gen_input)\n",
        "            gen_output = model_G(gen_input)\n",
        "            d_fake_decision = model_D(gen_output)\n",
        "\n",
        "            # The generator tries to get D(G(z)) near 1\n",
        "            label = torch.full((n_images, 1, 1, 1), real_label, device=device)\n",
        "            g_loss = loss_fn(d_fake_decision,  label)\n",
        "\n",
        "            g_loss.backward()\n",
        "            g_optimizer.step()\n",
        "            \n",
        "            G_losses.append(g_loss.item())\n",
        "\n",
        "            # Compute norm of gradient\n",
        "            if do_compute_norm:\n",
        "              total_norm = 0\n",
        "              for p in model_G.parameters():\n",
        "                  norm = p.grad.data.norm(2)\n",
        "                  total_norm += norm.item() ** 2\n",
        "              total_norm = np.sqrt(total_norm)\n",
        "              arr_gradient_G.append(total_norm)\n",
        "\n",
        "        if batch_idx % 10 == 0:            \n",
        "            # Store mean/std_dev            \n",
        "            if plot_means_and_var:\n",
        "                # Can't call numpy() on Variable that requires grad. Use var.detach().numpy() instead.\n",
        "                np_gen_output = gen_output.detach().numpy()\n",
        "                mean = np.mean(np_gen_output)\n",
        "                std_dev = np.std(np_gen_output)\n",
        "                arr_means.append(mean)\n",
        "                arr_std_dev.append(std_dev)\n",
        "                print('mean = ', mean, ' std_dev = ', std_dev)\n",
        "            \n",
        "            print('\\rTrain Epoch: {} [{}/{} ({:.0f}%)] Time per epoch: {:.2f}s\\t Gen_Loss: {:.4f}; D_Real_Loss: {:.4f}; D_Fake_Loss: {:.4f}'\n",
        "                  .format(epoch, batch_idx * len(inputs), n_train_images,\n",
        "                          100. * batch_idx / len(train_loader), n_train_images / (10 * batch_size) * (time.clock() - time_now), \n",
        "                          d_real_loss.item(), d_fake_loss.item(), g_loss.item()),\n",
        "                  end='')        \n",
        "            time_now = time.clock()\n",
        "                 \n",
        "    return D_losses, G_losses\n",
        "\n",
        "  \n",
        "for ep in range(n_epochs):\n",
        "    D_losses, G_losses = train(model_G, model_D, ep)\n",
        "    \n",
        "    p = added_path + 'Random_results/GAN_' + str(ep + 1) + '.png'\n",
        "    fixed_p = added_path + 'Fixed_results/GAN_' + str(ep + 1) + '.png'\n",
        "    show_result(model_G, dim_gen_input, (ep + 1), save=True, path=p, isFix=False)\n",
        "    show_result(model_G, dim_gen_input, (ep + 1), save=True, path=fixed_p, isFix=True)\n",
        "    train_hist['D_losses'].append(torch.mean(torch.FloatTensor(D_losses)))\n",
        "    train_hist['G_losses'].append(torch.mean(torch.FloatTensor(G_losses)))\n",
        "\n",
        "    \n",
        "print(\"Training finish!... save training results\")\n",
        "torch.save(model_G.state_dict(), added_path + \"generator_param.pkl\")\n",
        "torch.save(model_D.state_dict(), added_path + \"discriminator_param.pkl\")\n",
        "with open(added_path + 'train_hist.pkl', 'wb') as f:\n",
        "    pickle.dump(train_hist, f)\n",
        "\n",
        "show_train_hist(train_hist, save=True, path= added_path + 'GAN_train_hist.png')\n",
        "\n"
      ],
      "execution_count": 43,
      "outputs": [
        {
          "output_type": "stream",
          "text": [
            "Train Epoch: 19 [49920/50000 (100%)] Time per epoch: 575.94s\t Gen_Loss: 0.1424; D_Real_Loss: 0.0292; D_Fake_Loss: 4.4530Training finish!... save training results\n"
          ],
          "name": "stdout"
        }
      ]
    },
    {
      "metadata": {
        "id": "E9CAyz0ssEdS",
        "colab_type": "code",
        "colab": {}
      },
      "cell_type": "code",
      "source": [
        "# Generate some animation..? (haven't used it)\n",
        "images = []\n",
        "for ep in range(n_epochs):\n",
        "    img_name = added_path + 'Fixed_results/GAN_' + str(ep + 1) + '.png'\n",
        "    images.append(imageio.imread(img_name))\n",
        "imageio.mimsave(added_path + 'generation_animation.gif', images, fps=5)"
      ],
      "execution_count": 0,
      "outputs": []
    },
    {
      "metadata": {
        "id": "4T3BvqyiPbDD",
        "colab_type": "code",
        "outputId": "d1854206-608e-43ac-b443-0ddebc7dd8f1",
        "colab": {
          "base_uri": "https://localhost:8080/",
          "height": 187
        }
      },
      "cell_type": "code",
      "source": [
        "\n",
        "import torchvision.utils\n",
        "\n",
        "# need to install this to save images via pytorch.. \n",
        "!pip install Pillow==4.0"
      ],
      "execution_count": 9,
      "outputs": [
        {
          "output_type": "stream",
          "text": [
            "Collecting Pillow==4.0\n",
            "\u001b[?25l  Downloading https://files.pythonhosted.org/packages/37/e8/b3fbf87b0188d22246678f8cd61e23e31caa1769ebc06f1664e2e5fe8a17/Pillow-4.0.0-cp36-cp36m-manylinux1_x86_64.whl (5.6MB)\n",
            "\u001b[K    100% |████████████████████████████████| 5.6MB 7.3MB/s \n",
            "\u001b[?25hRequirement already satisfied: olefile in /usr/local/lib/python3.6/dist-packages (from Pillow==4.0) (0.46)\n",
            "\u001b[31mtorchvision 0.2.1 has requirement pillow>=4.1.1, but you'll have pillow 4.0.0 which is incompatible.\u001b[0m\n",
            "Installing collected packages: Pillow\n",
            "  Found existing installation: Pillow 5.3.0\n",
            "    Uninstalling Pillow-5.3.0:\n",
            "      Successfully uninstalled Pillow-5.3.0\n",
            "Successfully installed Pillow-4.0.0\n"
          ],
          "name": "stdout"
        }
      ]
    },
    {
      "metadata": {
        "id": "ayRczHlUn-9T",
        "colab_type": "code",
        "colab": {}
      },
      "cell_type": "code",
      "source": [
        ""
      ],
      "execution_count": 0,
      "outputs": []
    },
    {
      "metadata": {
        "id": "D8RusX1TSRVk",
        "colab_type": "code",
        "outputId": "ee3aa46a-08b3-4feb-ee39-5750deaaf31f",
        "colab": {
          "base_uri": "https://localhost:8080/",
          "height": 34
        }
      },
      "cell_type": "code",
      "source": [
        "# Save 10k images to a folder if you haven't already done so\n",
        "# This will allow FID comparing\n",
        "# Using Test set to compare !\n",
        "def save_real_images_data_set(path):\n",
        "\n",
        "  time_now = time.clock() \n",
        "  n_test_data = len(test_data)\n",
        "\n",
        "  i = 0\n",
        "  for batch_idx, (inputs, target) in enumerate(test_loader):\n",
        "\n",
        "    n_inputs = len(inputs)\n",
        "\n",
        "    for j in range(n_inputs):\n",
        "        torchvision.utils.save_image(inputs[j, :], \n",
        "                                     path + 'img_' + str(i) + '.png', normalize = True)    \n",
        "        i += 1\n",
        "\n",
        "    print('\\r Real_Images_Saved [{}/{} ({:.0f}%)] Time estimated left: {:.2f}s'\n",
        "            .format(i, n_test_data, 100 * i / n_test_data, \n",
        "                    ((n_test_data - i) / batch_size) * (time.clock() - time_now)),   \n",
        "            end='')\n",
        "    time_now = time.clock()            \n",
        "   \n",
        "  \n",
        "path_real = added_path + 'real_samples/'    \n",
        "\n",
        "if not os.path.isdir(path_real):\n",
        "    os.mkdir(path_real)\n",
        "    save_real_images_data_set(path_real)\n",
        "else:\n",
        "    # don't compute twice !!\n",
        "    print('Real Samples folder is already there !')\n",
        " \n"
      ],
      "execution_count": 10,
      "outputs": [
        {
          "output_type": "stream",
          "text": [
            " Real_Images_Saved [10000/10000 (100%)] Time estimated left: 0.00s"
          ],
          "name": "stdout"
        }
      ]
    },
    {
      "metadata": {
        "id": "vZJ4OQOIoDCx",
        "colab_type": "code",
        "colab": {
          "base_uri": "https://localhost:8080/",
          "height": 221
        },
        "outputId": "e13e9e03-b44a-4bc2-e69a-85c70754834d"
      },
      "cell_type": "code",
      "source": [
        "# might need to reload model if we disconnected\n",
        "model_G.load_state_dict(torch.load(added_path + 'generator_param.pkl'))\n",
        "model_G.eval()"
      ],
      "execution_count": 12,
      "outputs": [
        {
          "output_type": "execute_result",
          "data": {
            "text/plain": [
              "Generator(\n",
              "  (conv1): ConvTranspose2d(100, 1024, kernel_size=(4, 4), stride=(1, 1), bias=False)\n",
              "  (bn1): BatchNorm2d(1024, eps=1e-05, momentum=0.1, affine=True, track_running_stats=True)\n",
              "  (conv2): ConvTranspose2d(1024, 512, kernel_size=(4, 4), stride=(2, 2), padding=(1, 1), bias=False)\n",
              "  (bn2): BatchNorm2d(512, eps=1e-05, momentum=0.1, affine=True, track_running_stats=True)\n",
              "  (conv3): ConvTranspose2d(512, 256, kernel_size=(4, 4), stride=(2, 2), padding=(1, 1), bias=False)\n",
              "  (bn3): BatchNorm2d(256, eps=1e-05, momentum=0.1, affine=True, track_running_stats=True)\n",
              "  (conv4): ConvTranspose2d(256, 128, kernel_size=(4, 4), stride=(2, 2), padding=(1, 1), bias=False)\n",
              "  (bn4): BatchNorm2d(128, eps=1e-05, momentum=0.1, affine=True, track_running_stats=True)\n",
              "  (conv5): ConvTranspose2d(128, 3, kernel_size=(4, 4), stride=(2, 2), padding=(1, 1), bias=False)\n",
              "  (tanh): Tanh()\n",
              ")"
            ]
          },
          "metadata": {
            "tags": []
          },
          "execution_count": 12
        }
      ]
    },
    {
      "metadata": {
        "id": "sMS8ObX7-6Iu",
        "colab_type": "code",
        "outputId": "59dfcd36-1676-41e9-949d-16583f0c4b1a",
        "colab": {
          "base_uri": "https://localhost:8080/",
          "height": 34
        }
      },
      "cell_type": "code",
      "source": [
        "# Generate 10k samples\n",
        "# by 100 batches of 100\n",
        "import torchvision.utils\n",
        "\n",
        "path_gen = added_path + 'gen_samples/'\n",
        "if not os.path.isdir(path_gen):\n",
        "    os.mkdir(path_gen)\n",
        "    \n",
        "\n",
        "time_now = time.clock() \n",
        "for i in range(100):\n",
        "  noise = g_noise_input_generator(100, dim_gen_input)\n",
        "  gen_images = model_G(noise)\n",
        "\n",
        "  for j in range(100):\n",
        "      torchvision.utils.save_image(gen_images[j, :], \n",
        "                        path_gen + 'img_' + str(i*100 + j) + '.png', normalize = True)    \n",
        "      \n",
        "  print('\\r Gen_Images_Saved [{}/{} ({:.0f}%)] Time estimated left: {:.2f}s'\n",
        "        .format((i + 1) * 100, 10000, (i + 1), (99 - i) * (time.clock() - time_now)),   \n",
        "         end='')\n",
        "  time_now = time.clock()\n",
        "          \n",
        "\n",
        "     \n",
        "  \n",
        "              \n",
        "    "
      ],
      "execution_count": 17,
      "outputs": [
        {
          "output_type": "stream",
          "text": [
            " Gen_Images_Saved [10000/10000 (100%)] Time estimated left: 0.00s"
          ],
          "name": "stdout"
        }
      ]
    }
  ]
}