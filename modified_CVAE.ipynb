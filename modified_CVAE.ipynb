{
  "nbformat": 4,
  "nbformat_minor": 0,
  "metadata": {
    "colab": {
      "name": "modified_CVAE",
      "version": "0.3.2",
      "provenance": [],
      "collapsed_sections": [],
      "include_colab_link": true
    },
    "kernelspec": {
      "name": "python3",
      "display_name": "Python 3"
    },
    "accelerator": "GPU"
  },
  "cells": [
    {
      "cell_type": "markdown",
      "metadata": {
        "id": "view-in-github",
        "colab_type": "text"
      },
      "source": [
        "<a href=\"https://colab.research.google.com/github/kumarmanishjha/pgm-prjoject_A18/blob/master/modified_CVAE.ipynb\" target=\"_parent\"><img src=\"https://colab.research.google.com/assets/colab-badge.svg\" alt=\"Open In Colab\"/></a>"
      ]
    },
    {
      "metadata": {
        "id": "TNm4bN4_vNcl",
        "colab_type": "code",
        "colab": {
          "base_uri": "https://localhost:8080/",
          "height": 119
        },
        "outputId": "c12ddfcd-d328-4004-a295-ea0437d0ce06"
      },
      "cell_type": "code",
      "source": [
        "\n",
        "import numpy as np\n",
        "import matplotlib.pyplot as plt\n",
        "import keras.backend as K\n",
        "import tensorflow as tf\n",
        "\n",
        "from keras.datasets import mnist\n",
        "from keras.layers import Input, Dense, Lambda, Concatenate\n",
        "from keras.models import Model\n",
        "from keras.objectives import binary_crossentropy\n",
        "from keras.callbacks import LearningRateScheduler\n",
        "from keras.utils import to_categorical\n",
        "from keras.layers import Conv2D, BatchNormalization, Dropout, Flatten, Reshape, AveragePooling2D, UpSampling2D\n",
        "\n",
        "#MNIST\n",
        "num_classes = 10\n",
        "(x_train, y_train_), (x_test, y_test_) = mnist.load_data()\n",
        "x_train = x_train.astype('float32') / 255.\n",
        "x_test = x_test.astype('float32') / 255.\n",
        "x_train = x_train.reshape(*x_train.shape, 1)\n",
        "x_test = x_test.reshape(*x_test.shape, 1)\n",
        "y_train = to_categorical(y_train_, num_classes)\n",
        "y_test = to_categorical(y_test_, num_classes)\n",
        "\n",
        "m = 10\n",
        "n_epoch = 20\n",
        "\n",
        "latent_dim= 2\n",
        "\n",
        "#Use image and label as input together\n",
        "\n",
        "# Q(z|X,y) -- encoder\n",
        "\n",
        "pic_size = 28\n",
        "channel = 1\n",
        "\n",
        "inputs = Input(shape=(pic_size,pic_size,channel))\n",
        "\n",
        "print(inputs.shape)\n",
        "\n",
        "\n",
        "y = Input(shape=(num_classes,))\n",
        "print(y.shape)\n",
        "\n",
        "yh = Dense(latent_dim)(y)\n",
        "print(yh.shape)\n"
      ],
      "execution_count": 1,
      "outputs": [
        {
          "output_type": "stream",
          "text": [
            "Using TensorFlow backend.\n"
          ],
          "name": "stderr"
        },
        {
          "output_type": "stream",
          "text": [
            "Downloading data from https://s3.amazonaws.com/img-datasets/mnist.npz\n",
            "11493376/11490434 [==============================] - 1s 0us/step\n",
            "(?, 28, 28, 1)\n",
            "(?, 10)\n",
            "(?, 2)\n"
          ],
          "name": "stdout"
        }
      ]
    },
    {
      "metadata": {
        "id": "7wgxLKFWvSEe",
        "colab_type": "code",
        "colab": {
          "base_uri": "https://localhost:8080/",
          "height": 221
        },
        "outputId": "8b5044a6-fe9a-4d57-f319-9fa1179a80f0"
      },
      "cell_type": "code",
      "source": [
        "print(inputs.shape)\n",
        "x = Conv2D(32, (3, 3), padding='same', activation='relu')(inputs)\n",
        "print(x.shape)\n",
        "x = Conv2D(32, (3, 3), padding='same', activation='relu')(x)\n",
        "print(x.shape)\n",
        "x = AveragePooling2D(pool_size=(2, 2))(x)\n",
        "print(x.shape)\n",
        "x = Dropout(0.2)(x)\n",
        "\n",
        "x = Conv2D(64, (3, 3), padding='same', activation='relu')(x)\n",
        "print(x.shape)\n",
        "x = Conv2D(64, (3, 3), padding='same', activation='relu')(x)\n",
        "print(x.shape)\n",
        "x = AveragePooling2D(pool_size=(2, 2))(x)\n",
        "print(x.shape)\n",
        "x = Dropout(0.2)(x)\n",
        "\n",
        "x = Conv2D(128, (3, 3), padding='same', activation='relu')(x)\n",
        "print(x.shape)\n",
        "x = Conv2D(128, (3, 3), padding='same', activation='relu')(x)\n",
        "print(x.shape)\n",
        "x = AveragePooling2D(pool_size=(2, 2))(x)\n",
        "print(x.shape)\n",
        "x = Dropout(0.2)(x)\n",
        "\n",
        "\n",
        "x = Flatten()(x)\n",
        "print(x.shape)\n",
        "\n",
        "h = Dense(pic_size, activation='relu')(x)\n",
        "print(h.shape)\n",
        "\n"
      ],
      "execution_count": 2,
      "outputs": [
        {
          "output_type": "stream",
          "text": [
            "(?, 28, 28, 1)\n",
            "(?, 28, 28, 32)\n",
            "(?, 28, 28, 32)\n",
            "(?, 14, 14, 32)\n",
            "(?, 14, 14, 64)\n",
            "(?, 14, 14, 64)\n",
            "(?, 7, 7, 64)\n",
            "(?, 7, 7, 128)\n",
            "(?, 7, 7, 128)\n",
            "(?, 3, 3, 128)\n",
            "(?, ?)\n",
            "(?, 28)\n"
          ],
          "name": "stdout"
        }
      ]
    },
    {
      "metadata": {
        "id": "iqFltRiuvUKz",
        "colab_type": "code",
        "colab": {
          "base_uri": "https://localhost:8080/",
          "height": 51
        },
        "outputId": "d9c7201d-983d-449a-c044-23e7a6ec5215"
      },
      "cell_type": "code",
      "source": [
        "# calculate the mu and sigmas \n",
        "mu = Dense(latent_dim)(h)\n",
        "print(mu.shape)\n",
        "log_sigma = Dense(latent_dim)(h)\n",
        "print(log_sigma.shape)\n"
      ],
      "execution_count": 3,
      "outputs": [
        {
          "output_type": "stream",
          "text": [
            "(?, 2)\n",
            "(?, 2)\n"
          ],
          "name": "stdout"
        }
      ]
    },
    {
      "metadata": {
        "id": "l90EIdh-vWYM",
        "colab_type": "code",
        "colab": {
          "base_uri": "https://localhost:8080/",
          "height": 34
        },
        "outputId": "9ba88216-fc40-4564-b1b4-0c3b10778011"
      },
      "cell_type": "code",
      "source": [
        "def sample_z(args):\n",
        "    mu, log_sigma = args\n",
        "    batch = K.shape(mu)[0]\n",
        "    dim = K.int_shape(mu)[1]\n",
        "    # by default, random_normal has mean=0 and std=1.0\n",
        "    epsilon = K.random_normal(shape=(batch, dim))\n",
        "    return mu + K.exp(0.5 * log_sigma) * epsilon\n",
        "  \n",
        "z = Lambda(sample_z)([mu, log_sigma])\n",
        "print(z.shape)"
      ],
      "execution_count": 4,
      "outputs": [
        {
          "output_type": "stream",
          "text": [
            "(?, 2)\n"
          ],
          "name": "stdout"
        }
      ]
    },
    {
      "metadata": {
        "id": "lQezYA9gvagY",
        "colab_type": "code",
        "colab": {
          "base_uri": "https://localhost:8080/",
          "height": 765
        },
        "outputId": "08150674-4759-4d43-9fbb-43e0164e63ca"
      },
      "cell_type": "code",
      "source": [
        "#Encoder Model\n",
        "encoder = Model(inputs, [mu, log_sigma, z])\n",
        "encoder.summary()"
      ],
      "execution_count": 5,
      "outputs": [
        {
          "output_type": "stream",
          "text": [
            "__________________________________________________________________________________________________\n",
            "Layer (type)                    Output Shape         Param #     Connected to                     \n",
            "==================================================================================================\n",
            "input_1 (InputLayer)            (None, 28, 28, 1)    0                                            \n",
            "__________________________________________________________________________________________________\n",
            "conv2d_1 (Conv2D)               (None, 28, 28, 32)   320         input_1[0][0]                    \n",
            "__________________________________________________________________________________________________\n",
            "conv2d_2 (Conv2D)               (None, 28, 28, 32)   9248        conv2d_1[0][0]                   \n",
            "__________________________________________________________________________________________________\n",
            "average_pooling2d_1 (AveragePoo (None, 14, 14, 32)   0           conv2d_2[0][0]                   \n",
            "__________________________________________________________________________________________________\n",
            "dropout_1 (Dropout)             (None, 14, 14, 32)   0           average_pooling2d_1[0][0]        \n",
            "__________________________________________________________________________________________________\n",
            "conv2d_3 (Conv2D)               (None, 14, 14, 64)   18496       dropout_1[0][0]                  \n",
            "__________________________________________________________________________________________________\n",
            "conv2d_4 (Conv2D)               (None, 14, 14, 64)   36928       conv2d_3[0][0]                   \n",
            "__________________________________________________________________________________________________\n",
            "average_pooling2d_2 (AveragePoo (None, 7, 7, 64)     0           conv2d_4[0][0]                   \n",
            "__________________________________________________________________________________________________\n",
            "dropout_2 (Dropout)             (None, 7, 7, 64)     0           average_pooling2d_2[0][0]        \n",
            "__________________________________________________________________________________________________\n",
            "conv2d_5 (Conv2D)               (None, 7, 7, 128)    73856       dropout_2[0][0]                  \n",
            "__________________________________________________________________________________________________\n",
            "conv2d_6 (Conv2D)               (None, 7, 7, 128)    147584      conv2d_5[0][0]                   \n",
            "__________________________________________________________________________________________________\n",
            "average_pooling2d_3 (AveragePoo (None, 3, 3, 128)    0           conv2d_6[0][0]                   \n",
            "__________________________________________________________________________________________________\n",
            "dropout_3 (Dropout)             (None, 3, 3, 128)    0           average_pooling2d_3[0][0]        \n",
            "__________________________________________________________________________________________________\n",
            "flatten_1 (Flatten)             (None, 1152)         0           dropout_3[0][0]                  \n",
            "__________________________________________________________________________________________________\n",
            "dense_2 (Dense)                 (None, 28)           32284       flatten_1[0][0]                  \n",
            "__________________________________________________________________________________________________\n",
            "dense_3 (Dense)                 (None, 2)            58          dense_2[0][0]                    \n",
            "__________________________________________________________________________________________________\n",
            "dense_4 (Dense)                 (None, 2)            58          dense_2[0][0]                    \n",
            "__________________________________________________________________________________________________\n",
            "lambda_1 (Lambda)               (None, 2)            0           dense_3[0][0]                    \n",
            "                                                                 dense_4[0][0]                    \n",
            "==================================================================================================\n",
            "Total params: 318,832\n",
            "Trainable params: 318,832\n",
            "Non-trainable params: 0\n",
            "__________________________________________________________________________________________________\n"
          ],
          "name": "stdout"
        }
      ]
    },
    {
      "metadata": {
        "id": "i6ycVnB6vbWl",
        "colab_type": "code",
        "colab": {
          "base_uri": "https://localhost:8080/",
          "height": 799
        },
        "outputId": "a724ae59-9bc4-48f2-fcd8-7764ab6886af"
      },
      "cell_type": "code",
      "source": [
        "#decoder\n",
        "\n",
        "latent_inputs = Input(shape=(latent_dim,))\n",
        "print(latent_inputs.shape)\n",
        "\n",
        "x = Dense(7*7*pic_size, activation='relu')(latent_inputs)\n",
        "print(x.shape)\n",
        "x = Reshape((7,7,pic_size))(x)\n",
        "print(x.shape)\n",
        "\n",
        "\n",
        "x = UpSampling2D((2, 2))(x)\n",
        "print(x.shape)\n",
        "x = Conv2D(256, (3, 3), padding='same', activation='relu')(x)\n",
        "print(x.shape)\n",
        "x = Conv2D(256, (3, 3), padding='same', activation='relu')(x)\n",
        "print(x.shape)\n",
        "\n",
        "x = UpSampling2D((2, 2))(x)\n",
        "print(x.shape)\n",
        "x = Conv2D(128, (3, 3), padding='same', activation='relu')(x)\n",
        "print(x.shape)\n",
        "x = Conv2D(128, (3, 3), padding='same', activation='relu')(x)\n",
        "print(x.shape)\n",
        "\n",
        "x = UpSampling2D((1, 1))(x)\n",
        "print(x.shape)\n",
        "x = Conv2D(64, (3, 3), padding='same', activation='relu')(x)\n",
        "print(x.shape)\n",
        "x = Conv2D(64, (3, 3), padding='same', activation='relu')(x)\n",
        "print(x.shape)\n",
        "\n",
        "h_decoded = Conv2D(1, (3, 3), activation='sigmoid', padding='same')(x)\n",
        "print(h_decoded.shape)\n",
        "\n",
        "decoder = Model(latent_inputs, h_decoded)\n",
        "decoder.summary()"
      ],
      "execution_count": 6,
      "outputs": [
        {
          "output_type": "stream",
          "text": [
            "(?, 2)\n",
            "(?, 1372)\n",
            "(?, 7, 7, 28)\n",
            "(?, 14, 14, 28)\n",
            "(?, 14, 14, 256)\n",
            "(?, 14, 14, 256)\n",
            "(?, 28, 28, 256)\n",
            "(?, 28, 28, 128)\n",
            "(?, 28, 28, 128)\n",
            "(?, 28, 28, 128)\n",
            "(?, 28, 28, 64)\n",
            "(?, 28, 28, 64)\n",
            "(?, 28, 28, 1)\n",
            "_________________________________________________________________\n",
            "Layer (type)                 Output Shape              Param #   \n",
            "=================================================================\n",
            "input_3 (InputLayer)         (None, 2)                 0         \n",
            "_________________________________________________________________\n",
            "dense_5 (Dense)              (None, 1372)              4116      \n",
            "_________________________________________________________________\n",
            "reshape_1 (Reshape)          (None, 7, 7, 28)          0         \n",
            "_________________________________________________________________\n",
            "up_sampling2d_1 (UpSampling2 (None, 14, 14, 28)        0         \n",
            "_________________________________________________________________\n",
            "conv2d_7 (Conv2D)            (None, 14, 14, 256)       64768     \n",
            "_________________________________________________________________\n",
            "conv2d_8 (Conv2D)            (None, 14, 14, 256)       590080    \n",
            "_________________________________________________________________\n",
            "up_sampling2d_2 (UpSampling2 (None, 28, 28, 256)       0         \n",
            "_________________________________________________________________\n",
            "conv2d_9 (Conv2D)            (None, 28, 28, 128)       295040    \n",
            "_________________________________________________________________\n",
            "conv2d_10 (Conv2D)           (None, 28, 28, 128)       147584    \n",
            "_________________________________________________________________\n",
            "up_sampling2d_3 (UpSampling2 (None, 28, 28, 128)       0         \n",
            "_________________________________________________________________\n",
            "conv2d_11 (Conv2D)           (None, 28, 28, 64)        73792     \n",
            "_________________________________________________________________\n",
            "conv2d_12 (Conv2D)           (None, 28, 28, 64)        36928     \n",
            "_________________________________________________________________\n",
            "conv2d_13 (Conv2D)           (None, 28, 28, 1)         577       \n",
            "=================================================================\n",
            "Total params: 1,212,885\n",
            "Trainable params: 1,212,885\n",
            "Non-trainable params: 0\n",
            "_________________________________________________________________\n"
          ],
          "name": "stdout"
        }
      ]
    },
    {
      "metadata": {
        "id": "fvJh5blGvbUo",
        "colab_type": "code",
        "colab": {}
      },
      "cell_type": "code",
      "source": [
        "outputs = decoder(encoder(inputs)[2])\n",
        "\n",
        "\n",
        "vae = Model([inputs, y], [outputs, yh])"
      ],
      "execution_count": 0,
      "outputs": []
    },
    {
      "metadata": {
        "id": "vjfjC5pSvbS7",
        "colab_type": "code",
        "colab": {
          "base_uri": "https://localhost:8080/",
          "height": 357
        },
        "outputId": "cb1666fa-0dad-444d-a90e-2a176e06eb67"
      },
      "cell_type": "code",
      "source": [
        "#define loss\n",
        "reconstruction_loss = binary_crossentropy(inputs, outputs) *pic_size*pic_size\n",
        "reconstruction_loss = K.mean(reconstruction_loss)\n",
        "print(reconstruction_loss)\n",
        "\n",
        "kl_loss = 1 + log_sigma - K.square(mu - yh) - K.exp(log_sigma)\n",
        "kl_loss = K.sum(kl_loss, axis=-1)\n",
        "kl_loss *= -0.5\n",
        "print(kl_loss)\n",
        "\n",
        "vae_loss = K.mean(reconstruction_loss + kl_loss)\n",
        "print(vae_loss)\n",
        "\n",
        "vae.add_loss(vae_loss)\n",
        "vae.compile(optimizer = 'adam')\n",
        "vae.summary()\n",
        "\n"
      ],
      "execution_count": 8,
      "outputs": [
        {
          "output_type": "stream",
          "text": [
            "Tensor(\"Mean_1:0\", shape=(), dtype=float32)\n",
            "Tensor(\"mul_2:0\", shape=(?,), dtype=float32)\n",
            "Tensor(\"Mean_2:0\", shape=(), dtype=float32)\n",
            "__________________________________________________________________________________________________\n",
            "Layer (type)                    Output Shape         Param #     Connected to                     \n",
            "==================================================================================================\n",
            "input_1 (InputLayer)            (None, 28, 28, 1)    0                                            \n",
            "__________________________________________________________________________________________________\n",
            "model_1 (Model)                 [(None, 2), (None, 2 318832      input_1[0][0]                    \n",
            "__________________________________________________________________________________________________\n",
            "input_2 (InputLayer)            (None, 10)           0                                            \n",
            "__________________________________________________________________________________________________\n",
            "model_2 (Model)                 (None, 28, 28, 1)    1212885     model_1[1][2]                    \n",
            "__________________________________________________________________________________________________\n",
            "dense_1 (Dense)                 (None, 2)            22          input_2[0][0]                    \n",
            "==================================================================================================\n",
            "Total params: 1,531,739\n",
            "Trainable params: 1,531,739\n",
            "Non-trainable params: 0\n",
            "__________________________________________________________________________________________________\n"
          ],
          "name": "stdout"
        }
      ]
    },
    {
      "metadata": {
        "id": "L2GNHS5ivkA2",
        "colab_type": "code",
        "colab": {
          "base_uri": "https://localhost:8080/",
          "height": 102
        },
        "outputId": "2f0d9086-dec6-4d20-b2b0-a45e6b2c2e30"
      },
      "cell_type": "code",
      "source": [
        "vae.fit([x_train, y_train], batch_size = m, epochs = 2)"
      ],
      "execution_count": 10,
      "outputs": [
        {
          "output_type": "stream",
          "text": [
            "Epoch 1/2\n",
            "60000/60000 [==============================] - 252s 4ms/step - loss: 149.4764\n",
            "Epoch 2/2\n",
            "60000/60000 [==============================] - 251s 4ms/step - loss: 147.1005\n"
          ],
          "name": "stdout"
        },
        {
          "output_type": "execute_result",
          "data": {
            "text/plain": [
              "<keras.callbacks.History at 0x7f558d6caeb8>"
            ]
          },
          "metadata": {
            "tags": []
          },
          "execution_count": 10
        }
      ]
    },
    {
      "metadata": {
        "id": "IFBkPULgvkLR",
        "colab_type": "code",
        "colab": {
          "base_uri": "https://localhost:8080/",
          "height": 364
        },
        "outputId": "53591035-8c24-467f-d13e-9115dff1134d"
      },
      "cell_type": "code",
      "source": [
        "#randomly sample one sample from N(0, I)\n",
        "mean = np.zeros((latent_dim))\n",
        "cov = np.identity(latent_dim)\n",
        "\n",
        "sample = np.random.multivariate_normal(mean, cov, 1000)\n",
        "\n",
        "pred = decoder.predict(sample, batch_size = m)\n",
        "\n",
        "#%%\n",
        "\n",
        "plt.imshow((pred[500,:]*255).reshape(28, 28))\n"
      ],
      "execution_count": 11,
      "outputs": [
        {
          "output_type": "execute_result",
          "data": {
            "text/plain": [
              "<matplotlib.image.AxesImage at 0x7f55a30f73c8>"
            ]
          },
          "metadata": {
            "tags": []
          },
          "execution_count": 11
        },
        {
          "output_type": "display_data",
          "data": {
            "image/png": "[encoded data removed]",
            "text/plain": [
              "<matplotlib.figure.Figure at 0x7f558d6cb198>"
            ]
          },
          "metadata": {
            "tags": []
          }
        }
      ]
    },
    {
      "metadata": {
        "id": "yDL4msTo5oyf",
        "colab_type": "code",
        "colab": {}
      },
      "cell_type": "code",
      "source": [
        ""
      ],
      "execution_count": 0,
      "outputs": []
    },
    {
      "metadata": {
        "id": "Fqqxhf2xvkQT",
        "colab_type": "code",
        "colab": {}
      },
      "cell_type": "code",
      "source": [
        ""
      ],
      "execution_count": 0,
      "outputs": []
    }
  ]
}