{
  "nbformat": 4,
  "nbformat_minor": 0,
  "metadata": {
    "colab": {
      "name": "VAE",
      "version": "0.3.2",
      "provenance": [],
      "collapsed_sections": [],
      "include_colab_link": true
    },
    "kernelspec": {
      "name": "python3",
      "display_name": "Python 3"
    },
    "accelerator": "GPU"
  },
  "cells": [
    {
      "cell_type": "markdown",
      "metadata": {
        "id": "view-in-github",
        "colab_type": "text"
      },
      "source": [
        "<a href=\"https://colab.research.google.com/github/kumarmanishjha/pgm-prjoject_A18/blob/master/VAE_with_conv_layers.ipynb\" target=\"_parent\"><img src=\"https://colab.research.google.com/assets/colab-badge.svg\" alt=\"Open In Colab\"/></a>"
      ]
    },
    {
      "metadata": {
        "id": "hDONvT3gc7fK",
        "colab_type": "code",
        "colab": {
          "base_uri": "https://localhost:8080/",
          "height": 85
        },
        "outputId": "a0116003-5f21-49fa-aa81-4298c1b052e1"
      },
      "cell_type": "code",
      "source": [
        "import numpy as np\n",
        "import matplotlib.pyplot as plt\n",
        "import keras.backend as K\n",
        "import tensorflow as tf\n",
        "\n",
        "from keras.datasets import mnist, cifar10\n",
        "from keras.layers import Input, Dense, Lambda, Concatenate\n",
        "from keras.models import Model\n",
        "from keras.objectives import binary_crossentropy\n",
        "from keras.callbacks import LearningRateScheduler\n",
        "from keras.utils import to_categorical\n",
        "from keras.layers import Conv2D, BatchNormalization, Dropout, Flatten, Reshape, AveragePooling2D, UpSampling2D\n",
        "\n",
        "#MNIST\n",
        "num_classes = 10\n",
        "\n",
        "(x_train, y_train_), (x_test, y_test_) = cifar10.load_data()\n",
        "#(x_train, y_train_), (x_test, y_test_) = mnist.load_data()\n",
        "x_train = x_train.astype('float32') / 255.\n",
        "x_test = x_test.astype('float32') / 255.\n",
        "y_train = to_categorical(y_train_, num_classes)\n",
        "y_test = to_categorical(y_test_, num_classes)\n",
        "\n",
        "m = 100\n",
        "n_epoch = 20\n",
        "\n",
        "latent_dim= 2\n",
        "\n",
        "#Use image and label as input together\n",
        "\n",
        "# Q(z|X,y) -- encoder\n",
        "\n",
        "pic_size = 32\n",
        "channel = 3\n",
        "\n",
        "inputs = Input(shape=(pic_size,pic_size,channel))\n",
        "\n",
        "print(inputs.shape)\n"
      ],
      "execution_count": 1,
      "outputs": [
        {
          "output_type": "stream",
          "text": [
            "Using TensorFlow backend.\n"
          ],
          "name": "stderr"
        },
        {
          "output_type": "stream",
          "text": [
            "Downloading data from https://www.cs.toronto.edu/~kriz/cifar-10-python.tar.gz\n",
            "170500096/170498071 [==============================] - 30s 0us/step\n",
            "(?, 32, 32, 3)\n"
          ],
          "name": "stdout"
        }
      ]
    },
    {
      "metadata": {
        "id": "rQiFBbmpc7cT",
        "colab_type": "code",
        "colab": {
          "base_uri": "https://localhost:8080/",
          "height": 221
        },
        "outputId": "bd3037c3-ea76-4dad-f279-3d809ef34390"
      },
      "cell_type": "code",
      "source": [
        "print(inputs.shape)\n",
        "x = Conv2D(32, (3, 3), padding='same', activation='relu')(inputs)\n",
        "print(x.shape)\n",
        "x = Conv2D(32, (3, 3), padding='same', activation='relu')(x)\n",
        "print(x.shape)\n",
        "x = AveragePooling2D(pool_size=(2, 2))(x)\n",
        "print(x.shape)\n",
        "x = Dropout(0.2)(x)\n",
        "\n",
        "x = Conv2D(64, (3, 3), padding='same', activation='relu')(x)\n",
        "print(x.shape)\n",
        "x = Conv2D(64, (3, 3), padding='same', activation='relu')(x)\n",
        "print(x.shape)\n",
        "x = AveragePooling2D(pool_size=(2, 2))(x)\n",
        "print(x.shape)\n",
        "x = Dropout(0.2)(x)\n",
        "\n",
        "x = Conv2D(128, (3, 3), padding='same', activation='relu')(x)\n",
        "print(x.shape)\n",
        "x = Conv2D(128, (3, 3), padding='same', activation='relu')(x)\n",
        "print(x.shape)\n",
        "x = AveragePooling2D(pool_size=(2, 2))(x)\n",
        "print(x.shape)\n",
        "x = Dropout(0.2)(x)\n",
        "\n",
        "\n",
        "x = Flatten()(x)\n",
        "print(x.shape)\n",
        "\n",
        "h = Dense(pic_size, activation='relu')(x)\n",
        "print(h.shape)"
      ],
      "execution_count": 2,
      "outputs": [
        {
          "output_type": "stream",
          "text": [
            "(?, 32, 32, 3)\n",
            "(?, 32, 32, 32)\n",
            "(?, 32, 32, 32)\n",
            "(?, 16, 16, 32)\n",
            "(?, 16, 16, 64)\n",
            "(?, 16, 16, 64)\n",
            "(?, 8, 8, 64)\n",
            "(?, 8, 8, 128)\n",
            "(?, 8, 8, 128)\n",
            "(?, 4, 4, 128)\n",
            "(?, ?)\n",
            "(?, 32)\n"
          ],
          "name": "stdout"
        }
      ]
    },
    {
      "metadata": {
        "id": "tA3aCchwc7N3",
        "colab_type": "code",
        "colab": {
          "base_uri": "https://localhost:8080/",
          "height": 51
        },
        "outputId": "be86501f-d8ec-47d5-a33b-745dd64fdb34"
      },
      "cell_type": "code",
      "source": [
        "# calculate the mu and sigmas \n",
        "mu = Dense(latent_dim)(h)\n",
        "print(mu.shape)\n",
        "log_sigma = Dense(latent_dim)(h)\n",
        "print(log_sigma.shape)"
      ],
      "execution_count": 3,
      "outputs": [
        {
          "output_type": "stream",
          "text": [
            "(?, 2)\n",
            "(?, 2)\n"
          ],
          "name": "stdout"
        }
      ]
    },
    {
      "metadata": {
        "id": "geFGyV1lc66n",
        "colab_type": "code",
        "colab": {
          "base_uri": "https://localhost:8080/",
          "height": 34
        },
        "outputId": "1acd45fd-7cf9-4566-b35c-d7f4f87e17f6"
      },
      "cell_type": "code",
      "source": [
        "\n",
        "def sampling(args):\n",
        "    mu, log_sigma = args\n",
        "    epsilon = K.random_normal(shape=(m, 2))\n",
        "    return mu + K.exp(log_sigma / 2) * epsilon\n",
        "  \n",
        "  \n",
        "z = Lambda(sampling, output_shape=(2,))([mu, log_sigma])\n",
        "\n",
        "print(z.shape)"
      ],
      "execution_count": 4,
      "outputs": [
        {
          "output_type": "stream",
          "text": [
            "(100, 2)\n"
          ],
          "name": "stdout"
        }
      ]
    },
    {
      "metadata": {
        "id": "FLHsUZf0b8nR",
        "colab_type": "code",
        "colab": {}
      },
      "cell_type": "code",
      "source": [
        "x = Dense(4*4*pic_size, activation='relu')(z)\n",
        "print(x.shape)\n",
        "x = Reshape((4,4,pic_size))(x)\n",
        "print(x.shape)\n",
        "\n",
        "\n",
        "x = UpSampling2D((2, 2))(x)\n",
        "print(x.shape)\n",
        "x = Conv2D(256, (3, 3), padding='same', activation='relu')(x)\n",
        "print(x.shape)\n",
        "x = Conv2D(256, (3, 3), padding='same', activation='relu')(x)\n",
        "print(x.shape)\n",
        "\n",
        "x = UpSampling2D((2, 2))(x)\n",
        "print(x.shape)\n",
        "x = Conv2D(128, (3, 3), padding='same', activation='relu')(x)\n",
        "print(x.shape)\n",
        "x = Conv2D(128, (3, 3), padding='same', activation='relu')(x)\n",
        "print(x.shape)\n",
        "\n",
        "x = UpSampling2D((2, 2))(x)\n",
        "print(x.shape)\n",
        "x = Conv2D(64, (3, 3), padding='same', activation='relu')(x)\n",
        "print(x.shape)\n",
        "x = Conv2D(64, (3, 3), padding='same', activation='relu')(x)\n",
        "print(x.shape)\n",
        "\n",
        "h_decoded = Conv2D(3, (3, 3), activation='sigmoid', padding='same')(x)\n",
        "print(h_decoded.shape)\n"
      ],
      "execution_count": 0,
      "outputs": []
    },
    {
      "metadata": {
        "id": "HvIyKdANb80u",
        "colab_type": "code",
        "colab": {}
      },
      "cell_type": "code",
      "source": [
        "#outputs = decoder(encoder(inputs)[2])\n",
        "\n",
        "vae = Model(inputs, h_decoded)"
      ],
      "execution_count": 0,
      "outputs": []
    },
    {
      "metadata": {
        "id": "BVstW4dUP_xR",
        "colab_type": "code",
        "colab": {}
      },
      "cell_type": "code",
      "source": [
        "from keras import objectives\n",
        "def vae_loss(inputs, h_decoded):\n",
        "    xent_loss = K.mean(objectives.binary_crossentropy(inputs, h_decoded) *pic_size*pic_size*3)\n",
        "    kl_loss = - 0.5 * K.sum(1 + log_sigma - K.square(mu) - K.exp(log_sigma), axis=-1)\n",
        "    return xent_loss + kl_loss\n",
        "  \n",
        "vae.compile(optimizer='adam', loss=vae_loss)"
      ],
      "execution_count": 0,
      "outputs": []
    },
    {
      "metadata": {
        "id": "F-YtA8qIb8v2",
        "colab_type": "code",
        "colab": {}
      },
      "cell_type": "code",
      "source": [
        "vae.fit(x_train, x_train, batch_size = m, epochs = 20)"
      ],
      "execution_count": 0,
      "outputs": []
    },
    {
      "metadata": {
        "id": "VMmugfvdDM1w",
        "colab_type": "code",
        "colab": {
          "base_uri": "https://localhost:8080/",
          "height": 680
        },
        "outputId": "348fff1d-28db-4b34-b8e4-ba6f6f0c6e4b"
      },
      "cell_type": "code",
      "source": [
        "#Encoder Model\n",
        "#encoder = Model(inputs, [mu, log_sigma, z])\n",
        "encoder = Model(inputs, mu)\n",
        "encoder.summary()"
      ],
      "execution_count": 29,
      "outputs": [
        {
          "output_type": "stream",
          "text": [
            "_________________________________________________________________\n",
            "Layer (type)                 Output Shape              Param #   \n",
            "=================================================================\n",
            "input_1 (InputLayer)         (None, 32, 32, 3)         0         \n",
            "_________________________________________________________________\n",
            "conv2d_1 (Conv2D)            (None, 32, 32, 32)        896       \n",
            "_________________________________________________________________\n",
            "conv2d_2 (Conv2D)            (None, 32, 32, 32)        9248      \n",
            "_________________________________________________________________\n",
            "average_pooling2d_1 (Average (None, 16, 16, 32)        0         \n",
            "_________________________________________________________________\n",
            "dropout_1 (Dropout)          (None, 16, 16, 32)        0         \n",
            "_________________________________________________________________\n",
            "conv2d_3 (Conv2D)            (None, 16, 16, 64)        18496     \n",
            "_________________________________________________________________\n",
            "conv2d_4 (Conv2D)            (None, 16, 16, 64)        36928     \n",
            "_________________________________________________________________\n",
            "average_pooling2d_2 (Average (None, 8, 8, 64)          0         \n",
            "_________________________________________________________________\n",
            "dropout_2 (Dropout)          (None, 8, 8, 64)          0         \n",
            "_________________________________________________________________\n",
            "conv2d_5 (Conv2D)            (None, 8, 8, 128)         73856     \n",
            "_________________________________________________________________\n",
            "conv2d_6 (Conv2D)            (None, 8, 8, 128)         147584    \n",
            "_________________________________________________________________\n",
            "average_pooling2d_3 (Average (None, 4, 4, 128)         0         \n",
            "_________________________________________________________________\n",
            "dropout_3 (Dropout)          (None, 4, 4, 128)         0         \n",
            "_________________________________________________________________\n",
            "flatten_1 (Flatten)          (None, 2048)              0         \n",
            "_________________________________________________________________\n",
            "dense_1 (Dense)              (None, 32)                65568     \n",
            "_________________________________________________________________\n",
            "dense_2 (Dense)              (None, 2)                 66        \n",
            "=================================================================\n",
            "Total params: 352,642\n",
            "Trainable params: 352,642\n",
            "Non-trainable params: 0\n",
            "_________________________________________________________________\n"
          ],
          "name": "stdout"
        }
      ]
    },
    {
      "metadata": {
        "id": "Jq2qQCTGDegw",
        "colab_type": "code",
        "colab": {}
      },
      "cell_type": "code",
      "source": [
        "#decoder\n",
        "\n",
        "latent_inputs = Input(shape=(latent_dim,))\n",
        "print(latent_inputs.shape)\n",
        "\n",
        "x = Dense(4*4*pic_size, activation='relu')(latent_inputs)\n",
        "print(x.shape)\n",
        "x = Reshape((4,4,pic_size))(x)\n",
        "print(x.shape)\n",
        "\n",
        "\n",
        "x = UpSampling2D((2, 2))(x)\n",
        "print(x.shape)\n",
        "x = Conv2D(256, (3, 3), padding='same', activation='relu')(x)\n",
        "print(x.shape)\n",
        "x = Conv2D(256, (3, 3), padding='same', activation='relu')(x)\n",
        "print(x.shape)\n",
        "\n",
        "x = UpSampling2D((2, 2))(x)\n",
        "print(x.shape)\n",
        "x = Conv2D(128, (3, 3), padding='same', activation='relu')(x)\n",
        "print(x.shape)\n",
        "x = Conv2D(128, (3, 3), padding='same', activation='relu')(x)\n",
        "print(x.shape)\n",
        "\n",
        "x = UpSampling2D((2, 2))(x)\n",
        "print(x.shape)\n",
        "x = Conv2D(64, (3, 3), padding='same', activation='relu')(x)\n",
        "print(x.shape)\n",
        "x = Conv2D(64, (3, 3), padding='same', activation='relu')(x)\n",
        "print(x.shape)\n",
        "\n",
        "x = Conv2D(3, (3, 3), activation='sigmoid', padding='same')(x)\n",
        "print(x.shape)\n",
        "\n",
        "decoder = Model(latent_inputs, x)\n",
        "decoder.summary()\n"
      ],
      "execution_count": 0,
      "outputs": []
    },
    {
      "metadata": {
        "id": "JOE6CVzl8Ika",
        "colab_type": "code",
        "colab": {}
      },
      "cell_type": "code",
      "source": [
        "n = 15\n",
        "img_size = 32\n",
        "img_chns = 3\n",
        "figure = np.zeros((img_size * n, img_size * n, img_chns))\n",
        "\n",
        "for i in range(n):\n",
        "    for j in range(n):\n",
        "        z_sample = np.array([np.random.uniform(-1,1 ,size=latent_dim)])\n",
        "        x_decoded = decoder.predict(z_sample)\n",
        "        img = x_decoded[0].reshape(img_size, img_size, img_chns)\n",
        "        figure[i * img_size: (i + 1) * img_size,j * img_size: (j + 1) * img_size] = img\n",
        "\n",
        "\n",
        "plt.figure(figsize=(20, 20))\n",
        "plt.imshow(figure, cmap='Greys_r')\n",
        "plt.show()"
      ],
      "execution_count": 0,
      "outputs": []
    },
    {
      "metadata": {
        "id": "2GKRyH_tcKzD",
        "colab_type": "code",
        "colab": {}
      },
      "cell_type": "code",
      "source": [
        "from google.colab import drive\n",
        "drive.mount('/content/drive')\n",
        "add_path = '/content/drive/My Drive/Colab Notebooks/cifar_created_img/'\n",
        "\n",
        "'''\n",
        "for i in range(num_generated):\n",
        "    img = pred[i,:].reshape(28,28)\n",
        "    plt.imshow(img, cmap='Greys_r')\n",
        "    plt.savefig(add_path+str(i)+'.png')\n",
        "'''"
      ],
      "execution_count": 0,
      "outputs": []
    },
    {
      "metadata": {
        "id": "TUIt68a8v1IA",
        "colab_type": "code",
        "colab": {
          "base_uri": "https://localhost:8080/",
          "height": 4211
        },
        "outputId": "9a64fccb-3222-419c-9511-67530c77269b"
      },
      "cell_type": "code",
      "source": [
        "#%% training\n",
        "from skimage.io import imsave\n",
        "import itertools\n",
        "import os\n",
        "\n",
        "add_path = '/content/drive/My Drive/Colab Notebooks/cifar_created_img/'\n",
        "\n",
        "def save_batch_result(batch_data, path, epoch):\n",
        "    batch_size = batch_data.shape[0]\n",
        "    for i in range(batch_size):\n",
        "        f_name = str(epoch) + '_' + str(i) + '.png'\n",
        "        img_sav = batch_data[i]\n",
        "        imsave(os.path.join(path,f_name), img_sav)\n",
        "\n",
        "def show_result(batch_data, path, epoch, show):\n",
        "      size_figure_grid = 5\n",
        "      fig, ax = plt.subplots(size_figure_grid, size_figure_grid, figsize=(5, 5))\n",
        "      for i, j in itertools.product(range(size_figure_grid), range(size_figure_grid)):\n",
        "          ax[i, j].get_xaxis().set_visible(False)\n",
        "          ax[i, j].get_yaxis().set_visible(False)\n",
        "\n",
        "      for k in range(5*5):\n",
        "          i = k // 5\n",
        "          j = k % 5\n",
        "          ax[i, j].cla()\n",
        "          ax[i, j].imshow(batch_data[k])\n",
        "\n",
        "      label = 'Epoch {0}'.format(epoch)\n",
        "      fig.text(0.5, 0.04, label, ha='center')\n",
        "      plt.savefig(os.path.join(path , str(epoch)))\n",
        "\n",
        "      if show:\n",
        "          plt.show()\n",
        "      else:\n",
        "          plt.close()\n",
        "          \n",
        "def train_on_batch(x_batch, epoch):\n",
        "    x_r = x_batch\n",
        "    batchsize = x_r.shape[0]\n",
        "    loss = vae.train_on_batch(x_r,x_r)\n",
        "    return loss\n",
        "\n",
        "\n",
        "#%%%\n",
        "#%% Training \n",
        "n_epoch = 20  \n",
        "\n",
        "\n",
        "size = x_train.shape[0]\n",
        "loss = 0\n",
        "\n",
        "for epoch in range(n_epoch):\n",
        "    print (\"epochs: \", epoch)\n",
        "    print (\"Losses\", loss)\n",
        "    for i in range(int(size/m)):\n",
        "        idx = np.random.randint(0, x_train.shape[0], m)\n",
        "        imgs = x_train[idx]\n",
        "        loss = train_on_batch(imgs, epoch)\n",
        "    #save input image\n",
        "    save_batch_result(imgs[0:50], add_path, epoch)\n",
        "    #save generated image\n",
        "    f_latent = encoder.predict([imgs[0:50]])\n",
        "    f_image = decoder.predict([f_latent])\n",
        "    save_batch_result(f_image, add_path, epoch)\n",
        "    show_result(f_image, add_path, epoch, True)\n",
        "\n",
        "\n",
        "#%%\n"
      ],
      "execution_count": 0,
      "outputs": [
        {
          "output_type": "stream",
          "text": [
            "epochs:  0\n",
            "Losses 0\n"
          ],
          "name": "stdout"
        },
        {
          "output_type": "stream",
          "text": [
            "/usr/local/lib/python3.6/dist-packages/skimage/util/dtype.py:122: UserWarning: Possible precision loss when converting from float32 to uint8\n",
            "  .format(dtypeobj_in, dtypeobj_out))\n",
            "/usr/local/lib/python3.6/dist-packages/skimage/io/_io.py:132: UserWarning: /content/drive/My Drive/Colab Notebooks/cifar_created_img/0_0.png is a low contrast image\n",
            "  warn('%s is a low contrast image' % fname)\n",
            "/usr/local/lib/python3.6/dist-packages/skimage/io/_io.py:132: UserWarning: /content/drive/My Drive/Colab Notebooks/cifar_created_img/0_1.png is a low contrast image\n",
            "  warn('%s is a low contrast image' % fname)\n",
            "/usr/local/lib/python3.6/dist-packages/skimage/io/_io.py:132: UserWarning: /content/drive/My Drive/Colab Notebooks/cifar_created_img/0_2.png is a low contrast image\n",
            "  warn('%s is a low contrast image' % fname)\n",
            "/usr/local/lib/python3.6/dist-packages/skimage/io/_io.py:132: UserWarning: /content/drive/My Drive/Colab Notebooks/cifar_created_img/0_3.png is a low contrast image\n",
            "  warn('%s is a low contrast image' % fname)\n",
            "/usr/local/lib/python3.6/dist-packages/skimage/io/_io.py:132: UserWarning: /content/drive/My Drive/Colab Notebooks/cifar_created_img/0_4.png is a low contrast image\n",
            "  warn('%s is a low contrast image' % fname)\n",
            "/usr/local/lib/python3.6/dist-packages/skimage/io/_io.py:132: UserWarning: /content/drive/My Drive/Colab Notebooks/cifar_created_img/0_5.png is a low contrast image\n",
            "  warn('%s is a low contrast image' % fname)\n",
            "/usr/local/lib/python3.6/dist-packages/skimage/io/_io.py:132: UserWarning: /content/drive/My Drive/Colab Notebooks/cifar_created_img/0_6.png is a low contrast image\n",
            "  warn('%s is a low contrast image' % fname)\n",
            "/usr/local/lib/python3.6/dist-packages/skimage/io/_io.py:132: UserWarning: /content/drive/My Drive/Colab Notebooks/cifar_created_img/0_7.png is a low contrast image\n",
            "  warn('%s is a low contrast image' % fname)\n",
            "/usr/local/lib/python3.6/dist-packages/skimage/io/_io.py:132: UserWarning: /content/drive/My Drive/Colab Notebooks/cifar_created_img/0_8.png is a low contrast image\n",
            "  warn('%s is a low contrast image' % fname)\n",
            "/usr/local/lib/python3.6/dist-packages/skimage/io/_io.py:132: UserWarning: /content/drive/My Drive/Colab Notebooks/cifar_created_img/0_9.png is a low contrast image\n",
            "  warn('%s is a low contrast image' % fname)\n",
            "/usr/local/lib/python3.6/dist-packages/skimage/io/_io.py:132: UserWarning: /content/drive/My Drive/Colab Notebooks/cifar_created_img/0_10.png is a low contrast image\n",
            "  warn('%s is a low contrast image' % fname)\n",
            "/usr/local/lib/python3.6/dist-packages/skimage/io/_io.py:132: UserWarning: /content/drive/My Drive/Colab Notebooks/cifar_created_img/0_11.png is a low contrast image\n",
            "  warn('%s is a low contrast image' % fname)\n",
            "/usr/local/lib/python3.6/dist-packages/skimage/io/_io.py:132: UserWarning: /content/drive/My Drive/Colab Notebooks/cifar_created_img/0_12.png is a low contrast image\n",
            "  warn('%s is a low contrast image' % fname)\n",
            "/usr/local/lib/python3.6/dist-packages/skimage/io/_io.py:132: UserWarning: /content/drive/My Drive/Colab Notebooks/cifar_created_img/0_13.png is a low contrast image\n",
            "  warn('%s is a low contrast image' % fname)\n",
            "/usr/local/lib/python3.6/dist-packages/skimage/io/_io.py:132: UserWarning: /content/drive/My Drive/Colab Notebooks/cifar_created_img/0_14.png is a low contrast image\n",
            "  warn('%s is a low contrast image' % fname)\n",
            "/usr/local/lib/python3.6/dist-packages/skimage/io/_io.py:132: UserWarning: /content/drive/My Drive/Colab Notebooks/cifar_created_img/0_15.png is a low contrast image\n",
            "  warn('%s is a low contrast image' % fname)\n",
            "/usr/local/lib/python3.6/dist-packages/skimage/io/_io.py:132: UserWarning: /content/drive/My Drive/Colab Notebooks/cifar_created_img/0_16.png is a low contrast image\n",
            "  warn('%s is a low contrast image' % fname)\n",
            "/usr/local/lib/python3.6/dist-packages/skimage/io/_io.py:132: UserWarning: /content/drive/My Drive/Colab Notebooks/cifar_created_img/0_17.png is a low contrast image\n",
            "  warn('%s is a low contrast image' % fname)\n",
            "/usr/local/lib/python3.6/dist-packages/skimage/io/_io.py:132: UserWarning: /content/drive/My Drive/Colab Notebooks/cifar_created_img/0_18.png is a low contrast image\n",
            "  warn('%s is a low contrast image' % fname)\n",
            "/usr/local/lib/python3.6/dist-packages/skimage/io/_io.py:132: UserWarning: /content/drive/My Drive/Colab Notebooks/cifar_created_img/0_19.png is a low contrast image\n",
            "  warn('%s is a low contrast image' % fname)\n",
            "/usr/local/lib/python3.6/dist-packages/skimage/io/_io.py:132: UserWarning: /content/drive/My Drive/Colab Notebooks/cifar_created_img/0_20.png is a low contrast image\n",
            "  warn('%s is a low contrast image' % fname)\n",
            "/usr/local/lib/python3.6/dist-packages/skimage/io/_io.py:132: UserWarning: /content/drive/My Drive/Colab Notebooks/cifar_created_img/0_21.png is a low contrast image\n",
            "  warn('%s is a low contrast image' % fname)\n",
            "/usr/local/lib/python3.6/dist-packages/skimage/io/_io.py:132: UserWarning: /content/drive/My Drive/Colab Notebooks/cifar_created_img/0_22.png is a low contrast image\n",
            "  warn('%s is a low contrast image' % fname)\n",
            "/usr/local/lib/python3.6/dist-packages/skimage/io/_io.py:132: UserWarning: /content/drive/My Drive/Colab Notebooks/cifar_created_img/0_23.png is a low contrast image\n",
            "  warn('%s is a low contrast image' % fname)\n",
            "/usr/local/lib/python3.6/dist-packages/skimage/io/_io.py:132: UserWarning: /content/drive/My Drive/Colab Notebooks/cifar_created_img/0_24.png is a low contrast image\n",
            "  warn('%s is a low contrast image' % fname)\n",
            "/usr/local/lib/python3.6/dist-packages/skimage/io/_io.py:132: UserWarning: /content/drive/My Drive/Colab Notebooks/cifar_created_img/0_25.png is a low contrast image\n",
            "  warn('%s is a low contrast image' % fname)\n",
            "/usr/local/lib/python3.6/dist-packages/skimage/io/_io.py:132: UserWarning: /content/drive/My Drive/Colab Notebooks/cifar_created_img/0_26.png is a low contrast image\n",
            "  warn('%s is a low contrast image' % fname)\n",
            "/usr/local/lib/python3.6/dist-packages/skimage/io/_io.py:132: UserWarning: /content/drive/My Drive/Colab Notebooks/cifar_created_img/0_27.png is a low contrast image\n",
            "  warn('%s is a low contrast image' % fname)\n",
            "/usr/local/lib/python3.6/dist-packages/skimage/io/_io.py:132: UserWarning: /content/drive/My Drive/Colab Notebooks/cifar_created_img/0_28.png is a low contrast image\n",
            "  warn('%s is a low contrast image' % fname)\n",
            "/usr/local/lib/python3.6/dist-packages/skimage/io/_io.py:132: UserWarning: /content/drive/My Drive/Colab Notebooks/cifar_created_img/0_29.png is a low contrast image\n",
            "  warn('%s is a low contrast image' % fname)\n",
            "/usr/local/lib/python3.6/dist-packages/skimage/io/_io.py:132: UserWarning: /content/drive/My Drive/Colab Notebooks/cifar_created_img/0_30.png is a low contrast image\n",
            "  warn('%s is a low contrast image' % fname)\n",
            "/usr/local/lib/python3.6/dist-packages/skimage/io/_io.py:132: UserWarning: /content/drive/My Drive/Colab Notebooks/cifar_created_img/0_31.png is a low contrast image\n",
            "  warn('%s is a low contrast image' % fname)\n",
            "/usr/local/lib/python3.6/dist-packages/skimage/io/_io.py:132: UserWarning: /content/drive/My Drive/Colab Notebooks/cifar_created_img/0_32.png is a low contrast image\n",
            "  warn('%s is a low contrast image' % fname)\n",
            "/usr/local/lib/python3.6/dist-packages/skimage/io/_io.py:132: UserWarning: /content/drive/My Drive/Colab Notebooks/cifar_created_img/0_33.png is a low contrast image\n",
            "  warn('%s is a low contrast image' % fname)\n",
            "/usr/local/lib/python3.6/dist-packages/skimage/io/_io.py:132: UserWarning: /content/drive/My Drive/Colab Notebooks/cifar_created_img/0_34.png is a low contrast image\n",
            "  warn('%s is a low contrast image' % fname)\n",
            "/usr/local/lib/python3.6/dist-packages/skimage/io/_io.py:132: UserWarning: /content/drive/My Drive/Colab Notebooks/cifar_created_img/0_35.png is a low contrast image\n",
            "  warn('%s is a low contrast image' % fname)\n",
            "/usr/local/lib/python3.6/dist-packages/skimage/io/_io.py:132: UserWarning: /content/drive/My Drive/Colab Notebooks/cifar_created_img/0_36.png is a low contrast image\n",
            "  warn('%s is a low contrast image' % fname)\n",
            "/usr/local/lib/python3.6/dist-packages/skimage/io/_io.py:132: UserWarning: /content/drive/My Drive/Colab Notebooks/cifar_created_img/0_37.png is a low contrast image\n",
            "  warn('%s is a low contrast image' % fname)\n",
            "/usr/local/lib/python3.6/dist-packages/skimage/io/_io.py:132: UserWarning: /content/drive/My Drive/Colab Notebooks/cifar_created_img/0_38.png is a low contrast image\n",
            "  warn('%s is a low contrast image' % fname)\n",
            "/usr/local/lib/python3.6/dist-packages/skimage/io/_io.py:132: UserWarning: /content/drive/My Drive/Colab Notebooks/cifar_created_img/0_39.png is a low contrast image\n",
            "  warn('%s is a low contrast image' % fname)\n",
            "/usr/local/lib/python3.6/dist-packages/skimage/io/_io.py:132: UserWarning: /content/drive/My Drive/Colab Notebooks/cifar_created_img/0_40.png is a low contrast image\n",
            "  warn('%s is a low contrast image' % fname)\n",
            "/usr/local/lib/python3.6/dist-packages/skimage/io/_io.py:132: UserWarning: /content/drive/My Drive/Colab Notebooks/cifar_created_img/0_41.png is a low contrast image\n",
            "  warn('%s is a low contrast image' % fname)\n",
            "/usr/local/lib/python3.6/dist-packages/skimage/io/_io.py:132: UserWarning: /content/drive/My Drive/Colab Notebooks/cifar_created_img/0_42.png is a low contrast image\n",
            "  warn('%s is a low contrast image' % fname)\n",
            "/usr/local/lib/python3.6/dist-packages/skimage/io/_io.py:132: UserWarning: /content/drive/My Drive/Colab Notebooks/cifar_created_img/0_43.png is a low contrast image\n",
            "  warn('%s is a low contrast image' % fname)\n",
            "/usr/local/lib/python3.6/dist-packages/skimage/io/_io.py:132: UserWarning: /content/drive/My Drive/Colab Notebooks/cifar_created_img/0_44.png is a low contrast image\n",
            "  warn('%s is a low contrast image' % fname)\n",
            "/usr/local/lib/python3.6/dist-packages/skimage/io/_io.py:132: UserWarning: /content/drive/My Drive/Colab Notebooks/cifar_created_img/0_45.png is a low contrast image\n",
            "  warn('%s is a low contrast image' % fname)\n",
            "/usr/local/lib/python3.6/dist-packages/skimage/io/_io.py:132: UserWarning: /content/drive/My Drive/Colab Notebooks/cifar_created_img/0_46.png is a low contrast image\n",
            "  warn('%s is a low contrast image' % fname)\n",
            "/usr/local/lib/python3.6/dist-packages/skimage/io/_io.py:132: UserWarning: /content/drive/My Drive/Colab Notebooks/cifar_created_img/0_47.png is a low contrast image\n",
            "  warn('%s is a low contrast image' % fname)\n",
            "/usr/local/lib/python3.6/dist-packages/skimage/io/_io.py:132: UserWarning: /content/drive/My Drive/Colab Notebooks/cifar_created_img/0_48.png is a low contrast image\n",
            "  warn('%s is a low contrast image' % fname)\n",
            "/usr/local/lib/python3.6/dist-packages/skimage/io/_io.py:132: UserWarning: /content/drive/My Drive/Colab Notebooks/cifar_created_img/0_49.png is a low contrast image\n",
            "  warn('%s is a low contrast image' % fname)\n"
          ],
          "name": "stderr"
        },
        {
          "output_type": "display_data",
          "data": {
            "image/png": "[encoded data removed]",
            "text/plain": [
              "<matplotlib.figure.Figure at 0x7f5926b8f128>"
            ]
          },
          "metadata": {
            "tags": []
          }
        },
        {
          "output_type": "stream",
          "text": [
            "epochs:  1\n",
            "Losses 1952.4938\n"
          ],
          "name": "stdout"
        },
        {
          "output_type": "stream",
          "text": [
            "/usr/local/lib/python3.6/dist-packages/skimage/io/_io.py:132: UserWarning: /content/drive/My Drive/Colab Notebooks/cifar_created_img/1_0.png is a low contrast image\n",
            "  warn('%s is a low contrast image' % fname)\n",
            "/usr/local/lib/python3.6/dist-packages/skimage/io/_io.py:132: UserWarning: /content/drive/My Drive/Colab Notebooks/cifar_created_img/1_1.png is a low contrast image\n",
            "  warn('%s is a low contrast image' % fname)\n",
            "/usr/local/lib/python3.6/dist-packages/skimage/io/_io.py:132: UserWarning: /content/drive/My Drive/Colab Notebooks/cifar_created_img/1_2.png is a low contrast image\n",
            "  warn('%s is a low contrast image' % fname)\n",
            "/usr/local/lib/python3.6/dist-packages/skimage/io/_io.py:132: UserWarning: /content/drive/My Drive/Colab Notebooks/cifar_created_img/1_3.png is a low contrast image\n",
            "  warn('%s is a low contrast image' % fname)\n",
            "/usr/local/lib/python3.6/dist-packages/skimage/io/_io.py:132: UserWarning: /content/drive/My Drive/Colab Notebooks/cifar_created_img/1_4.png is a low contrast image\n",
            "  warn('%s is a low contrast image' % fname)\n",
            "/usr/local/lib/python3.6/dist-packages/skimage/io/_io.py:132: UserWarning: /content/drive/My Drive/Colab Notebooks/cifar_created_img/1_5.png is a low contrast image\n",
            "  warn('%s is a low contrast image' % fname)\n",
            "/usr/local/lib/python3.6/dist-packages/skimage/io/_io.py:132: UserWarning: /content/drive/My Drive/Colab Notebooks/cifar_created_img/1_6.png is a low contrast image\n",
            "  warn('%s is a low contrast image' % fname)\n",
            "/usr/local/lib/python3.6/dist-packages/skimage/io/_io.py:132: UserWarning: /content/drive/My Drive/Colab Notebooks/cifar_created_img/1_7.png is a low contrast image\n",
            "  warn('%s is a low contrast image' % fname)\n",
            "/usr/local/lib/python3.6/dist-packages/skimage/io/_io.py:132: UserWarning: /content/drive/My Drive/Colab Notebooks/cifar_created_img/1_8.png is a low contrast image\n",
            "  warn('%s is a low contrast image' % fname)\n",
            "/usr/local/lib/python3.6/dist-packages/skimage/io/_io.py:132: UserWarning: /content/drive/My Drive/Colab Notebooks/cifar_created_img/1_9.png is a low contrast image\n",
            "  warn('%s is a low contrast image' % fname)\n",
            "/usr/local/lib/python3.6/dist-packages/skimage/io/_io.py:132: UserWarning: /content/drive/My Drive/Colab Notebooks/cifar_created_img/1_10.png is a low contrast image\n",
            "  warn('%s is a low contrast image' % fname)\n",
            "/usr/local/lib/python3.6/dist-packages/skimage/io/_io.py:132: UserWarning: /content/drive/My Drive/Colab Notebooks/cifar_created_img/1_11.png is a low contrast image\n",
            "  warn('%s is a low contrast image' % fname)\n",
            "/usr/local/lib/python3.6/dist-packages/skimage/io/_io.py:132: UserWarning: /content/drive/My Drive/Colab Notebooks/cifar_created_img/1_12.png is a low contrast image\n",
            "  warn('%s is a low contrast image' % fname)\n",
            "/usr/local/lib/python3.6/dist-packages/skimage/io/_io.py:132: UserWarning: /content/drive/My Drive/Colab Notebooks/cifar_created_img/1_13.png is a low contrast image\n",
            "  warn('%s is a low contrast image' % fname)\n",
            "/usr/local/lib/python3.6/dist-packages/skimage/io/_io.py:132: UserWarning: /content/drive/My Drive/Colab Notebooks/cifar_created_img/1_14.png is a low contrast image\n",
            "  warn('%s is a low contrast image' % fname)\n",
            "/usr/local/lib/python3.6/dist-packages/skimage/io/_io.py:132: UserWarning: /content/drive/My Drive/Colab Notebooks/cifar_created_img/1_15.png is a low contrast image\n",
            "  warn('%s is a low contrast image' % fname)\n",
            "/usr/local/lib/python3.6/dist-packages/skimage/io/_io.py:132: UserWarning: /content/drive/My Drive/Colab Notebooks/cifar_created_img/1_16.png is a low contrast image\n",
            "  warn('%s is a low contrast image' % fname)\n",
            "/usr/local/lib/python3.6/dist-packages/skimage/io/_io.py:132: UserWarning: /content/drive/My Drive/Colab Notebooks/cifar_created_img/1_17.png is a low contrast image\n",
            "  warn('%s is a low contrast image' % fname)\n",
            "/usr/local/lib/python3.6/dist-packages/skimage/io/_io.py:132: UserWarning: /content/drive/My Drive/Colab Notebooks/cifar_created_img/1_18.png is a low contrast image\n",
            "  warn('%s is a low contrast image' % fname)\n",
            "/usr/local/lib/python3.6/dist-packages/skimage/io/_io.py:132: UserWarning: /content/drive/My Drive/Colab Notebooks/cifar_created_img/1_19.png is a low contrast image\n",
            "  warn('%s is a low contrast image' % fname)\n",
            "/usr/local/lib/python3.6/dist-packages/skimage/io/_io.py:132: UserWarning: /content/drive/My Drive/Colab Notebooks/cifar_created_img/1_20.png is a low contrast image\n",
            "  warn('%s is a low contrast image' % fname)\n",
            "/usr/local/lib/python3.6/dist-packages/skimage/io/_io.py:132: UserWarning: /content/drive/My Drive/Colab Notebooks/cifar_created_img/1_21.png is a low contrast image\n",
            "  warn('%s is a low contrast image' % fname)\n",
            "/usr/local/lib/python3.6/dist-packages/skimage/io/_io.py:132: UserWarning: /content/drive/My Drive/Colab Notebooks/cifar_created_img/1_22.png is a low contrast image\n",
            "  warn('%s is a low contrast image' % fname)\n",
            "/usr/local/lib/python3.6/dist-packages/skimage/io/_io.py:132: UserWarning: /content/drive/My Drive/Colab Notebooks/cifar_created_img/1_23.png is a low contrast image\n",
            "  warn('%s is a low contrast image' % fname)\n",
            "/usr/local/lib/python3.6/dist-packages/skimage/io/_io.py:132: UserWarning: /content/drive/My Drive/Colab Notebooks/cifar_created_img/1_24.png is a low contrast image\n",
            "  warn('%s is a low contrast image' % fname)\n",
            "/usr/local/lib/python3.6/dist-packages/skimage/io/_io.py:132: UserWarning: /content/drive/My Drive/Colab Notebooks/cifar_created_img/1_25.png is a low contrast image\n",
            "  warn('%s is a low contrast image' % fname)\n",
            "/usr/local/lib/python3.6/dist-packages/skimage/io/_io.py:132: UserWarning: /content/drive/My Drive/Colab Notebooks/cifar_created_img/1_26.png is a low contrast image\n",
            "  warn('%s is a low contrast image' % fname)\n",
            "/usr/local/lib/python3.6/dist-packages/skimage/io/_io.py:132: UserWarning: /content/drive/My Drive/Colab Notebooks/cifar_created_img/1_27.png is a low contrast image\n",
            "  warn('%s is a low contrast image' % fname)\n",
            "/usr/local/lib/python3.6/dist-packages/skimage/io/_io.py:132: UserWarning: /content/drive/My Drive/Colab Notebooks/cifar_created_img/1_28.png is a low contrast image\n",
            "  warn('%s is a low contrast image' % fname)\n",
            "/usr/local/lib/python3.6/dist-packages/skimage/io/_io.py:132: UserWarning: /content/drive/My Drive/Colab Notebooks/cifar_created_img/1_29.png is a low contrast image\n",
            "  warn('%s is a low contrast image' % fname)\n",
            "/usr/local/lib/python3.6/dist-packages/skimage/io/_io.py:132: UserWarning: /content/drive/My Drive/Colab Notebooks/cifar_created_img/1_30.png is a low contrast image\n",
            "  warn('%s is a low contrast image' % fname)\n",
            "/usr/local/lib/python3.6/dist-packages/skimage/io/_io.py:132: UserWarning: /content/drive/My Drive/Colab Notebooks/cifar_created_img/1_31.png is a low contrast image\n",
            "  warn('%s is a low contrast image' % fname)\n",
            "/usr/local/lib/python3.6/dist-packages/skimage/io/_io.py:132: UserWarning: /content/drive/My Drive/Colab Notebooks/cifar_created_img/1_32.png is a low contrast image\n",
            "  warn('%s is a low contrast image' % fname)\n",
            "/usr/local/lib/python3.6/dist-packages/skimage/io/_io.py:132: UserWarning: /content/drive/My Drive/Colab Notebooks/cifar_created_img/1_33.png is a low contrast image\n",
            "  warn('%s is a low contrast image' % fname)\n",
            "/usr/local/lib/python3.6/dist-packages/skimage/io/_io.py:132: UserWarning: /content/drive/My Drive/Colab Notebooks/cifar_created_img/1_34.png is a low contrast image\n",
            "  warn('%s is a low contrast image' % fname)\n",
            "/usr/local/lib/python3.6/dist-packages/skimage/io/_io.py:132: UserWarning: /content/drive/My Drive/Colab Notebooks/cifar_created_img/1_35.png is a low contrast image\n",
            "  warn('%s is a low contrast image' % fname)\n",
            "/usr/local/lib/python3.6/dist-packages/skimage/io/_io.py:132: UserWarning: /content/drive/My Drive/Colab Notebooks/cifar_created_img/1_36.png is a low contrast image\n",
            "  warn('%s is a low contrast image' % fname)\n",
            "/usr/local/lib/python3.6/dist-packages/skimage/io/_io.py:132: UserWarning: /content/drive/My Drive/Colab Notebooks/cifar_created_img/1_37.png is a low contrast image\n",
            "  warn('%s is a low contrast image' % fname)\n",
            "/usr/local/lib/python3.6/dist-packages/skimage/io/_io.py:132: UserWarning: /content/drive/My Drive/Colab Notebooks/cifar_created_img/1_38.png is a low contrast image\n",
            "  warn('%s is a low contrast image' % fname)\n",
            "/usr/local/lib/python3.6/dist-packages/skimage/io/_io.py:132: UserWarning: /content/drive/My Drive/Colab Notebooks/cifar_created_img/1_39.png is a low contrast image\n",
            "  warn('%s is a low contrast image' % fname)\n",
            "/usr/local/lib/python3.6/dist-packages/skimage/io/_io.py:132: UserWarning: /content/drive/My Drive/Colab Notebooks/cifar_created_img/1_40.png is a low contrast image\n",
            "  warn('%s is a low contrast image' % fname)\n",
            "/usr/local/lib/python3.6/dist-packages/skimage/io/_io.py:132: UserWarning: /content/drive/My Drive/Colab Notebooks/cifar_created_img/1_41.png is a low contrast image\n",
            "  warn('%s is a low contrast image' % fname)\n",
            "/usr/local/lib/python3.6/dist-packages/skimage/io/_io.py:132: UserWarning: /content/drive/My Drive/Colab Notebooks/cifar_created_img/1_42.png is a low contrast image\n",
            "  warn('%s is a low contrast image' % fname)\n",
            "/usr/local/lib/python3.6/dist-packages/skimage/io/_io.py:132: UserWarning: /content/drive/My Drive/Colab Notebooks/cifar_created_img/1_43.png is a low contrast image\n",
            "  warn('%s is a low contrast image' % fname)\n",
            "/usr/local/lib/python3.6/dist-packages/skimage/io/_io.py:132: UserWarning: /content/drive/My Drive/Colab Notebooks/cifar_created_img/1_44.png is a low contrast image\n",
            "  warn('%s is a low contrast image' % fname)\n",
            "/usr/local/lib/python3.6/dist-packages/skimage/io/_io.py:132: UserWarning: /content/drive/My Drive/Colab Notebooks/cifar_created_img/1_45.png is a low contrast image\n",
            "  warn('%s is a low contrast image' % fname)\n",
            "/usr/local/lib/python3.6/dist-packages/skimage/io/_io.py:132: UserWarning: /content/drive/My Drive/Colab Notebooks/cifar_created_img/1_46.png is a low contrast image\n",
            "  warn('%s is a low contrast image' % fname)\n",
            "/usr/local/lib/python3.6/dist-packages/skimage/io/_io.py:132: UserWarning: /content/drive/My Drive/Colab Notebooks/cifar_created_img/1_47.png is a low contrast image\n",
            "  warn('%s is a low contrast image' % fname)\n",
            "/usr/local/lib/python3.6/dist-packages/skimage/io/_io.py:132: UserWarning: /content/drive/My Drive/Colab Notebooks/cifar_created_img/1_48.png is a low contrast image\n",
            "  warn('%s is a low contrast image' % fname)\n",
            "/usr/local/lib/python3.6/dist-packages/skimage/io/_io.py:132: UserWarning: /content/drive/My Drive/Colab Notebooks/cifar_created_img/1_49.png is a low contrast image\n",
            "  warn('%s is a low contrast image' % fname)\n"
          ],
          "name": "stderr"
        },
        {
          "output_type": "display_data",
          "data": {
            "image/png": "[encoded data removed]",
            "text/plain": [
              "<matplotlib.figure.Figure at 0x7f5926b82828>"
            ]
          },
          "metadata": {
            "tags": []
          }
        },
        {
          "output_type": "stream",
          "text": [
            "epochs:  2\n",
            "Losses 1944.2766\n"
          ],
          "name": "stdout"
        }
      ]
    }
  ]
}